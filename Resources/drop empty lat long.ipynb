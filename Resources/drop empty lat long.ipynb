{
 "cells": [
  {
   "cell_type": "code",
   "execution_count": 3,
   "metadata": {},
   "outputs": [],
   "source": [
    "import os\n",
    "import pandas as pd\n",
    "import numpy as np\n",
    "import requests\n",
    "import json\n",
    "import time\n",
    "import pandas as pd\n",
    "import geopandas as gpd\n",
    "import re\n",
    "import matplotlib.pyplot as plt\n",
    "\n",
    "from bs4 import BeautifulSoup as bs\n",
    "from splinter import Browser\n",
    "from sqlalchemy import create_engine\n",
    "from shapely.geometry import Point, Polygon\n",
    "from citipy import citipy\n",
    "from matplotlib import pyplot\n",
    "from shapely.geometry import LineString\n",
    "from descartes import PolygonPatch"
   ]
  },
  {
   "cell_type": "code",
   "execution_count": 11,
   "metadata": {},
   "outputs": [
    {
     "data": {
      "text/plain": [
       "Date / Time    6101\n",
       "City           6101\n",
       "State          6101\n",
       "Shape          5388\n",
       "Duration       5347\n",
       "Summary        6087\n",
       "Posted         6101\n",
       "Lat            6096\n",
       "Lng            6096\n",
       "dtype: int64"
      ]
     },
     "execution_count": 11,
     "metadata": {},
     "output_type": "execute_result"
    }
   ],
   "source": [
    "csv_file = \"clean_aliens_lat_long.csv\"\n",
    "df = pd.read_csv(csv_file)\n",
    "df.count()"
   ]
  },
  {
   "cell_type": "code",
   "execution_count": 12,
   "metadata": {},
   "outputs": [
    {
     "data": {
      "text/plain": [
       "Date / Time    6096\n",
       "City           6096\n",
       "State          6096\n",
       "Shape          5383\n",
       "Duration       5343\n",
       "Summary        6082\n",
       "Posted         6096\n",
       "Lat            6096\n",
       "Lng            6096\n",
       "dtype: int64"
      ]
     },
     "execution_count": 12,
     "metadata": {},
     "output_type": "execute_result"
    }
   ],
   "source": [
    "df2 = df.copy()\n",
    "\n",
    "data = df2.dropna(subset=['Lat', 'Lng'])\n",
    "\n",
    "data.count()"
   ]
  },
  {
   "cell_type": "code",
   "execution_count": 13,
   "metadata": {},
   "outputs": [
    {
     "data": {
      "text/html": [
       "<div>\n",
       "<style scoped>\n",
       "    .dataframe tbody tr th:only-of-type {\n",
       "        vertical-align: middle;\n",
       "    }\n",
       "\n",
       "    .dataframe tbody tr th {\n",
       "        vertical-align: top;\n",
       "    }\n",
       "\n",
       "    .dataframe thead th {\n",
       "        text-align: right;\n",
       "    }\n",
       "</style>\n",
       "<table border=\"1\" class=\"dataframe\">\n",
       "  <thead>\n",
       "    <tr style=\"text-align: right;\">\n",
       "      <th></th>\n",
       "      <th>Date / Time</th>\n",
       "      <th>City</th>\n",
       "      <th>State</th>\n",
       "      <th>Shape</th>\n",
       "      <th>Duration</th>\n",
       "      <th>Summary</th>\n",
       "      <th>Posted</th>\n",
       "      <th>Lat</th>\n",
       "      <th>Lng</th>\n",
       "    </tr>\n",
       "  </thead>\n",
       "  <tbody>\n",
       "    <tr>\n",
       "      <td>0</td>\n",
       "      <td>2/24/20 12:45</td>\n",
       "      <td>Chester</td>\n",
       "      <td>NH</td>\n",
       "      <td>Disk</td>\n",
       "      <td>~1 minute</td>\n",
       "      <td>12:45 PM-shiny, disk/saucer shape seen in dayl...</td>\n",
       "      <td>2/25/20</td>\n",
       "      <td>42.956753</td>\n",
       "      <td>-71.257285</td>\n",
       "    </tr>\n",
       "    <tr>\n",
       "      <td>1</td>\n",
       "      <td>2/24/20 06:00</td>\n",
       "      <td>Medford</td>\n",
       "      <td>OR</td>\n",
       "      <td>Formation</td>\n",
       "      <td>5 minutes</td>\n",
       "      <td>20 lights in formation across sky. ((\"Starlink...</td>\n",
       "      <td>2/25/20</td>\n",
       "      <td>42.326515</td>\n",
       "      <td>-122.875595</td>\n",
       "    </tr>\n",
       "    <tr>\n",
       "      <td>2</td>\n",
       "      <td>2/24/20 05:45</td>\n",
       "      <td>Medford</td>\n",
       "      <td>OR</td>\n",
       "      <td>Other</td>\n",
       "      <td>10 minutes</td>\n",
       "      <td>AT 545 AM I LOOKED UP AND SAID WHAT THE HELL I...</td>\n",
       "      <td>2/25/20</td>\n",
       "      <td>42.326515</td>\n",
       "      <td>-122.875595</td>\n",
       "    </tr>\n",
       "    <tr>\n",
       "      <td>3</td>\n",
       "      <td>2/24/20 05:30</td>\n",
       "      <td>Charlestown</td>\n",
       "      <td>RI</td>\n",
       "      <td>Light</td>\n",
       "      <td>2-3 minutes</td>\n",
       "      <td>light moving at a high rate of speed</td>\n",
       "      <td>2/25/20</td>\n",
       "      <td>41.383216</td>\n",
       "      <td>-71.641874</td>\n",
       "    </tr>\n",
       "    <tr>\n",
       "      <td>4</td>\n",
       "      <td>2/24/20 05:21</td>\n",
       "      <td>Edison</td>\n",
       "      <td>NJ</td>\n",
       "      <td>Light</td>\n",
       "      <td>25 seconds</td>\n",
       "      <td>DURING ISS PASS VIEWING SMALL OBJECT APPEARS T...</td>\n",
       "      <td>2/25/20</td>\n",
       "      <td>40.518715</td>\n",
       "      <td>-74.412095</td>\n",
       "    </tr>\n",
       "  </tbody>\n",
       "</table>\n",
       "</div>"
      ],
      "text/plain": [
       "     Date / Time         City State      Shape     Duration  \\\n",
       "0  2/24/20 12:45      Chester    NH       Disk    ~1 minute   \n",
       "1  2/24/20 06:00      Medford    OR  Formation    5 minutes   \n",
       "2  2/24/20 05:45      Medford    OR      Other   10 minutes   \n",
       "3  2/24/20 05:30  Charlestown    RI      Light  2-3 minutes   \n",
       "4  2/24/20 05:21       Edison    NJ      Light   25 seconds   \n",
       "\n",
       "                                             Summary   Posted        Lat  \\\n",
       "0  12:45 PM-shiny, disk/saucer shape seen in dayl...  2/25/20  42.956753   \n",
       "1  20 lights in formation across sky. ((\"Starlink...  2/25/20  42.326515   \n",
       "2  AT 545 AM I LOOKED UP AND SAID WHAT THE HELL I...  2/25/20  42.326515   \n",
       "3               light moving at a high rate of speed  2/25/20  41.383216   \n",
       "4  DURING ISS PASS VIEWING SMALL OBJECT APPEARS T...  2/25/20  40.518715   \n",
       "\n",
       "          Lng  \n",
       "0  -71.257285  \n",
       "1 -122.875595  \n",
       "2 -122.875595  \n",
       "3  -71.641874  \n",
       "4  -74.412095  "
      ]
     },
     "execution_count": 13,
     "metadata": {},
     "output_type": "execute_result"
    }
   ],
   "source": [
    "data.head()"
   ]
  },
  {
   "cell_type": "code",
   "execution_count": null,
   "metadata": {},
   "outputs": [],
   "source": []
  }
 ],
 "metadata": {
  "kernelspec": {
   "display_name": "Python 3",
   "language": "python",
   "name": "python3"
  },
  "language_info": {
   "codemirror_mode": {
    "name": "ipython",
    "version": 3
   },
   "file_extension": ".py",
   "mimetype": "text/x-python",
   "name": "python",
   "nbconvert_exporter": "python",
   "pygments_lexer": "ipython3",
   "version": "3.7.4"
  }
 },
 "nbformat": 4,
 "nbformat_minor": 2
}

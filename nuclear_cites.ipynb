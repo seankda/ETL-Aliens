{
 "cells": [
  {
   "cell_type": "code",
   "execution_count": 1,
   "metadata": {},
   "outputs": [],
   "source": [
    "# Insert code here.\n",
    "# Dependencies\n",
    "import pandas as pd\n",
    "import re\n",
    "import plotly.graph_objects as go\n",
    "\n",
    "%matplotlib inline"
   ]
  },
  {
   "cell_type": "code",
   "execution_count": 2,
   "metadata": {},
   "outputs": [],
   "source": [
    "# URL for the source of the data on Wikipedia\n",
    "url = 'https://en.wikipedia.org/wiki/List_of_nuclear_power_stations'"
   ]
  },
  {
   "cell_type": "code",
   "execution_count": 3,
   "metadata": {},
   "outputs": [
    {
     "data": {
      "text/plain": [
       "[                                          0\n",
       " 0  Map all coordinates using: OpenStreetMap\n",
       " 1        Download coordinates as: KML · GPX,\n",
       "     Power station # units[note 1] Net capacity[note 2](MWe)        Country  \\\n",
       " 0         Almaraz               2                      2017          Spain   \n",
       " 1           Angra               2             1,884[note 3]         Brazil   \n",
       " 2             ANO               2                      1839  United States   \n",
       " 3            Ascó               2                      1992          Spain   \n",
       " 4          Atucha               2                      1027      Argentina   \n",
       " ..            ...             ...                       ...            ...   \n",
       " 146     Watts Bar               2                      2288  United States   \n",
       " 147    Wolf Creek               1                      1160  United States   \n",
       " 148      Wolseong      5[note 45]                      3835    South Korea   \n",
       " 149     Yangjiang               6                      6000          China   \n",
       " 150  Zaporizhzhia               6                      5700        Ukraine   \n",
       " \n",
       "                                               Location Refs  \n",
       " 0       39°48′29″N 05°41′49″W﻿ / ﻿39.80806°N 5.69694°W  NaN  \n",
       " 1      23°00′30″S 44°28′26″W﻿ / ﻿23.00833°S 44.47389°W  NaN  \n",
       " 2      35°18′37″N 93°13′53″W﻿ / ﻿35.31028°N 93.23139°W  NaN  \n",
       " 3       41°12′00″N 00°34′10″E﻿ / ﻿41.20000°N 0.56944°E  NaN  \n",
       " 4       33°58′3″S 59°12′18″W﻿ / ﻿33.96750°S 59.20500°W  NaN  \n",
       " ..                                                 ...  ...  \n",
       " 146    35°36′10″N 84°47′22″W﻿ / ﻿35.60278°N 84.78944°W  NaN  \n",
       " 147    38°14′20″N 95°41′20″W﻿ / ﻿38.23889°N 95.68889°W  NaN  \n",
       " 148  35°42′40″N 129°28′30″E﻿ / ﻿35.71111°N 129.47500°E  NaN  \n",
       " 149  21°42′35″N 112°15′38″E﻿ / ﻿21.70972°N 112.26056°E  [4]  \n",
       " 150    47°30′44″N 34°35′09″E﻿ / ﻿47.51222°N 34.58583°E  NaN  \n",
       " \n",
       " [151 rows x 6 columns],\n",
       "       Power station  No. ofunits Net capacityunder construction(MW)  \\\n",
       " 0            Akkuyu            1                               1014   \n",
       " 1           Barakah            4                               5380   \n",
       " 2        Belarusian            2                               2218   \n",
       " 3           Bushehr            2                     1,830[note 46]   \n",
       " 4   Hinkley Point C            2                               3300   \n",
       " 5          Kakrapar            4                     1,664[note 47]   \n",
       " 6           Karachi            3                     2,118[note 48]   \n",
       " 7          Mochovce            4                     1,752[note 49]   \n",
       " 8               Ōma            1                               1325   \n",
       " 9           Rooppur            2                               2160   \n",
       " 10       Shimane[6]            1                     1,373[note 50]   \n",
       " 11           Vogtle            2                               2234   \n",
       " 12        Zhangzhou            1                               1126   \n",
       " \n",
       "     Constructionstart Plannedconnection         Country  \\\n",
       " 0                2015              2023          Turkey   \n",
       " 1                2012              2020             UAE   \n",
       " 2                2012              2020         Belarus   \n",
       " 3                2019              2024            Iran   \n",
       " 4                2018              2026  United Kingdom   \n",
       " 5                2010              2022           India   \n",
       " 6                2013              2021        Pakistan   \n",
       " 7                1987              2020        Slovakia   \n",
       " 8                2010              2025           Japan   \n",
       " 9                2017              2023      Bangladesh   \n",
       " 10               2007                 ?           Japan   \n",
       " 11               2013              2021             USA   \n",
       " 12               2019              2024           China   \n",
       " \n",
       "                                              Location  \n",
       " 0     36°08′40″N 33°32′28″E﻿ / ﻿36.14444°N 33.54111°E  \n",
       " 1       23°59′6″N 52°17′1″E﻿ / ﻿23.98500°N 52.28361°E  \n",
       " 2      54°45′43″N 26°7′12″E﻿ / ﻿54.76194°N 26.12000°E  \n",
       " 3     28°49′47″N 50°53′10″E﻿ / ﻿28.82972°N 50.88611°E  \n",
       " 4        51°12′22″N 3°8′38″W﻿ / ﻿51.20611°N 3.14389°W  \n",
       " 5     21°14′19″N 73°21′00″E﻿ / ﻿21.23861°N 73.35000°E  \n",
       " 6   24°50′49.8″N 66°47′17.7″E﻿ / ﻿24.847167°N 66.7...  \n",
       " 7     48°15′50″N 18°27′25″E﻿ / ﻿48.26389°N 18.45694°E  \n",
       " 8   41°30′35″N 140°54′37″E﻿ / ﻿41.50972°N 140.91028°E  \n",
       " 9        24°4′0″N 89°2′50″E﻿ / ﻿24.06667°N 89.04722°E  \n",
       " 10  35°32′18″N 132°59′57″E﻿ / ﻿35.53833°N 132.99917°E  \n",
       " 11                               Georgia (U.S. state)  \n",
       " 12  23°49′45″N 117°29′30″E﻿ / ﻿23.82917°N 117.49167°E  ,\n",
       "         Power station Past capacity (MW)        Country  \\\n",
       " 0           Barsebäck               1200         Sweden   \n",
       " 1              Biblis               2407        Germany   \n",
       " 2            Bohunice     1,760[note 51]       Slovakia   \n",
       " 3       Chin Shan[10]               1208         Taiwan   \n",
       " 4           Chernobyl               3515        Ukraine   \n",
       " 5   Fukushima Daiichi               4546          Japan   \n",
       " 6     Fukushima Daini               4400          Japan   \n",
       " 7     Grafenrheinfeld               1275        Germany   \n",
       " 8          Greifswald               2040        Germany   \n",
       " 9            Ignalina               2370      Lithuania   \n",
       " 10            Krümmel               1346        Germany   \n",
       " 11          Mihama[6]     1,570[note 52]          Japan   \n",
       " 12    Mülheim-Kärlich               1219        Germany   \n",
       " 13       Philippsburg               2292        Germany   \n",
       " 14  Three Mile Island               1685  United States   \n",
       " 15         San Onofre               2586  United States   \n",
       " 16        Superphénix               1200         France   \n",
       " 17             Trojan               1095  United States   \n",
       " 18         Unterweser               1345        Germany   \n",
       " 19               Zion               2080  United States   \n",
       " \n",
       "                                              Location  \n",
       " 0     55°44′40″N 12°55′15″E﻿ / ﻿55.74444°N 12.92083°E  \n",
       " 1      49°42′36″N 08°24′55″E﻿ / ﻿49.71000°N 8.41528°E  \n",
       " 2     48°29′40″N 17°40′55″E﻿ / ﻿48.49444°N 17.68194°E  \n",
       " 3   25°17′10″N 121°35′15″E﻿ / ﻿25.28611°N 121.58750°E  \n",
       " 4     51°23′22″N 30°05′57″E﻿ / ﻿51.38944°N 30.09917°E  \n",
       " 5   37°25′17″N 141°01′57″E﻿ / ﻿37.42139°N 141.03250°E  \n",
       " 6   37°19′10″N 141°01′16″E﻿ / ﻿37.31944°N 141.02111°E  \n",
       " 7     49°59′02″N 10°11′05″E﻿ / ﻿49.98389°N 10.18472°E  \n",
       " 8     54°08′26″N 13°39′52″E﻿ / ﻿54.14056°N 13.66444°E  \n",
       " 9     55°36′16″N 26°33′36″E﻿ / ﻿55.60444°N 26.56000°E  \n",
       " 10    53°24′36″N 10°24′32″E﻿ / ﻿53.41000°N 10.40889°E  \n",
       " 11  35°42′09″N 135°57′48″E﻿ / ﻿35.70250°N 135.96333°E  \n",
       " 12     50°24′29″N 07°29′24″E﻿ / ﻿50.40806°N 7.49000°E  \n",
       " 13     49°15′09″N 08°26′11″E﻿ / ﻿49.25250°N 8.43639°E  \n",
       " 14    40°09′14″N 76°43′29″W﻿ / ﻿40.15389°N 76.72472°W  \n",
       " 15  33°22′08″N 117°33′18″W﻿ / ﻿33.36889°N 117.55500°W  \n",
       " 16     45°45′30″N 05°28′20″E﻿ / ﻿45.75833°N 5.47222°E  \n",
       " 17  46°02′18″N 122°53′06″W﻿ / ﻿46.03833°N 122.88500°W  \n",
       " 18     53°25′40″N 08°28′49″E﻿ / ﻿53.42778°N 8.48028°E  \n",
       " 19    42°26′47″N 87°48′11″W﻿ / ﻿42.44639°N 87.80306°W  ,\n",
       "                   vteLists of nuclear power stations  \\\n",
       " 0  BelgiumBulgariaChinaFranceGermanyJapanPakistan...   \n",
       " \n",
       "                 vteLists of nuclear power stations.1  \n",
       " 0  BelgiumBulgariaChinaFranceGermanyJapanPakistan...  ,\n",
       "                            vteLists of power stations  \\\n",
       " 0                                           By region   \n",
       " 1                                              Africa   \n",
       " 2                                                Asia   \n",
       " 3                                              Europe   \n",
       " 4                                       North America   \n",
       " 5                                             Oceania   \n",
       " 6                                       South America   \n",
       " 7                                             By type   \n",
       " 8                                       Non-renewable   \n",
       " 9                                           Renewable   \n",
       " 10  Largest power stations Largest hydroelectric s...   \n",
       " \n",
       "                          vteLists of power stations.1  \n",
       " 0   Africa Algeria Angola Benin Botswana Burkina F...  \n",
       " 1   Algeria Angola Benin Botswana Burkina Faso Bur...  \n",
       " 2   Afghanistan Armenia Azerbaijan Bahrain Banglad...  \n",
       " 3   Albania Andorra Austria Belarus Belgium Bosnia...  \n",
       " 4   Antigua and Barbuda Bahamas Barbados Belize Ca...  \n",
       " 5   Australia Micronesia Fiji Kiribati Marshall Is...  \n",
       " 6   Argentina Bolivia Brazil Chile Colombia Ecuado...  \n",
       " 7   Non-renewable Coal Fuel oil Natural gas Nuclea...  \n",
       " 8         Coal Fuel oil Natural gas Nuclear Oil shale  \n",
       " 9   Biomass Geothermal Hydroelectric conventional ...  \n",
       " 10  Largest power stations Largest hydroelectric s...  ,\n",
       "                0                                                  1\n",
       " 0         Africa  Algeria Angola Benin Botswana Burkina Faso Bur...\n",
       " 1           Asia  Afghanistan Armenia Azerbaijan Bahrain Banglad...\n",
       " 2         Europe  Albania Andorra Austria Belarus Belgium Bosnia...\n",
       " 3  North America  Antigua and Barbuda Bahamas Barbados Belize Ca...\n",
       " 4        Oceania  Australia Micronesia Fiji Kiribati Marshall Is...\n",
       " 5  South America  Argentina Bolivia Brazil Chile Colombia Ecuado...,\n",
       "                0                                                  1\n",
       " 0  Non-renewable        Coal Fuel oil Natural gas Nuclear Oil shale\n",
       " 1      Renewable  Biomass Geothermal Hydroelectric conventional ...]"
      ]
     },
     "execution_count": 3,
     "metadata": {},
     "output_type": "execute_result"
    }
   ],
   "source": [
    "# Use pandas to get the tables from the Wikipedia page and create a list\n",
    "# of dictionaries\n",
    "tables = pd.read_html(url,encoding='utf-8')\n",
    "tables"
   ]
  },
  {
   "cell_type": "code",
   "execution_count": 4,
   "metadata": {},
   "outputs": [],
   "source": [
    "# Isolate the second table from the list of dictionaries and make that dict a dataframe\n",
    "df = tables[1]"
   ]
  },
  {
   "cell_type": "code",
   "execution_count": 5,
   "metadata": {},
   "outputs": [
    {
     "data": {
      "text/plain": [
       "Index(['Power station', '# units[note 1]', 'Net capacity[note 2](MWe)',\n",
       "       'Country', 'Location', 'Refs'],\n",
       "      dtype='object')"
      ]
     },
     "execution_count": 5,
     "metadata": {},
     "output_type": "execute_result"
    }
   ],
   "source": [
    "# View the column names\n",
    "df.columns"
   ]
  },
  {
   "cell_type": "code",
   "execution_count": 6,
   "metadata": {},
   "outputs": [],
   "source": [
    "# Change the column names\n",
    "df.columns = ['Station', 'Units', 'Capacity_MWe', 'Country', \n",
    "              'Location', 'Refs']"
   ]
  },
  {
   "cell_type": "code",
   "execution_count": 7,
   "metadata": {},
   "outputs": [],
   "source": [
    "# Both DMS and Geopoint Lat and Long data is in one column \n",
    "# we are only interested in the Geopoint Lat/Long \n",
    "coordinates = df[\"Location\"].str.split(\" / \", n = 1, expand = True)"
   ]
  },
  {
   "cell_type": "code",
   "execution_count": 8,
   "metadata": {},
   "outputs": [],
   "source": [
    "# Create a new column in the dataframe\n",
    "df[\"GP_Lat_Long\"]= coordinates[1]"
   ]
  },
  {
   "cell_type": "code",
   "execution_count": 9,
   "metadata": {},
   "outputs": [],
   "source": [
    "# Dropping old Location and Refs columns \n",
    "df.drop(columns =[\"Location\",\"Refs\"], inplace = True) "
   ]
  },
  {
   "cell_type": "code",
   "execution_count": 10,
   "metadata": {},
   "outputs": [],
   "source": [
    "# Split the column of data GP_Lat_long that contains two coordinates into \n",
    "# two separate columns\n",
    "DMS_coordinates = df[\"GP_Lat_Long\"].str.split(\" \", n = 1, expand = True)\n",
    "df[\"GP_Lat\"]= DMS_coordinates[0] \n",
    "df[\"GP_Long\"]= DMS_coordinates[1]"
   ]
  },
  {
   "cell_type": "code",
   "execution_count": 11,
   "metadata": {},
   "outputs": [],
   "source": [
    "# Create a function to transform the Latitude and Longitude points from the format\n",
    "# 41.2000°S to -41.2000 for example \n",
    "def dms2dd(s):\n",
    "    # example: s = \"\"\"0°51'56.29\"S\"\"\"\n",
    "    coord, direction = re.split('°', s)\n",
    "    coord = coord.replace(u'\\ufeff','')\n",
    "    coord = float(coord)\n",
    "    if direction in ('S','W'):\n",
    "        coord*= -1\n",
    "    return coord"
   ]
  },
  {
   "cell_type": "code",
   "execution_count": 12,
   "metadata": {},
   "outputs": [],
   "source": [
    "# Transform the Latitude and Longitude values to be either negative or positive\n",
    "# Values for South and West are negative and North and East are positive\n",
    "df['Latitude'] = df['GP_Lat'].apply(dms2dd)\n",
    "df['Longitude'] = df['GP_Long'].apply(dms2dd)"
   ]
  },
  {
   "cell_type": "code",
   "execution_count": 13,
   "metadata": {},
   "outputs": [],
   "source": [
    "# Remove the columns that are no longer necessary\n",
    "df.drop(columns =[\"GP_Lat_Long\",\"GP_Lat\",\"GP_Long\"], inplace = True) "
   ]
  },
  {
   "cell_type": "code",
   "execution_count": 14,
   "metadata": {},
   "outputs": [],
   "source": [
    "# Create a United States only slice of the dataframe\n",
    "us = df[df[\"Country\"] == \"United States\"]"
   ]
  },
  {
   "cell_type": "code",
   "execution_count": 43,
   "metadata": {},
   "outputs": [
    {
     "name": "stderr",
     "output_type": "stream",
     "text": [
      "C:\\ProgramData\\Anaconda3\\lib\\site-packages\\ipykernel_launcher.py:2: SettingWithCopyWarning:\n",
      "\n",
      "\n",
      "A value is trying to be set on a copy of a slice from a DataFrame.\n",
      "Try using .loc[row_indexer,col_indexer] = value instead\n",
      "\n",
      "See the caveats in the documentation: http://pandas.pydata.org/pandas-docs/stable/user_guide/indexing.html#returning-a-view-versus-a-copy\n",
      "\n",
      "C:\\ProgramData\\Anaconda3\\lib\\site-packages\\ipykernel_launcher.py:4: SettingWithCopyWarning:\n",
      "\n",
      "\n",
      "A value is trying to be set on a copy of a slice from a DataFrame.\n",
      "Try using .loc[row_indexer,col_indexer] = value instead\n",
      "\n",
      "See the caveats in the documentation: http://pandas.pydata.org/pandas-docs/stable/user_guide/indexing.html#returning-a-view-versus-a-copy\n",
      "\n"
     ]
    }
   ],
   "source": [
    "# Add column \"Type\" with the type of point name\n",
    "us['Type'] = 'Nuclear Site'\n",
    "# Add column \"text\" with a descrition of the point for plottin in plotly\n",
    "us['text'] = us['Type'].astype(str) + ' : ' + us['Station'].astype(str)"
   ]
  },
  {
   "cell_type": "code",
   "execution_count": 44,
   "metadata": {},
   "outputs": [
    {
     "data": {
      "text/html": [
       "<div>\n",
       "<style scoped>\n",
       "    .dataframe tbody tr th:only-of-type {\n",
       "        vertical-align: middle;\n",
       "    }\n",
       "\n",
       "    .dataframe tbody tr th {\n",
       "        vertical-align: top;\n",
       "    }\n",
       "\n",
       "    .dataframe thead th {\n",
       "        text-align: right;\n",
       "    }\n",
       "</style>\n",
       "<table border=\"1\" class=\"dataframe\">\n",
       "  <thead>\n",
       "    <tr style=\"text-align: right;\">\n",
       "      <th></th>\n",
       "      <th>Station</th>\n",
       "      <th>Units</th>\n",
       "      <th>Capacity_MWe</th>\n",
       "      <th>Country</th>\n",
       "      <th>Latitude</th>\n",
       "      <th>Longitude</th>\n",
       "      <th>Type</th>\n",
       "      <th>text</th>\n",
       "    </tr>\n",
       "  </thead>\n",
       "  <tbody>\n",
       "    <tr>\n",
       "      <th>2</th>\n",
       "      <td>ANO</td>\n",
       "      <td>2</td>\n",
       "      <td>1839</td>\n",
       "      <td>United States</td>\n",
       "      <td>35.31028</td>\n",
       "      <td>-93.23139</td>\n",
       "      <td>Nuclear Site</td>\n",
       "      <td>Nuclear Site : ANO</td>\n",
       "    </tr>\n",
       "    <tr>\n",
       "      <th>6</th>\n",
       "      <td>Beaver Valley</td>\n",
       "      <td>2</td>\n",
       "      <td>1738</td>\n",
       "      <td>United States</td>\n",
       "      <td>40.62333</td>\n",
       "      <td>-80.43056</td>\n",
       "      <td>Nuclear Site</td>\n",
       "      <td>Nuclear Site : Beaver Valley</td>\n",
       "    </tr>\n",
       "    <tr>\n",
       "      <th>10</th>\n",
       "      <td>Braidwood</td>\n",
       "      <td>2</td>\n",
       "      <td>2330</td>\n",
       "      <td>United States</td>\n",
       "      <td>41.24361</td>\n",
       "      <td>-88.22917</td>\n",
       "      <td>Nuclear Site</td>\n",
       "      <td>Nuclear Site : Braidwood</td>\n",
       "    </tr>\n",
       "    <tr>\n",
       "      <th>12</th>\n",
       "      <td>Browns Ferry</td>\n",
       "      <td>3</td>\n",
       "      <td>3300</td>\n",
       "      <td>United States</td>\n",
       "      <td>34.70389</td>\n",
       "      <td>-87.11861</td>\n",
       "      <td>Nuclear Site</td>\n",
       "      <td>Nuclear Site : Browns Ferry</td>\n",
       "    </tr>\n",
       "    <tr>\n",
       "      <th>14</th>\n",
       "      <td>Brunswick</td>\n",
       "      <td>2</td>\n",
       "      <td>1858</td>\n",
       "      <td>United States</td>\n",
       "      <td>33.95833</td>\n",
       "      <td>-78.01028</td>\n",
       "      <td>Nuclear Site</td>\n",
       "      <td>Nuclear Site : Brunswick</td>\n",
       "    </tr>\n",
       "  </tbody>\n",
       "</table>\n",
       "</div>"
      ],
      "text/plain": [
       "          Station Units Capacity_MWe        Country  Latitude  Longitude  \\\n",
       "2             ANO     2         1839  United States  35.31028  -93.23139   \n",
       "6   Beaver Valley     2         1738  United States  40.62333  -80.43056   \n",
       "10      Braidwood     2         2330  United States  41.24361  -88.22917   \n",
       "12   Browns Ferry     3         3300  United States  34.70389  -87.11861   \n",
       "14      Brunswick     2         1858  United States  33.95833  -78.01028   \n",
       "\n",
       "            Type                          text  \n",
       "2   Nuclear Site            Nuclear Site : ANO  \n",
       "6   Nuclear Site  Nuclear Site : Beaver Valley  \n",
       "10  Nuclear Site      Nuclear Site : Braidwood  \n",
       "12  Nuclear Site   Nuclear Site : Browns Ferry  \n",
       "14  Nuclear Site      Nuclear Site : Brunswick  "
      ]
     },
     "execution_count": 44,
     "metadata": {},
     "output_type": "execute_result"
    }
   ],
   "source": [
    "us.head()"
   ]
  },
  {
   "cell_type": "code",
   "execution_count": 45,
   "metadata": {},
   "outputs": [
    {
     "data": {
      "application/vnd.plotly.v1+json": {
       "config": {
        "plotlyServerURL": "https://plot.ly"
       },
       "data": [
        {
         "lat": [
          35.31028,
          40.62333,
          41.24361,
          34.70389,
          33.95833,
          42.07417,
          38.76167,
          38.43194,
          35.05167,
          40.17222,
          46.47111,
          32.29833,
          35.21083,
          41.97528,
          41.38972,
          31.93417,
          41.96278,
          32.00667,
          39.46778,
          41.26972,
          31.22306,
          41.24556,
          40.22667,
          35.4325,
          41.31194,
          43.52083,
          38.06056,
          34.79389,
          33.38917,
          39.75833,
          41.80083,
          44.28111,
          44.62167,
          41.72639,
          27.34861,
          39.46278,
          42.89889,
          35.22639,
          28.79556,
          37.16556,
          41.08889,
          25.43417,
          33.14306,
          29.99528,
          35.60278,
          38.23889
         ],
         "lon": [
          -93.23139,
          -80.43056,
          -88.22917,
          -87.11861,
          -78.01028,
          -89.28194,
          -91.78,
          -76.44222,
          -81.07,
          -88.835,
          -119.33389,
          -97.785,
          -120.85611,
          -86.56583,
          -88.26806,
          -82.34389,
          -83.2575,
          -91.04833,
          -75.53806,
          -73.95222,
          -85.11167,
          -88.66917,
          -75.58722,
          -80.94833,
          -72.16861,
          -76.40694,
          -77.78944,
          -82.89806,
          -112.865,
          -76.26806,
          -81.14333,
          -87.53667,
          -92.63306,
          -90.31,
          -80.24639,
          -75.53556,
          -70.85083,
          -85.09167,
          -96.04889,
          -76.69778,
          -76.14889,
          -80.33056,
          -81.76583,
          -90.47111,
          -84.78944,
          -95.68889
         ],
         "mode": "markers",
         "text": [
          "ANO",
          "Beaver Valley",
          "Braidwood",
          "Browns Ferry",
          "Brunswick",
          "Byron",
          "Callaway",
          "Calvert Cliffs",
          "Catawba",
          "Clinton",
          "Columbia",
          "Comanche Peak",
          "Diablo Canyon",
          "Donald C. Cook",
          "Dresden",
          "Edwin I. Hatch",
          "Fermi",
          "Grand Gulf",
          "Hope Creek",
          "Indian Point",
          "Joseph M. Farley",
          "LaSalle",
          "Limerick",
          "McGuire",
          "Millstone",
          "Nine Mile Point",
          "North Anna",
          "Oconee",
          "Palo Verde",
          "Peach Bottom",
          "Perry",
          "Point Beach",
          "Prairie Island",
          "Quad Cities",
          "Saint Lucie",
          "Salem",
          "Seabrook",
          "Sequoyah",
          "South Texas",
          "Surry",
          "Susquehanna",
          "Turkey Point",
          "Vogtle",
          "Waterford",
          "Watts Bar",
          "Wolf Creek"
         ],
         "type": "scattergeo"
        }
       ],
       "layout": {
        "geo": {
         "scope": "usa"
        },
        "template": {
         "data": {
          "bar": [
           {
            "error_x": {
             "color": "#2a3f5f"
            },
            "error_y": {
             "color": "#2a3f5f"
            },
            "marker": {
             "line": {
              "color": "#E5ECF6",
              "width": 0.5
             }
            },
            "type": "bar"
           }
          ],
          "barpolar": [
           {
            "marker": {
             "line": {
              "color": "#E5ECF6",
              "width": 0.5
             }
            },
            "type": "barpolar"
           }
          ],
          "carpet": [
           {
            "aaxis": {
             "endlinecolor": "#2a3f5f",
             "gridcolor": "white",
             "linecolor": "white",
             "minorgridcolor": "white",
             "startlinecolor": "#2a3f5f"
            },
            "baxis": {
             "endlinecolor": "#2a3f5f",
             "gridcolor": "white",
             "linecolor": "white",
             "minorgridcolor": "white",
             "startlinecolor": "#2a3f5f"
            },
            "type": "carpet"
           }
          ],
          "choropleth": [
           {
            "colorbar": {
             "outlinewidth": 0,
             "ticks": ""
            },
            "type": "choropleth"
           }
          ],
          "contour": [
           {
            "colorbar": {
             "outlinewidth": 0,
             "ticks": ""
            },
            "colorscale": [
             [
              0,
              "#0d0887"
             ],
             [
              0.1111111111111111,
              "#46039f"
             ],
             [
              0.2222222222222222,
              "#7201a8"
             ],
             [
              0.3333333333333333,
              "#9c179e"
             ],
             [
              0.4444444444444444,
              "#bd3786"
             ],
             [
              0.5555555555555556,
              "#d8576b"
             ],
             [
              0.6666666666666666,
              "#ed7953"
             ],
             [
              0.7777777777777778,
              "#fb9f3a"
             ],
             [
              0.8888888888888888,
              "#fdca26"
             ],
             [
              1,
              "#f0f921"
             ]
            ],
            "type": "contour"
           }
          ],
          "contourcarpet": [
           {
            "colorbar": {
             "outlinewidth": 0,
             "ticks": ""
            },
            "type": "contourcarpet"
           }
          ],
          "heatmap": [
           {
            "colorbar": {
             "outlinewidth": 0,
             "ticks": ""
            },
            "colorscale": [
             [
              0,
              "#0d0887"
             ],
             [
              0.1111111111111111,
              "#46039f"
             ],
             [
              0.2222222222222222,
              "#7201a8"
             ],
             [
              0.3333333333333333,
              "#9c179e"
             ],
             [
              0.4444444444444444,
              "#bd3786"
             ],
             [
              0.5555555555555556,
              "#d8576b"
             ],
             [
              0.6666666666666666,
              "#ed7953"
             ],
             [
              0.7777777777777778,
              "#fb9f3a"
             ],
             [
              0.8888888888888888,
              "#fdca26"
             ],
             [
              1,
              "#f0f921"
             ]
            ],
            "type": "heatmap"
           }
          ],
          "heatmapgl": [
           {
            "colorbar": {
             "outlinewidth": 0,
             "ticks": ""
            },
            "colorscale": [
             [
              0,
              "#0d0887"
             ],
             [
              0.1111111111111111,
              "#46039f"
             ],
             [
              0.2222222222222222,
              "#7201a8"
             ],
             [
              0.3333333333333333,
              "#9c179e"
             ],
             [
              0.4444444444444444,
              "#bd3786"
             ],
             [
              0.5555555555555556,
              "#d8576b"
             ],
             [
              0.6666666666666666,
              "#ed7953"
             ],
             [
              0.7777777777777778,
              "#fb9f3a"
             ],
             [
              0.8888888888888888,
              "#fdca26"
             ],
             [
              1,
              "#f0f921"
             ]
            ],
            "type": "heatmapgl"
           }
          ],
          "histogram": [
           {
            "marker": {
             "colorbar": {
              "outlinewidth": 0,
              "ticks": ""
             }
            },
            "type": "histogram"
           }
          ],
          "histogram2d": [
           {
            "colorbar": {
             "outlinewidth": 0,
             "ticks": ""
            },
            "colorscale": [
             [
              0,
              "#0d0887"
             ],
             [
              0.1111111111111111,
              "#46039f"
             ],
             [
              0.2222222222222222,
              "#7201a8"
             ],
             [
              0.3333333333333333,
              "#9c179e"
             ],
             [
              0.4444444444444444,
              "#bd3786"
             ],
             [
              0.5555555555555556,
              "#d8576b"
             ],
             [
              0.6666666666666666,
              "#ed7953"
             ],
             [
              0.7777777777777778,
              "#fb9f3a"
             ],
             [
              0.8888888888888888,
              "#fdca26"
             ],
             [
              1,
              "#f0f921"
             ]
            ],
            "type": "histogram2d"
           }
          ],
          "histogram2dcontour": [
           {
            "colorbar": {
             "outlinewidth": 0,
             "ticks": ""
            },
            "colorscale": [
             [
              0,
              "#0d0887"
             ],
             [
              0.1111111111111111,
              "#46039f"
             ],
             [
              0.2222222222222222,
              "#7201a8"
             ],
             [
              0.3333333333333333,
              "#9c179e"
             ],
             [
              0.4444444444444444,
              "#bd3786"
             ],
             [
              0.5555555555555556,
              "#d8576b"
             ],
             [
              0.6666666666666666,
              "#ed7953"
             ],
             [
              0.7777777777777778,
              "#fb9f3a"
             ],
             [
              0.8888888888888888,
              "#fdca26"
             ],
             [
              1,
              "#f0f921"
             ]
            ],
            "type": "histogram2dcontour"
           }
          ],
          "mesh3d": [
           {
            "colorbar": {
             "outlinewidth": 0,
             "ticks": ""
            },
            "type": "mesh3d"
           }
          ],
          "parcoords": [
           {
            "line": {
             "colorbar": {
              "outlinewidth": 0,
              "ticks": ""
             }
            },
            "type": "parcoords"
           }
          ],
          "pie": [
           {
            "automargin": true,
            "type": "pie"
           }
          ],
          "scatter": [
           {
            "marker": {
             "colorbar": {
              "outlinewidth": 0,
              "ticks": ""
             }
            },
            "type": "scatter"
           }
          ],
          "scatter3d": [
           {
            "line": {
             "colorbar": {
              "outlinewidth": 0,
              "ticks": ""
             }
            },
            "marker": {
             "colorbar": {
              "outlinewidth": 0,
              "ticks": ""
             }
            },
            "type": "scatter3d"
           }
          ],
          "scattercarpet": [
           {
            "marker": {
             "colorbar": {
              "outlinewidth": 0,
              "ticks": ""
             }
            },
            "type": "scattercarpet"
           }
          ],
          "scattergeo": [
           {
            "marker": {
             "colorbar": {
              "outlinewidth": 0,
              "ticks": ""
             }
            },
            "type": "scattergeo"
           }
          ],
          "scattergl": [
           {
            "marker": {
             "colorbar": {
              "outlinewidth": 0,
              "ticks": ""
             }
            },
            "type": "scattergl"
           }
          ],
          "scattermapbox": [
           {
            "marker": {
             "colorbar": {
              "outlinewidth": 0,
              "ticks": ""
             }
            },
            "type": "scattermapbox"
           }
          ],
          "scatterpolar": [
           {
            "marker": {
             "colorbar": {
              "outlinewidth": 0,
              "ticks": ""
             }
            },
            "type": "scatterpolar"
           }
          ],
          "scatterpolargl": [
           {
            "marker": {
             "colorbar": {
              "outlinewidth": 0,
              "ticks": ""
             }
            },
            "type": "scatterpolargl"
           }
          ],
          "scatterternary": [
           {
            "marker": {
             "colorbar": {
              "outlinewidth": 0,
              "ticks": ""
             }
            },
            "type": "scatterternary"
           }
          ],
          "surface": [
           {
            "colorbar": {
             "outlinewidth": 0,
             "ticks": ""
            },
            "colorscale": [
             [
              0,
              "#0d0887"
             ],
             [
              0.1111111111111111,
              "#46039f"
             ],
             [
              0.2222222222222222,
              "#7201a8"
             ],
             [
              0.3333333333333333,
              "#9c179e"
             ],
             [
              0.4444444444444444,
              "#bd3786"
             ],
             [
              0.5555555555555556,
              "#d8576b"
             ],
             [
              0.6666666666666666,
              "#ed7953"
             ],
             [
              0.7777777777777778,
              "#fb9f3a"
             ],
             [
              0.8888888888888888,
              "#fdca26"
             ],
             [
              1,
              "#f0f921"
             ]
            ],
            "type": "surface"
           }
          ],
          "table": [
           {
            "cells": {
             "fill": {
              "color": "#EBF0F8"
             },
             "line": {
              "color": "white"
             }
            },
            "header": {
             "fill": {
              "color": "#C8D4E3"
             },
             "line": {
              "color": "white"
             }
            },
            "type": "table"
           }
          ]
         },
         "layout": {
          "annotationdefaults": {
           "arrowcolor": "#2a3f5f",
           "arrowhead": 0,
           "arrowwidth": 1
          },
          "coloraxis": {
           "colorbar": {
            "outlinewidth": 0,
            "ticks": ""
           }
          },
          "colorscale": {
           "diverging": [
            [
             0,
             "#8e0152"
            ],
            [
             0.1,
             "#c51b7d"
            ],
            [
             0.2,
             "#de77ae"
            ],
            [
             0.3,
             "#f1b6da"
            ],
            [
             0.4,
             "#fde0ef"
            ],
            [
             0.5,
             "#f7f7f7"
            ],
            [
             0.6,
             "#e6f5d0"
            ],
            [
             0.7,
             "#b8e186"
            ],
            [
             0.8,
             "#7fbc41"
            ],
            [
             0.9,
             "#4d9221"
            ],
            [
             1,
             "#276419"
            ]
           ],
           "sequential": [
            [
             0,
             "#0d0887"
            ],
            [
             0.1111111111111111,
             "#46039f"
            ],
            [
             0.2222222222222222,
             "#7201a8"
            ],
            [
             0.3333333333333333,
             "#9c179e"
            ],
            [
             0.4444444444444444,
             "#bd3786"
            ],
            [
             0.5555555555555556,
             "#d8576b"
            ],
            [
             0.6666666666666666,
             "#ed7953"
            ],
            [
             0.7777777777777778,
             "#fb9f3a"
            ],
            [
             0.8888888888888888,
             "#fdca26"
            ],
            [
             1,
             "#f0f921"
            ]
           ],
           "sequentialminus": [
            [
             0,
             "#0d0887"
            ],
            [
             0.1111111111111111,
             "#46039f"
            ],
            [
             0.2222222222222222,
             "#7201a8"
            ],
            [
             0.3333333333333333,
             "#9c179e"
            ],
            [
             0.4444444444444444,
             "#bd3786"
            ],
            [
             0.5555555555555556,
             "#d8576b"
            ],
            [
             0.6666666666666666,
             "#ed7953"
            ],
            [
             0.7777777777777778,
             "#fb9f3a"
            ],
            [
             0.8888888888888888,
             "#fdca26"
            ],
            [
             1,
             "#f0f921"
            ]
           ]
          },
          "colorway": [
           "#636efa",
           "#EF553B",
           "#00cc96",
           "#ab63fa",
           "#FFA15A",
           "#19d3f3",
           "#FF6692",
           "#B6E880",
           "#FF97FF",
           "#FECB52"
          ],
          "font": {
           "color": "#2a3f5f"
          },
          "geo": {
           "bgcolor": "white",
           "lakecolor": "white",
           "landcolor": "#E5ECF6",
           "showlakes": true,
           "showland": true,
           "subunitcolor": "white"
          },
          "hoverlabel": {
           "align": "left"
          },
          "hovermode": "closest",
          "mapbox": {
           "style": "light"
          },
          "paper_bgcolor": "white",
          "plot_bgcolor": "#E5ECF6",
          "polar": {
           "angularaxis": {
            "gridcolor": "white",
            "linecolor": "white",
            "ticks": ""
           },
           "bgcolor": "#E5ECF6",
           "radialaxis": {
            "gridcolor": "white",
            "linecolor": "white",
            "ticks": ""
           }
          },
          "scene": {
           "xaxis": {
            "backgroundcolor": "#E5ECF6",
            "gridcolor": "white",
            "gridwidth": 2,
            "linecolor": "white",
            "showbackground": true,
            "ticks": "",
            "zerolinecolor": "white"
           },
           "yaxis": {
            "backgroundcolor": "#E5ECF6",
            "gridcolor": "white",
            "gridwidth": 2,
            "linecolor": "white",
            "showbackground": true,
            "ticks": "",
            "zerolinecolor": "white"
           },
           "zaxis": {
            "backgroundcolor": "#E5ECF6",
            "gridcolor": "white",
            "gridwidth": 2,
            "linecolor": "white",
            "showbackground": true,
            "ticks": "",
            "zerolinecolor": "white"
           }
          },
          "shapedefaults": {
           "line": {
            "color": "#2a3f5f"
           }
          },
          "ternary": {
           "aaxis": {
            "gridcolor": "white",
            "linecolor": "white",
            "ticks": ""
           },
           "baxis": {
            "gridcolor": "white",
            "linecolor": "white",
            "ticks": ""
           },
           "bgcolor": "#E5ECF6",
           "caxis": {
            "gridcolor": "white",
            "linecolor": "white",
            "ticks": ""
           }
          },
          "title": {
           "x": 0.05
          },
          "xaxis": {
           "automargin": true,
           "gridcolor": "white",
           "linecolor": "white",
           "ticks": "",
           "title": {
            "standoff": 15
           },
           "zerolinecolor": "white",
           "zerolinewidth": 2
          },
          "yaxis": {
           "automargin": true,
           "gridcolor": "white",
           "linecolor": "white",
           "ticks": "",
           "title": {
            "standoff": 15
           },
           "zerolinecolor": "white",
           "zerolinewidth": 2
          }
         }
        },
        "title": {
         "text": "Nuclear Facilities<br>(Hover for facility names)"
        }
       }
      },
      "text/html": [
       "<div>\n",
       "        \n",
       "        \n",
       "            <div id=\"e4f190e7-f915-4de1-9141-4b7a046286ae\" class=\"plotly-graph-div\" style=\"height:525px; width:100%;\"></div>\n",
       "            <script type=\"text/javascript\">\n",
       "                require([\"plotly\"], function(Plotly) {\n",
       "                    window.PLOTLYENV=window.PLOTLYENV || {};\n",
       "                    \n",
       "                if (document.getElementById(\"e4f190e7-f915-4de1-9141-4b7a046286ae\")) {\n",
       "                    Plotly.newPlot(\n",
       "                        'e4f190e7-f915-4de1-9141-4b7a046286ae',\n",
       "                        [{\"lat\": [35.31028, 40.62333, 41.24361, 34.70389, 33.95833, 42.07417, 38.76167, 38.43194, 35.05167, 40.17222, 46.47111, 32.29833, 35.21083, 41.97528, 41.38972, 31.93417, 41.96278, 32.00667, 39.46778, 41.26972, 31.22306, 41.24556, 40.22667, 35.4325, 41.31194, 43.52083, 38.06056, 34.79389, 33.38917, 39.75833, 41.80083, 44.28111, 44.62167, 41.72639, 27.34861, 39.46278, 42.89889, 35.22639, 28.79556, 37.16556, 41.08889, 25.43417, 33.14306, 29.99528, 35.60278, 38.23889], \"lon\": [-93.23139, -80.43056, -88.22917, -87.11861, -78.01028, -89.28194, -91.78, -76.44222, -81.07, -88.835, -119.33389, -97.785, -120.85611, -86.56583, -88.26806, -82.34389, -83.2575, -91.04833, -75.53806, -73.95222, -85.11167, -88.66917, -75.58722, -80.94833, -72.16861, -76.40694, -77.78944, -82.89806, -112.865, -76.26806, -81.14333, -87.53667, -92.63306, -90.31, -80.24639, -75.53556, -70.85083, -85.09167, -96.04889, -76.69778, -76.14889, -80.33056, -81.76583, -90.47111, -84.78944, -95.68889], \"mode\": \"markers\", \"text\": [\"ANO\", \"Beaver Valley\", \"Braidwood\", \"Browns Ferry\", \"Brunswick\", \"Byron\", \"Callaway\", \"Calvert Cliffs\", \"Catawba\", \"Clinton\", \"Columbia\", \"Comanche Peak\", \"Diablo Canyon\", \"Donald C. Cook\", \"Dresden\", \"Edwin I. Hatch\", \"Fermi\", \"Grand Gulf\", \"Hope Creek\", \"Indian Point\", \"Joseph M. Farley\", \"LaSalle\", \"Limerick\", \"McGuire\", \"Millstone\", \"Nine Mile Point\", \"North Anna\", \"Oconee\", \"Palo Verde\", \"Peach Bottom\", \"Perry\", \"Point Beach\", \"Prairie Island\", \"Quad Cities\", \"Saint Lucie\", \"Salem\", \"Seabrook\", \"Sequoyah\", \"South Texas\", \"Surry\", \"Susquehanna\", \"Turkey Point\", \"Vogtle\", \"Waterford\", \"Watts Bar\", \"Wolf Creek\"], \"type\": \"scattergeo\"}],\n",
       "                        {\"geo\": {\"scope\": \"usa\"}, \"template\": {\"data\": {\"bar\": [{\"error_x\": {\"color\": \"#2a3f5f\"}, \"error_y\": {\"color\": \"#2a3f5f\"}, \"marker\": {\"line\": {\"color\": \"#E5ECF6\", \"width\": 0.5}}, \"type\": \"bar\"}], \"barpolar\": [{\"marker\": {\"line\": {\"color\": \"#E5ECF6\", \"width\": 0.5}}, \"type\": \"barpolar\"}], \"carpet\": [{\"aaxis\": {\"endlinecolor\": \"#2a3f5f\", \"gridcolor\": \"white\", \"linecolor\": \"white\", \"minorgridcolor\": \"white\", \"startlinecolor\": \"#2a3f5f\"}, \"baxis\": {\"endlinecolor\": \"#2a3f5f\", \"gridcolor\": \"white\", \"linecolor\": \"white\", \"minorgridcolor\": \"white\", \"startlinecolor\": \"#2a3f5f\"}, \"type\": \"carpet\"}], \"choropleth\": [{\"colorbar\": {\"outlinewidth\": 0, \"ticks\": \"\"}, \"type\": \"choropleth\"}], \"contour\": [{\"colorbar\": {\"outlinewidth\": 0, \"ticks\": \"\"}, \"colorscale\": [[0.0, \"#0d0887\"], [0.1111111111111111, \"#46039f\"], [0.2222222222222222, \"#7201a8\"], [0.3333333333333333, \"#9c179e\"], [0.4444444444444444, \"#bd3786\"], [0.5555555555555556, \"#d8576b\"], [0.6666666666666666, \"#ed7953\"], [0.7777777777777778, \"#fb9f3a\"], [0.8888888888888888, \"#fdca26\"], [1.0, \"#f0f921\"]], \"type\": \"contour\"}], \"contourcarpet\": [{\"colorbar\": {\"outlinewidth\": 0, \"ticks\": \"\"}, \"type\": \"contourcarpet\"}], \"heatmap\": [{\"colorbar\": {\"outlinewidth\": 0, \"ticks\": \"\"}, \"colorscale\": [[0.0, \"#0d0887\"], [0.1111111111111111, \"#46039f\"], [0.2222222222222222, \"#7201a8\"], [0.3333333333333333, \"#9c179e\"], [0.4444444444444444, \"#bd3786\"], [0.5555555555555556, \"#d8576b\"], [0.6666666666666666, \"#ed7953\"], [0.7777777777777778, \"#fb9f3a\"], [0.8888888888888888, \"#fdca26\"], [1.0, \"#f0f921\"]], \"type\": \"heatmap\"}], \"heatmapgl\": [{\"colorbar\": {\"outlinewidth\": 0, \"ticks\": \"\"}, \"colorscale\": [[0.0, \"#0d0887\"], [0.1111111111111111, \"#46039f\"], [0.2222222222222222, \"#7201a8\"], [0.3333333333333333, \"#9c179e\"], [0.4444444444444444, \"#bd3786\"], [0.5555555555555556, \"#d8576b\"], [0.6666666666666666, \"#ed7953\"], [0.7777777777777778, \"#fb9f3a\"], [0.8888888888888888, \"#fdca26\"], [1.0, \"#f0f921\"]], \"type\": \"heatmapgl\"}], \"histogram\": [{\"marker\": {\"colorbar\": {\"outlinewidth\": 0, \"ticks\": \"\"}}, \"type\": \"histogram\"}], \"histogram2d\": [{\"colorbar\": {\"outlinewidth\": 0, \"ticks\": \"\"}, \"colorscale\": [[0.0, \"#0d0887\"], [0.1111111111111111, \"#46039f\"], [0.2222222222222222, \"#7201a8\"], [0.3333333333333333, \"#9c179e\"], [0.4444444444444444, \"#bd3786\"], [0.5555555555555556, \"#d8576b\"], [0.6666666666666666, \"#ed7953\"], [0.7777777777777778, \"#fb9f3a\"], [0.8888888888888888, \"#fdca26\"], [1.0, \"#f0f921\"]], \"type\": \"histogram2d\"}], \"histogram2dcontour\": [{\"colorbar\": {\"outlinewidth\": 0, \"ticks\": \"\"}, \"colorscale\": [[0.0, \"#0d0887\"], [0.1111111111111111, \"#46039f\"], [0.2222222222222222, \"#7201a8\"], [0.3333333333333333, \"#9c179e\"], [0.4444444444444444, \"#bd3786\"], [0.5555555555555556, \"#d8576b\"], [0.6666666666666666, \"#ed7953\"], [0.7777777777777778, \"#fb9f3a\"], [0.8888888888888888, \"#fdca26\"], [1.0, \"#f0f921\"]], \"type\": \"histogram2dcontour\"}], \"mesh3d\": [{\"colorbar\": {\"outlinewidth\": 0, \"ticks\": \"\"}, \"type\": \"mesh3d\"}], \"parcoords\": [{\"line\": {\"colorbar\": {\"outlinewidth\": 0, \"ticks\": \"\"}}, \"type\": \"parcoords\"}], \"pie\": [{\"automargin\": true, \"type\": \"pie\"}], \"scatter\": [{\"marker\": {\"colorbar\": {\"outlinewidth\": 0, \"ticks\": \"\"}}, \"type\": \"scatter\"}], \"scatter3d\": [{\"line\": {\"colorbar\": {\"outlinewidth\": 0, \"ticks\": \"\"}}, \"marker\": {\"colorbar\": {\"outlinewidth\": 0, \"ticks\": \"\"}}, \"type\": \"scatter3d\"}], \"scattercarpet\": [{\"marker\": {\"colorbar\": {\"outlinewidth\": 0, \"ticks\": \"\"}}, \"type\": \"scattercarpet\"}], \"scattergeo\": [{\"marker\": {\"colorbar\": {\"outlinewidth\": 0, \"ticks\": \"\"}}, \"type\": \"scattergeo\"}], \"scattergl\": [{\"marker\": {\"colorbar\": {\"outlinewidth\": 0, \"ticks\": \"\"}}, \"type\": \"scattergl\"}], \"scattermapbox\": [{\"marker\": {\"colorbar\": {\"outlinewidth\": 0, \"ticks\": \"\"}}, \"type\": \"scattermapbox\"}], \"scatterpolar\": [{\"marker\": {\"colorbar\": {\"outlinewidth\": 0, \"ticks\": \"\"}}, \"type\": \"scatterpolar\"}], \"scatterpolargl\": [{\"marker\": {\"colorbar\": {\"outlinewidth\": 0, \"ticks\": \"\"}}, \"type\": \"scatterpolargl\"}], \"scatterternary\": [{\"marker\": {\"colorbar\": {\"outlinewidth\": 0, \"ticks\": \"\"}}, \"type\": \"scatterternary\"}], \"surface\": [{\"colorbar\": {\"outlinewidth\": 0, \"ticks\": \"\"}, \"colorscale\": [[0.0, \"#0d0887\"], [0.1111111111111111, \"#46039f\"], [0.2222222222222222, \"#7201a8\"], [0.3333333333333333, \"#9c179e\"], [0.4444444444444444, \"#bd3786\"], [0.5555555555555556, \"#d8576b\"], [0.6666666666666666, \"#ed7953\"], [0.7777777777777778, \"#fb9f3a\"], [0.8888888888888888, \"#fdca26\"], [1.0, \"#f0f921\"]], \"type\": \"surface\"}], \"table\": [{\"cells\": {\"fill\": {\"color\": \"#EBF0F8\"}, \"line\": {\"color\": \"white\"}}, \"header\": {\"fill\": {\"color\": \"#C8D4E3\"}, \"line\": {\"color\": \"white\"}}, \"type\": \"table\"}]}, \"layout\": {\"annotationdefaults\": {\"arrowcolor\": \"#2a3f5f\", \"arrowhead\": 0, \"arrowwidth\": 1}, \"coloraxis\": {\"colorbar\": {\"outlinewidth\": 0, \"ticks\": \"\"}}, \"colorscale\": {\"diverging\": [[0, \"#8e0152\"], [0.1, \"#c51b7d\"], [0.2, \"#de77ae\"], [0.3, \"#f1b6da\"], [0.4, \"#fde0ef\"], [0.5, \"#f7f7f7\"], [0.6, \"#e6f5d0\"], [0.7, \"#b8e186\"], [0.8, \"#7fbc41\"], [0.9, \"#4d9221\"], [1, \"#276419\"]], \"sequential\": [[0.0, \"#0d0887\"], [0.1111111111111111, \"#46039f\"], [0.2222222222222222, \"#7201a8\"], [0.3333333333333333, \"#9c179e\"], [0.4444444444444444, \"#bd3786\"], [0.5555555555555556, \"#d8576b\"], [0.6666666666666666, \"#ed7953\"], [0.7777777777777778, \"#fb9f3a\"], [0.8888888888888888, \"#fdca26\"], [1.0, \"#f0f921\"]], \"sequentialminus\": [[0.0, \"#0d0887\"], [0.1111111111111111, \"#46039f\"], [0.2222222222222222, \"#7201a8\"], [0.3333333333333333, \"#9c179e\"], [0.4444444444444444, \"#bd3786\"], [0.5555555555555556, \"#d8576b\"], [0.6666666666666666, \"#ed7953\"], [0.7777777777777778, \"#fb9f3a\"], [0.8888888888888888, \"#fdca26\"], [1.0, \"#f0f921\"]]}, \"colorway\": [\"#636efa\", \"#EF553B\", \"#00cc96\", \"#ab63fa\", \"#FFA15A\", \"#19d3f3\", \"#FF6692\", \"#B6E880\", \"#FF97FF\", \"#FECB52\"], \"font\": {\"color\": \"#2a3f5f\"}, \"geo\": {\"bgcolor\": \"white\", \"lakecolor\": \"white\", \"landcolor\": \"#E5ECF6\", \"showlakes\": true, \"showland\": true, \"subunitcolor\": \"white\"}, \"hoverlabel\": {\"align\": \"left\"}, \"hovermode\": \"closest\", \"mapbox\": {\"style\": \"light\"}, \"paper_bgcolor\": \"white\", \"plot_bgcolor\": \"#E5ECF6\", \"polar\": {\"angularaxis\": {\"gridcolor\": \"white\", \"linecolor\": \"white\", \"ticks\": \"\"}, \"bgcolor\": \"#E5ECF6\", \"radialaxis\": {\"gridcolor\": \"white\", \"linecolor\": \"white\", \"ticks\": \"\"}}, \"scene\": {\"xaxis\": {\"backgroundcolor\": \"#E5ECF6\", \"gridcolor\": \"white\", \"gridwidth\": 2, \"linecolor\": \"white\", \"showbackground\": true, \"ticks\": \"\", \"zerolinecolor\": \"white\"}, \"yaxis\": {\"backgroundcolor\": \"#E5ECF6\", \"gridcolor\": \"white\", \"gridwidth\": 2, \"linecolor\": \"white\", \"showbackground\": true, \"ticks\": \"\", \"zerolinecolor\": \"white\"}, \"zaxis\": {\"backgroundcolor\": \"#E5ECF6\", \"gridcolor\": \"white\", \"gridwidth\": 2, \"linecolor\": \"white\", \"showbackground\": true, \"ticks\": \"\", \"zerolinecolor\": \"white\"}}, \"shapedefaults\": {\"line\": {\"color\": \"#2a3f5f\"}}, \"ternary\": {\"aaxis\": {\"gridcolor\": \"white\", \"linecolor\": \"white\", \"ticks\": \"\"}, \"baxis\": {\"gridcolor\": \"white\", \"linecolor\": \"white\", \"ticks\": \"\"}, \"bgcolor\": \"#E5ECF6\", \"caxis\": {\"gridcolor\": \"white\", \"linecolor\": \"white\", \"ticks\": \"\"}}, \"title\": {\"x\": 0.05}, \"xaxis\": {\"automargin\": true, \"gridcolor\": \"white\", \"linecolor\": \"white\", \"ticks\": \"\", \"title\": {\"standoff\": 15}, \"zerolinecolor\": \"white\", \"zerolinewidth\": 2}, \"yaxis\": {\"automargin\": true, \"gridcolor\": \"white\", \"linecolor\": \"white\", \"ticks\": \"\", \"title\": {\"standoff\": 15}, \"zerolinecolor\": \"white\", \"zerolinewidth\": 2}}}, \"title\": {\"text\": \"Nuclear Facilities<br>(Hover for facility names)\"}},\n",
       "                        {\"responsive\": true}\n",
       "                    ).then(function(){\n",
       "                            \n",
       "var gd = document.getElementById('e4f190e7-f915-4de1-9141-4b7a046286ae');\n",
       "var x = new MutationObserver(function (mutations, observer) {{\n",
       "        var display = window.getComputedStyle(gd).display;\n",
       "        if (!display || display === 'none') {{\n",
       "            console.log([gd, 'removed!']);\n",
       "            Plotly.purge(gd);\n",
       "            observer.disconnect();\n",
       "        }}\n",
       "}});\n",
       "\n",
       "// Listen for the removal of the full notebook cells\n",
       "var notebookContainer = gd.closest('#notebook-container');\n",
       "if (notebookContainer) {{\n",
       "    x.observe(notebookContainer, {childList: true});\n",
       "}}\n",
       "\n",
       "// Listen for the clearing of the current output cell\n",
       "var outputEl = gd.closest('.output');\n",
       "if (outputEl) {{\n",
       "    x.observe(outputEl, {childList: true});\n",
       "}}\n",
       "\n",
       "                        })\n",
       "                };\n",
       "                });\n",
       "            </script>\n",
       "        </div>"
      ]
     },
     "metadata": {},
     "output_type": "display_data"
    }
   ],
   "source": [
    "import plotly.graph_objects as go\n",
    "\n",
    "import pandas as pd\n",
    "\n",
    "# df = pd.read_csv('https://raw.githubusercontent.com/plotly/datasets/master/2011_february_us_airport_traffic.csv')\n",
    "# df['text'] = df['airport'] + '' + df['city'] + ', ' + df['state'] + '' + 'Arrivals: ' + df['cnt'].astype(str)\n",
    "\n",
    "fig = go.Figure(data=go.Scattergeo(\n",
    "        lon = us['Longitude'],\n",
    "        lat = us['Latitude'],\n",
    "        text = us['Station'],\n",
    "        mode = 'markers',\n",
    "        #marker_color = us['Capacity_MWe'],\n",
    "        #size = us['Capacity_MWe']\n",
    "        ))\n",
    "\n",
    "fig.update_layout(\n",
    "        title = 'Nuclear Facilities<br>(Hover for facility names)',\n",
    "        geo_scope='usa',\n",
    "    )\n",
    "fig.show()"
   ]
  },
  {
   "cell_type": "code",
   "execution_count": 18,
   "metadata": {},
   "outputs": [
    {
     "name": "stderr",
     "output_type": "stream",
     "text": [
      "C:\\ProgramData\\Anaconda3\\lib\\site-packages\\ipykernel_launcher.py:2: SettingWithCopyWarning:\n",
      "\n",
      "\n",
      "A value is trying to be set on a copy of a slice from a DataFrame.\n",
      "Try using .loc[row_indexer,col_indexer] = value instead\n",
      "\n",
      "See the caveats in the documentation: http://pandas.pydata.org/pandas-docs/stable/user_guide/indexing.html#returning-a-view-versus-a-copy\n",
      "\n"
     ]
    }
   ],
   "source": [
    "# Add column \"Type\" with the type of point name\n",
    "us['Type'] = 'Nuclear Site'"
   ]
  },
  {
   "cell_type": "code",
   "execution_count": 19,
   "metadata": {},
   "outputs": [
    {
     "data": {
      "text/html": [
       "<div>\n",
       "<style scoped>\n",
       "    .dataframe tbody tr th:only-of-type {\n",
       "        vertical-align: middle;\n",
       "    }\n",
       "\n",
       "    .dataframe tbody tr th {\n",
       "        vertical-align: top;\n",
       "    }\n",
       "\n",
       "    .dataframe thead th {\n",
       "        text-align: right;\n",
       "    }\n",
       "</style>\n",
       "<table border=\"1\" class=\"dataframe\">\n",
       "  <thead>\n",
       "    <tr style=\"text-align: right;\">\n",
       "      <th></th>\n",
       "      <th>Station</th>\n",
       "      <th>Units</th>\n",
       "      <th>Capacity_MWe</th>\n",
       "      <th>Country</th>\n",
       "      <th>Latitude</th>\n",
       "      <th>Longitude</th>\n",
       "      <th>Type</th>\n",
       "    </tr>\n",
       "  </thead>\n",
       "  <tbody>\n",
       "    <tr>\n",
       "      <th>2</th>\n",
       "      <td>ANO</td>\n",
       "      <td>2</td>\n",
       "      <td>1839</td>\n",
       "      <td>United States</td>\n",
       "      <td>35.31028</td>\n",
       "      <td>-93.23139</td>\n",
       "      <td>Nuclear Site</td>\n",
       "    </tr>\n",
       "    <tr>\n",
       "      <th>6</th>\n",
       "      <td>Beaver Valley</td>\n",
       "      <td>2</td>\n",
       "      <td>1738</td>\n",
       "      <td>United States</td>\n",
       "      <td>40.62333</td>\n",
       "      <td>-80.43056</td>\n",
       "      <td>Nuclear Site</td>\n",
       "    </tr>\n",
       "    <tr>\n",
       "      <th>10</th>\n",
       "      <td>Braidwood</td>\n",
       "      <td>2</td>\n",
       "      <td>2330</td>\n",
       "      <td>United States</td>\n",
       "      <td>41.24361</td>\n",
       "      <td>-88.22917</td>\n",
       "      <td>Nuclear Site</td>\n",
       "    </tr>\n",
       "    <tr>\n",
       "      <th>12</th>\n",
       "      <td>Browns Ferry</td>\n",
       "      <td>3</td>\n",
       "      <td>3300</td>\n",
       "      <td>United States</td>\n",
       "      <td>34.70389</td>\n",
       "      <td>-87.11861</td>\n",
       "      <td>Nuclear Site</td>\n",
       "    </tr>\n",
       "    <tr>\n",
       "      <th>14</th>\n",
       "      <td>Brunswick</td>\n",
       "      <td>2</td>\n",
       "      <td>1858</td>\n",
       "      <td>United States</td>\n",
       "      <td>33.95833</td>\n",
       "      <td>-78.01028</td>\n",
       "      <td>Nuclear Site</td>\n",
       "    </tr>\n",
       "  </tbody>\n",
       "</table>\n",
       "</div>"
      ],
      "text/plain": [
       "          Station Units Capacity_MWe        Country  Latitude  Longitude  \\\n",
       "2             ANO     2         1839  United States  35.31028  -93.23139   \n",
       "6   Beaver Valley     2         1738  United States  40.62333  -80.43056   \n",
       "10      Braidwood     2         2330  United States  41.24361  -88.22917   \n",
       "12   Browns Ferry     3         3300  United States  34.70389  -87.11861   \n",
       "14      Brunswick     2         1858  United States  33.95833  -78.01028   \n",
       "\n",
       "            Type  \n",
       "2   Nuclear Site  \n",
       "6   Nuclear Site  \n",
       "10  Nuclear Site  \n",
       "12  Nuclear Site  \n",
       "14  Nuclear Site  "
      ]
     },
     "execution_count": 19,
     "metadata": {},
     "output_type": "execute_result"
    }
   ],
   "source": [
    "us.head()"
   ]
  },
  {
   "cell_type": "code",
   "execution_count": 38,
   "metadata": {},
   "outputs": [
    {
     "name": "stderr",
     "output_type": "stream",
     "text": [
      "C:\\ProgramData\\Anaconda3\\lib\\site-packages\\ipykernel_launcher.py:2: SettingWithCopyWarning:\n",
      "\n",
      "\n",
      "A value is trying to be set on a copy of a slice from a DataFrame.\n",
      "Try using .loc[row_indexer,col_indexer] = value instead\n",
      "\n",
      "See the caveats in the documentation: http://pandas.pydata.org/pandas-docs/stable/user_guide/indexing.html#returning-a-view-versus-a-copy\n",
      "\n"
     ]
    }
   ],
   "source": [
    "#us['text'] = f'{us[\"Type\"].astype(str)} : {us[\"Station\"].astype(str)}'\n",
    "us['text'] = us['Type'].astype(str) + ' : ' + us['Station'].astype(str)"
   ]
  },
  {
   "cell_type": "code",
   "execution_count": 39,
   "metadata": {},
   "outputs": [
    {
     "data": {
      "text/html": [
       "<div>\n",
       "<style scoped>\n",
       "    .dataframe tbody tr th:only-of-type {\n",
       "        vertical-align: middle;\n",
       "    }\n",
       "\n",
       "    .dataframe tbody tr th {\n",
       "        vertical-align: top;\n",
       "    }\n",
       "\n",
       "    .dataframe thead th {\n",
       "        text-align: right;\n",
       "    }\n",
       "</style>\n",
       "<table border=\"1\" class=\"dataframe\">\n",
       "  <thead>\n",
       "    <tr style=\"text-align: right;\">\n",
       "      <th></th>\n",
       "      <th>Station</th>\n",
       "      <th>Units</th>\n",
       "      <th>Capacity_MWe</th>\n",
       "      <th>Country</th>\n",
       "      <th>Latitude</th>\n",
       "      <th>Longitude</th>\n",
       "      <th>Type</th>\n",
       "      <th>text</th>\n",
       "    </tr>\n",
       "  </thead>\n",
       "  <tbody>\n",
       "    <tr>\n",
       "      <th>2</th>\n",
       "      <td>ANO</td>\n",
       "      <td>2</td>\n",
       "      <td>1839</td>\n",
       "      <td>United States</td>\n",
       "      <td>35.31028</td>\n",
       "      <td>-93.23139</td>\n",
       "      <td>Nuclear Site</td>\n",
       "      <td>Nuclear Site : ANO</td>\n",
       "    </tr>\n",
       "    <tr>\n",
       "      <th>6</th>\n",
       "      <td>Beaver Valley</td>\n",
       "      <td>2</td>\n",
       "      <td>1738</td>\n",
       "      <td>United States</td>\n",
       "      <td>40.62333</td>\n",
       "      <td>-80.43056</td>\n",
       "      <td>Nuclear Site</td>\n",
       "      <td>Nuclear Site : Beaver Valley</td>\n",
       "    </tr>\n",
       "    <tr>\n",
       "      <th>10</th>\n",
       "      <td>Braidwood</td>\n",
       "      <td>2</td>\n",
       "      <td>2330</td>\n",
       "      <td>United States</td>\n",
       "      <td>41.24361</td>\n",
       "      <td>-88.22917</td>\n",
       "      <td>Nuclear Site</td>\n",
       "      <td>Nuclear Site : Braidwood</td>\n",
       "    </tr>\n",
       "    <tr>\n",
       "      <th>12</th>\n",
       "      <td>Browns Ferry</td>\n",
       "      <td>3</td>\n",
       "      <td>3300</td>\n",
       "      <td>United States</td>\n",
       "      <td>34.70389</td>\n",
       "      <td>-87.11861</td>\n",
       "      <td>Nuclear Site</td>\n",
       "      <td>Nuclear Site : Browns Ferry</td>\n",
       "    </tr>\n",
       "    <tr>\n",
       "      <th>14</th>\n",
       "      <td>Brunswick</td>\n",
       "      <td>2</td>\n",
       "      <td>1858</td>\n",
       "      <td>United States</td>\n",
       "      <td>33.95833</td>\n",
       "      <td>-78.01028</td>\n",
       "      <td>Nuclear Site</td>\n",
       "      <td>Nuclear Site : Brunswick</td>\n",
       "    </tr>\n",
       "  </tbody>\n",
       "</table>\n",
       "</div>"
      ],
      "text/plain": [
       "          Station Units Capacity_MWe        Country  Latitude  Longitude  \\\n",
       "2             ANO     2         1839  United States  35.31028  -93.23139   \n",
       "6   Beaver Valley     2         1738  United States  40.62333  -80.43056   \n",
       "10      Braidwood     2         2330  United States  41.24361  -88.22917   \n",
       "12   Browns Ferry     3         3300  United States  34.70389  -87.11861   \n",
       "14      Brunswick     2         1858  United States  33.95833  -78.01028   \n",
       "\n",
       "            Type                          text  \n",
       "2   Nuclear Site            Nuclear Site : ANO  \n",
       "6   Nuclear Site  Nuclear Site : Beaver Valley  \n",
       "10  Nuclear Site      Nuclear Site : Braidwood  \n",
       "12  Nuclear Site   Nuclear Site : Browns Ferry  \n",
       "14  Nuclear Site      Nuclear Site : Brunswick  "
      ]
     },
     "execution_count": 39,
     "metadata": {},
     "output_type": "execute_result"
    }
   ],
   "source": [
    "us.head()"
   ]
  },
  {
   "cell_type": "code",
   "execution_count": null,
   "metadata": {},
   "outputs": [],
   "source": []
  }
 ],
 "metadata": {
  "kernelspec": {
   "display_name": "Python 3",
   "language": "python",
   "name": "python3"
  },
  "language_info": {
   "codemirror_mode": {
    "name": "ipython",
    "version": 3
   },
   "file_extension": ".py",
   "mimetype": "text/x-python",
   "name": "python",
   "nbconvert_exporter": "python",
   "pygments_lexer": "ipython3",
   "version": "3.6.10"
  }
 },
 "nbformat": 4,
 "nbformat_minor": 2
}

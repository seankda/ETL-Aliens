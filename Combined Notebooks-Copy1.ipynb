{
 "cells": [
  {
   "cell_type": "markdown",
   "metadata": {},
   "source": [
    "# Aliens!\n",
    "\n",
    "## Purpose\n",
    "State the purpose of the notebook.\n",
    "\n",
    "## Methodology\n",
    "Quickly describe assumptions and processing steps.\n",
    "\n",
    "## Results\n",
    "Describe and comment the most important results.\n",
    "\n",
    "## Suggested next steps\n",
    "State suggested next steps, based on results obtained in this notebook."
   ]
  },
  {
   "cell_type": "markdown",
   "metadata": {},
   "source": [
    "# Setup"
   ]
  },
  {
   "cell_type": "markdown",
   "metadata": {},
   "source": [
    "## Installations needed"
   ]
  },
  {
   "cell_type": "code",
   "execution_count": 1,
   "metadata": {},
   "outputs": [],
   "source": [
    "#!pip install splinter\n",
    "#!pip install citipy\n",
    "#!pip install descartes\n",
    "\n",
    "# Had to do a conda install geopandas in Anaconda as admin\n",
    "#!pip install geopandas"
   ]
  },
  {
   "cell_type": "markdown",
   "metadata": {},
   "source": [
    "## Library import\n",
    "We import all the required Python libraries"
   ]
  },
  {
   "cell_type": "code",
   "execution_count": 154,
   "metadata": {},
   "outputs": [],
   "source": [
    "import os\n",
    "import pandas as pd\n",
    "import numpy as np\n",
    "import requests\n",
    "import json\n",
    "import time\n",
    "import pandas as pd\n",
    "import re\n",
    "import matplotlib.pyplot as plt\n",
    "import plotly.graph_objects as go\n",
    "\n",
    "from bs4 import BeautifulSoup as bs\n",
    "from splinter import Browser\n",
    "from sqlalchemy import create_engine\n",
    "from citipy import citipy\n",
    "from matplotlib import pyplot\n",
    "\n",
    "# Google API Key\n",
    "#from config import gkey"
   ]
  },
  {
   "cell_type": "markdown",
   "metadata": {},
   "source": [
    "## Local library import\n",
    "We import all the required local libraries libraries"
   ]
  },
  {
   "cell_type": "markdown",
   "metadata": {},
   "source": [
    "# Data processing"
   ]
  },
  {
   "cell_type": "markdown",
   "metadata": {},
   "source": [
    "## Set up Chromedriver path"
   ]
  },
  {
   "cell_type": "code",
   "execution_count": 2,
   "metadata": {},
   "outputs": [],
   "source": [
    "# set executable path and initialize Chrome Browser\n",
    "executable_path = {'executable_path': 'chromedriver.exe'}\n",
    "browser = Browser('chrome', **executable_path, headless=False)"
   ]
  },
  {
   "cell_type": "markdown",
   "metadata": {},
   "source": [
    "## Begin scrape code"
   ]
  },
  {
   "cell_type": "code",
   "execution_count": 3,
   "metadata": {},
   "outputs": [
    {
     "name": "stdout",
     "output_type": "stream",
     "text": [
      "['http://www.nuforc.org/webreports/ndxe202002.html', 'http://www.nuforc.org/webreports/ndxe202001.html', 'http://www.nuforc.org/webreports/ndxe201912.html', 'http://www.nuforc.org/webreports/ndxe201911.html', 'http://www.nuforc.org/webreports/ndxe201910.html', 'http://www.nuforc.org/webreports/ndxe201909.html', 'http://www.nuforc.org/webreports/ndxe201908.html', 'http://www.nuforc.org/webreports/ndxe201907.html', 'http://www.nuforc.org/webreports/ndxe201906.html', 'http://www.nuforc.org/webreports/ndxe201905.html', 'http://www.nuforc.org/webreports/ndxe201904.html', 'http://www.nuforc.org/webreports/ndxe201903.html']\n"
     ]
    }
   ],
   "source": [
    "# visit \n",
    "ufo_url = 'http://www.nuforc.org/webreports/ndxevent.html'\n",
    "browser.visit(ufo_url)\n",
    "\n",
    "# add in a pause to allow site to fully load before creating html object\n",
    "time.sleep(3)\n",
    "\n",
    "# create html object\n",
    "html = browser.html\n",
    "\n",
    "# create a beautiful soup object\n",
    "soup = bs(html, 'html.parser')\n",
    "\n",
    "# create list to house the table urls\n",
    "table_urls = []\n",
    "base_url = 'http://www.nuforc.org/webreports/'\n",
    "    \n",
    "# retrieve all urls\n",
    "links = soup.find_all('a')[1:13]\n",
    "\n",
    "# for loop to loop through items and append to list\n",
    "for link in links:\n",
    "     part_url = link['href']\n",
    "     full_url = base_url + part_url   \n",
    "     table_urls.append(full_url)\n",
    "        \n",
    "\n",
    "print(table_urls)"
   ]
  },
  {
   "cell_type": "code",
   "execution_count": 4,
   "metadata": {},
   "outputs": [
    {
     "name": "stdout",
     "output_type": "stream",
     "text": [
      "[       Date / Time                          City State      Shape  \\\n",
      "0    2/24/20 12:45                       Chester    NH       Disk   \n",
      "1    2/24/20 06:00                       Medford    OR  Formation   \n",
      "2    2/24/20 05:45                       Medford    OR      Other   \n",
      "3    2/24/20 05:30                   Charlestown    RI      Light   \n",
      "4    2/24/20 05:21                        Edison    NJ      Light   \n",
      "..             ...                           ...   ...        ...   \n",
      "391   2/1/20 11:45                   Santa Paula    CA      Other   \n",
      "392   2/1/20 07:00                     Southside    AL      Light   \n",
      "393   2/1/20 06:38                      Woodbine    GA        NaN   \n",
      "394   2/1/20 01:34                         Aledo    TX   Triangle   \n",
      "395   2/1/20 00:30  Progrresso (Yucatan)(Mexico)   NaN      Light   \n",
      "\n",
      "        Duration                                            Summary   Posted  \n",
      "0      ~1 minute  12:45 PM-shiny, disk/saucer shape seen in dayl...  2/25/20  \n",
      "1      5 minutes  20 lights in formation across sky. ((\"Starlink...  2/25/20  \n",
      "2     10 minutes  AT 545 AM I LOOKED UP AND SAID WHAT THE HELL I...  2/25/20  \n",
      "3    2-3 minutes               light moving at a high rate of speed  2/25/20  \n",
      "4     25 seconds  DURING ISS PASS VIEWING SMALL OBJECT APPEARS T...  2/25/20  \n",
      "..           ...                                                ...      ...  \n",
      "391    3 minutes  I was driving on Telegraph Rd. in the city of ...   2/7/20  \n",
      "392   25 minutes  Distant unmoving bright light in sky west of o...   2/7/20  \n",
      "393          NaN                                     MADAR Node 154  2/25/20  \n",
      "394      2 hours  Triangle and orb type craft over Ftworth/parke...   2/7/20  \n",
      "395   30 minutes  Moving lights over Progresso, Yucatan Mexico. ...   2/7/20  \n",
      "\n",
      "[396 rows x 7 columns],        Date / Time              City State     Shape     Duration  \\\n",
      "0    1/31/20 21:30          Prospect    OR     Light    30 minute   \n",
      "1    1/31/20 19:56      Arizona City    AZ   Unknown            2   \n",
      "2    1/31/20 19:30       Sevierville    TN      Oval  3-5 minutes   \n",
      "3    1/31/20 11:40  Royal Palm Beach    FL       NaN          NaN   \n",
      "4    1/31/20 09:11              York    PA     Other    2 minutes   \n",
      "..             ...               ...   ...       ...          ...   \n",
      "578   1/1/20 00:00             Lacey    WA   Chevron          NaN   \n",
      "579   1/1/20 00:00         El Centro    CA    Circle    3 minutes   \n",
      "580         1/1/20       San Antonio    TX      Oval    5 minutes   \n",
      "581         1/1/20    St. Petersburg    FL  Triangle         3:00   \n",
      "582         1/1/20    St. Petersburg    FL  Triangle         3:00   \n",
      "\n",
      "                                               Summary   Posted  \n",
      "0    1.31.2020 Approximately 9:30-10 While driving ...   2/7/20  \n",
      "1      Blinking unexplained lights that tilt and move.  2/25/20  \n",
      "2    This is twice in one week I've seen this. Roun...   2/7/20  \n",
      "3                                        MADAR Node 76  2/13/20  \n",
      "4    As I was walking home from work i look up in t...   2/7/20  \n",
      "..                                                 ...      ...  \n",
      "578  Blue light coming from craft, shot through the...  1/31/20  \n",
      "579  Red orb floats slowly changing direction then ...  1/31/20  \n",
      "580  looking at fireworks at midnight we observed 1...   2/7/20  \n",
      "581  It's too bad I can't tell the full story on he...   2/7/20  \n",
      "582  It's too bad I can't tell the full story on he...   2/7/20  \n",
      "\n",
      "[583 rows x 7 columns],         Date / Time             City State     Shape     Duration  \\\n",
      "0    12/31/19 23:55    Wesley Chapel    FL     Light   30 minutes   \n",
      "1    12/31/19 23:23          Sanford    FL    Circle    5 minutes   \n",
      "2    12/31/19 23:00  Fort Lauderdale    FL  Fireball          :30   \n",
      "3    12/31/19 22:45         Lakeland    FL      Oval    3 minutes   \n",
      "4    12/31/19 22:30        Lake City    FL    Circle    2 minutes   \n",
      "..              ...              ...   ...       ...          ...   \n",
      "748   12/1/19 06:00     Mcleansville    NC      Disk    3 minutes   \n",
      "749   12/1/19 04:48         Newburgh    IN       NaN          NaN   \n",
      "750   12/1/19 01:25       Alexandria    VA       NaN          NaN   \n",
      "751   12/1/19 00:30         Woolwich    ME     Other   20 minutes   \n",
      "752   12/1/19 00:06          Phoenix    AZ  Changing  1.5 minutes   \n",
      "\n",
      "                                               Summary    Posted  \n",
      "0    8-9 Disc shaped lights moving south about 1000...    2/7/20  \n",
      "1    3 unidentified bright orange objects travellin...    2/7/20  \n",
      "2    I was in Fort Lauderdale, FL looking toward th...    2/7/20  \n",
      "3    Two VERY bright glowing objects moving from no...    2/7/20  \n",
      "4    One orange circular object traveling NW to SE,...   1/31/20  \n",
      "..                                                 ...       ...  \n",
      "748  I was walking with my son to check my mail wit...  12/19/19  \n",
      "749                                     MADAR Node 142  12/19/19  \n",
      "750                                     MADAR Node 141  12/19/19  \n",
      "751  I saw what looked like a person standing by a ...   12/1/19  \n",
      "752   3 objects change direction color speed and shape   1/31/20  \n",
      "\n",
      "[753 rows x 7 columns],         Date / Time                      City State     Shape     Duration  \\\n",
      "0    11/30/19 21:35             Overland Park    KS     Light  3 to 4 mins   \n",
      "1    11/30/19 20:29         Mountlake Terrace    WA       NaN          NaN   \n",
      "2    11/30/19 20:00                   Hornell    NY     Cigar  3-5 minutes   \n",
      "3    11/30/19 19:00                  Columbia    PA  Fireball    2 minutes   \n",
      "4    11/30/19 18:45                      Cary    NC   Chevron   10 seconds   \n",
      "..              ...                       ...   ...       ...          ...   \n",
      "691   11/1/19 04:00  Cape Town (South Africa)   NaN     Light   30 minutes   \n",
      "692   11/1/19 01:30                   Astoria    OR  Triangle   15 minutes   \n",
      "693   11/1/19 01:06            Mohali (India)   NaN     Other  3-4 seconds   \n",
      "694   11/1/19 00:50                  Alhambra    CA     Flash           .2   \n",
      "695   11/1/19 00:30               Fort Gibson    OK    Sphere   20 minutes   \n",
      "\n",
      "                                               Summary    Posted  \n",
      "0     Bright lights merge into V formation and vanish.  12/19/19  \n",
      "1                                       MADAR Node 100  12/19/19  \n",
      "2    Very irratic in sky I thought it was a aircraf...    2/7/20  \n",
      "3    I have 4 different videos of the event. Total,...  12/19/19  \n",
      "4    Chevron shaped object suspended over trees in ...  12/19/19  \n",
      "..                                                 ...       ...  \n",
      "691  I was looking up at the sky because I have ins...   12/1/19  \n",
      "692                   Multiple Blinking Colored Lights   12/1/19  \n",
      "693          Bright circular shaped with flashing tail   12/1/19  \n",
      "694  I was traveling Eastbound on I-10 in through t...   12/1/19  \n",
      "695  I have seen this shpere shaped craft 3 non con...   12/1/19  \n",
      "\n",
      "[696 rows x 7 columns],         Date / Time          City State     Shape     Duration  \\\n",
      "0    10/31/19 23:30    Fort Worth    TX     Light   10 seconds   \n",
      "1    10/31/19 23:17       Wichita    KS       NaN          NaN   \n",
      "2    10/31/19 21:36      Carlsbad    CA  Triangle   10 seconds   \n",
      "3    10/31/19 20:32      Florence    SC     Light    3 minutes   \n",
      "4    10/31/19 20:30    Post Falls    ID   Unknown  3-5 minutes   \n",
      "..              ...           ...   ...       ...          ...   \n",
      "714   10/1/19 00:00     St. Louis    MO   Unknown   10 minutes   \n",
      "715   10/1/19 00:00  Little Falls    MN     Light   10 minutes   \n",
      "716         10/1/19   Bakersfield    CA     Other          NaN   \n",
      "717         10/1/19      Newburgh    IN   Diamond          NaN   \n",
      "718         10/1/19        Eureka    CA  Triangle   10 seconds   \n",
      "\n",
      "                                               Summary   Posted  \n",
      "0    3 lights in a v formation flying and disssapea...  12/1/19  \n",
      "1                                       MADAR Node 123  12/1/19  \n",
      "2    Un-lit, fast moving, low altitude triangular c...  12/1/19  \n",
      "3        Florence SC - (3) lights in the Southwest sky  12/1/19  \n",
      "4    Orange ball of light flying near cell tower in...  12/1/19  \n",
      "..                                                 ...      ...  \n",
      "714  I spotted a circular object in the sky far awa...  10/4/19  \n",
      "715  Fast darting orange ball that disappeared with...  12/1/19  \n",
      "716  My mother and I have witnessed an M-shaped bli...  10/4/19  \n",
      "717  ((NUFORC Note: Witness does not include any de...  10/4/19  \n",
      "718  Was outside heard jet engines overhead sound a...  10/4/19  \n",
      "\n",
      "[719 rows x 7 columns],        Date / Time              City State     Shape    Duration  \\\n",
      "0    9/30/19 23:45           Dunedin    FL  Triangle  15 seconds   \n",
      "1    9/30/19 23:00      Fayetteville    AR     Light   2 seconds   \n",
      "2    9/30/19 22:00           Paducah    KY  Changing    1 minute   \n",
      "3    9/30/19 21:14          Hartford    CT  Fireball   5 minutes   \n",
      "4    9/30/19 20:57           Altoona    IA  Fireball   2 minutes   \n",
      "..             ...               ...   ...       ...         ...   \n",
      "644   9/1/19 03:45            Naples    FL     Other   5 seconds   \n",
      "645   9/1/19 02:00  North Providence    RI    Circle    1 minute   \n",
      "646   9/1/19 02:00      Port Orchard    WA      Disk  25 seconds   \n",
      "647   9/1/19 01:10       Hattiesburg    MS  Triangle   >1 minute   \n",
      "648   9/1/19 01:07       Clarksville    TN       NaN         NaN   \n",
      "\n",
      "                                               Summary   Posted  \n",
      "0    Black triangle, no sound, no lights, flew from...  10/4/19  \n",
      "1    White light craft seen for a couple seconds fl...  10/4/19  \n",
      "2    12 lights in the NE about moving in formation....  10/4/19  \n",
      "3                   Several orange objects seen in sky  10/4/19  \n",
      "4                         Bright orange ball over Iowa  10/4/19  \n",
      "..                                                 ...      ...  \n",
      "644  Illuminated white cigar shaped center with 1 r...  10/4/19  \n",
      "645  On Sunday 9/1/19 approximately 2:00am, I was d...   9/6/19  \n",
      "646  Driving home, saw 3 aircraft, 3 lights in a tr...  9/19/19  \n",
      "647  Low flying triangle craft with triple lights a...   9/6/19  \n",
      "648                                     MADAR Node 138   9/6/19  \n",
      "\n",
      "[649 rows x 7 columns],        Date / Time              City State     Shape  \\\n",
      "0    8/31/19 23:45         Biddeford    ME   Unknown   \n",
      "1    8/31/19 23:11            Vernal    UT    Circle   \n",
      "2    8/31/19 23:00           Crivitz    WI     Light   \n",
      "3    8/31/19 22:45           Bumpass   NaN  Fireball   \n",
      "4    8/31/19 22:44        Minnetonka    MN      Oval   \n",
      "..             ...               ...   ...       ...   \n",
      "465   8/1/19 11:30         St. Peter    MN    Sphere   \n",
      "466   8/1/19 04:45  New Johnsonville    TN  Fireball   \n",
      "467   8/1/19 02:10         Roseville    MN     Light   \n",
      "468   8/1/19 01:25       Clarksville    TN       NaN   \n",
      "469   8/1/19 00:03       Los Angeles    CA   Diamond   \n",
      "\n",
      "                     Duration  \\\n",
      "0                  15 minutes   \n",
      "1                  30 minutes   \n",
      "2                  20 minutes   \n",
      "3                   3 minutes   \n",
      "4                 ~30 minutes   \n",
      "..                        ...   \n",
      "465                15 minutes   \n",
      "466                15 seconds   \n",
      "467                 8 seconds   \n",
      "468                       NaN   \n",
      "469  Sheriff station on imper   \n",
      "\n",
      "                                               Summary   Posted  \n",
      "0    Fishing on Ferry Beach in Saco. Looked south d...   9/6/19  \n",
      "1    Bright object observed over Dry Fork Canyon, U...   9/6/19  \n",
      "2    Hovering/slow moving, color-changing bright li...   9/6/19  \n",
      "3    Bright orange fireball hovering about 100-200 ...   9/6/19  \n",
      "4    Saw an oval of lights in the clouds at night w...   9/6/19  \n",
      "..                                                 ...      ...  \n",
      "465        White spheres orbiting above St. Peter, MN.  8/23/19  \n",
      "466  Heard the strangest noise outside of home. Sou...  8/23/19  \n",
      "467            Many Sightings I Have Witnessed In 2019  9/19/19  \n",
      "468                                     MADAR Node 138  8/23/19  \n",
      "469  Me and mother in law were sitting in front of ...  8/23/19  \n",
      "\n",
      "[470 rows x 7 columns],        Date / Time             City State     Shape       Duration  \\\n",
      "0    7/31/19 22:40        Lakeville    MN   Unknown      2 minutes   \n",
      "1    7/31/19 22:25          Oologah    OK     Other      7 minutes   \n",
      "2    7/31/19 22:15         Portland    IN     Light     40 seconds   \n",
      "3    7/31/19 22:00  Kendal (Canada)    ON     Light      3 minutes   \n",
      "4    7/31/19 21:52           Manson    WA     Light   5-10 seconds   \n",
      "..             ...              ...   ...       ...            ...   \n",
      "592   7/1/19 11:20         Lakewood    CO    Circle  30-45 seconds   \n",
      "593   7/1/19 09:50     Derby (near)    VT  Fireball     10 minutes   \n",
      "594   7/1/19 03:57            Boise    ID       NaN            NaN   \n",
      "595   7/1/19 01:38     Indianapolis    IN     Light    ~30 minutes   \n",
      "596   7/1/19 01:30           Warren    MI     Light     10 minutes   \n",
      "\n",
      "                                               Summary   Posted  \n",
      "0    While sitting outside with my boyfriend I have...  8/23/19  \n",
      "1    Diamond shape with swinging projection underne...  8/23/19  \n",
      "2    4th time seeing this same object witnessed thi...  8/23/19  \n",
      "3                                        Bright light.  8/23/19  \n",
      "4    Pair of lights appears one over the other sout...  8/23/19  \n",
      "..                                                 ...      ...  \n",
      "592  White object moving erratically in the daytime...   7/5/19  \n",
      "593  An orange ball followed me in a rural area of ...  8/23/19  \n",
      "594                                     MADAR Node 116   7/5/19  \n",
      "595  Small light moving erratically over shopping p...   7/5/19  \n",
      "596  I have notice a light traveling south to north...   7/5/19  \n",
      "\n",
      "[597 rows x 7 columns],        Date / Time               City State      Shape     Duration  \\\n",
      "0    6/30/19 23:19         Oro Valley    AZ       Disk   30 seconds   \n",
      "1    6/30/19 23:00         Middleboro    MA       Oval   20 minutes   \n",
      "2    6/30/19 22:23              Kanab    UT   Triangle    6 minutes   \n",
      "3    6/30/19 22:20         Pine Grove    FL      Light    3 minutes   \n",
      "4    6/30/19 22:00              Noble    OK      Other   20 seconds   \n",
      "..             ...                ...   ...        ...          ...   \n",
      "469   6/1/19 07:25  Mountlake Terrace    WA        NaN          NaN   \n",
      "470   6/1/19 03:36          Las Vegas    NV  Formation  2-4 minutes   \n",
      "471   6/1/19 03:00           Peshtigo    WI     Circle         Hour   \n",
      "472   6/1/19 01:19          Henderson    NV      Flash   15 minutes   \n",
      "473   6/1/19 01:08          Boonville    IN      Light   20 minutes   \n",
      "\n",
      "                                               Summary   Posted  \n",
      "0    Disk shaped UFO with center lights hovers over...   7/5/19  \n",
      "1    3 cirle orbes seen going south east and north ...   7/5/19  \n",
      "2                                Triangle white object   7/5/19  \n",
      "3    I was in my car smoking. I saw a red light out...   7/5/19  \n",
      "4               Saw stingray shaped object in the sky.   7/5/19  \n",
      "..                                                 ...      ...  \n",
      "469                                     MADAR Node 100  6/20/19  \n",
      "470  Upon driving down Oakley three siold block obj...   6/7/19  \n",
      "471  ((NUFORC Note: Anonymous source elects to prov...   6/7/19  \n",
      "472  Pure white flashes as if it was pure energy fl...   6/7/19  \n",
      "473  Silent bright orange light in sky drifting, ju...   6/7/19  \n",
      "\n",
      "[474 rows x 7 columns],        Date / Time         City State     Shape             Duration  \\\n",
      "0    5/31/19 21:45       Milton    FL  Triangle           15 seconds   \n",
      "1    5/31/19 21:40   Pittsburgh    PA      Oval        10-12 minutes   \n",
      "2    5/31/19 20:35         Mesa    AZ    Circle                    2   \n",
      "3    5/31/19 20:00       Kailua    HI  Triangle            5 seconds   \n",
      "4    5/31/19 19:00       Kenner    LA  Triangle           20 seconds   \n",
      "..             ...          ...   ...       ...                  ...   \n",
      "535   5/1/19 13:02     Pittston    PA  Cylinder           20 seconds   \n",
      "536   5/1/19 11:00       Tucson    AZ   Unknown            5 minutes   \n",
      "537   5/1/19 03:15       Newman    CA   Unknown        15-20 seconds   \n",
      "538   5/1/19 03:00  Los Angeles    CA    Circle           30 seconds   \n",
      "539   5/1/19 01:10      Vallejo    CA     Light  1 minute 33 seconds   \n",
      "\n",
      "                                               Summary   Posted  \n",
      "0    Triangular craft, maybe three in formation, fl...   6/7/19  \n",
      "1    Was on my back patio enjoying the evening when...   6/7/19  \n",
      "2    I saw a bright light in the southern sky. I gr...   6/7/19  \n",
      "3    Light white Triangle zigzagging 3 times ,in a ...   6/7/19  \n",
      "4    A triangle object with 2 white lights close to...   6/7/19  \n",
      "..                                                 ...      ...  \n",
      "535              Dark grey cylinder moving SW to East.   5/9/19  \n",
      "536  Description is the same as Washington DC event...   5/9/19  \n",
      "537  So ufo moving in sky high rate of speed Silent...   5/9/19  \n",
      "538          I saw a UFO hover over South Los Angeles.  7/12/19  \n",
      "539  Two bright dots of light. Erratic flight path....   5/9/19  \n",
      "\n",
      "[540 rows x 7 columns],        Date / Time               City State     Shape     Duration  \\\n",
      "0    4/30/19 22:00                Ajo    AZ     Light   30 minutes   \n",
      "1    4/30/19 21:00        Port Neches    TX     Light           45   \n",
      "2    4/30/19 21:00            Ephrata    WA   Unknown   25 minutes   \n",
      "3    4/30/19 18:00            Norwalk    CT       NaN          NaN   \n",
      "4    4/30/19 14:00  Panama City Beach    FL     Other      3 hours   \n",
      "..             ...                ...   ...       ...          ...   \n",
      "380   4/1/19 09:04            Norwood    NJ       NaN          NaN   \n",
      "381   4/1/19 07:00          St. Louis    MO     Light  3-5 seconds   \n",
      "382   4/1/19 03:30             Uvalda    GA  Fireball    5 seconds   \n",
      "383   4/1/19 01:55          Fairfield    CA   Unknown   20 minutes   \n",
      "384   4/1/19 01:30          Beachwood    NJ    Sphere  2.5 minutes   \n",
      "\n",
      "                                               Summary   Posted  \n",
      "0    Rolling thunder-like sounds and 2 floating whi...   5/9/19  \n",
      "1    The first beam of light I saw in Port Neches, ...   5/9/19  \n",
      "2    4 bright whitish yellow lights completely sile...   5/9/19  \n",
      "3                                       MADAR Node 103   5/9/19  \n",
      "4    TR-3B anti-gravity spacecraft or UFO Panama Ci...  8/23/19  \n",
      "..                                                 ...      ...  \n",
      "380                                    MADAR Node 145.   4/8/19  \n",
      "381  On our way to the hockey game about 7pm as we ...   4/8/19  \n",
      "382  I was on the porch smoking when I happened to ...  10/4/19  \n",
      "383  There was a pulsing and rotating low noise com...   4/8/19  \n",
      "384  Large orb witnessed floating in the night sky,...   4/8/19  \n",
      "\n",
      "[385 rows x 7 columns],        Date / Time                      City State     Shape  \\\n",
      "0    3/31/19 23:00                 Charlotte    NC   Unknown   \n",
      "1    3/31/19 21:45  Glastonbury (UK/England)   NaN     Light   \n",
      "2    3/31/19 20:00                    Gilroy    CA    Sphere   \n",
      "3    3/31/19 17:50                   Seattle    WA     Light   \n",
      "4    3/31/19 05:33                  Lawndale    NC      Disk   \n",
      "..             ...                       ...   ...       ...   \n",
      "320   3/1/19 19:12            East Wenatchee    WA     Light   \n",
      "321   3/1/19 18:07                    Mebane    NC  Changing   \n",
      "322   3/1/19 13:28               Eagle River    AK  Cylinder   \n",
      "323   3/1/19 13:00                Greenville    SC       NaN   \n",
      "324   3/1/19 03:00                  Red Wing    MN  Triangle   \n",
      "\n",
      "                      Duration  \\\n",
      "0                    5 minutes   \n",
      "1                            4   \n",
      "2                  1-2 minutes   \n",
      "3                   10 minutes   \n",
      "4                    2 minutes   \n",
      "..                         ...   \n",
      "320                 10 seconds   \n",
      "321  Months (since December) l   \n",
      "322                          5   \n",
      "323                 10 minutes   \n",
      "324                  2 minutes   \n",
      "\n",
      "                                               Summary   Posted  \n",
      "0                                  Dark object in sky.   4/8/19  \n",
      "1    Bright light it was NOT a aircraft and not sound.   4/8/19  \n",
      "2    Red Orb flying south at a slow rate, Red Light...   4/8/19  \n",
      "3    Three high flying, slow moving objects holding...   4/8/19  \n",
      "4    I saw 3 blue lights close together hovering ov...  8/23/19  \n",
      "..                                                 ...      ...  \n",
      "320                              Orange pulsing light.  3/14/19  \n",
      "321  Interdimensional Beings Caught using thermal v...  3/14/19  \n",
      "322  Driving down eagle river road looked into sky ...  3/14/19  \n",
      "323                   Reptilian or Grey alien contact.  8/23/19  \n",
      "324  about 3 a.m. I observed a bright triangular-sh...  3/14/19  \n",
      "\n",
      "[325 rows x 7 columns]]\n"
     ]
    }
   ],
   "source": [
    "# create empty list\n",
    "table_list = []\n",
    "\n",
    "# loop through list to scrape table data and extend, rather than append to empty list\n",
    "for table in table_urls:\n",
    "    urls = pd.read_html(table)\n",
    "    table_list.extend(urls)\n",
    "    \n",
    "\n",
    "print(table_list)"
   ]
  },
  {
   "cell_type": "code",
   "execution_count": 5,
   "metadata": {
    "scrolled": true
   },
   "outputs": [
    {
     "data": {
      "text/html": [
       "<div>\n",
       "<style scoped>\n",
       "    .dataframe tbody tr th:only-of-type {\n",
       "        vertical-align: middle;\n",
       "    }\n",
       "\n",
       "    .dataframe tbody tr th {\n",
       "        vertical-align: top;\n",
       "    }\n",
       "\n",
       "    .dataframe thead th {\n",
       "        text-align: right;\n",
       "    }\n",
       "</style>\n",
       "<table border=\"1\" class=\"dataframe\">\n",
       "  <thead>\n",
       "    <tr style=\"text-align: right;\">\n",
       "      <th></th>\n",
       "      <th>Date / Time</th>\n",
       "      <th>City</th>\n",
       "      <th>State</th>\n",
       "      <th>Shape</th>\n",
       "      <th>Duration</th>\n",
       "      <th>Summary</th>\n",
       "      <th>Posted</th>\n",
       "    </tr>\n",
       "  </thead>\n",
       "  <tbody>\n",
       "    <tr>\n",
       "      <td>0</td>\n",
       "      <td>2/24/20 12:45</td>\n",
       "      <td>Chester</td>\n",
       "      <td>NH</td>\n",
       "      <td>Disk</td>\n",
       "      <td>~1 minute</td>\n",
       "      <td>12:45 PM-shiny, disk/saucer shape seen in dayl...</td>\n",
       "      <td>2/25/20</td>\n",
       "    </tr>\n",
       "    <tr>\n",
       "      <td>1</td>\n",
       "      <td>2/24/20 06:00</td>\n",
       "      <td>Medford</td>\n",
       "      <td>OR</td>\n",
       "      <td>Formation</td>\n",
       "      <td>5 minutes</td>\n",
       "      <td>20 lights in formation across sky. ((\"Starlink...</td>\n",
       "      <td>2/25/20</td>\n",
       "    </tr>\n",
       "    <tr>\n",
       "      <td>2</td>\n",
       "      <td>2/24/20 05:45</td>\n",
       "      <td>Medford</td>\n",
       "      <td>OR</td>\n",
       "      <td>Other</td>\n",
       "      <td>10 minutes</td>\n",
       "      <td>AT 545 AM I LOOKED UP AND SAID WHAT THE HELL I...</td>\n",
       "      <td>2/25/20</td>\n",
       "    </tr>\n",
       "    <tr>\n",
       "      <td>3</td>\n",
       "      <td>2/24/20 05:30</td>\n",
       "      <td>Charlestown</td>\n",
       "      <td>RI</td>\n",
       "      <td>Light</td>\n",
       "      <td>2-3 minutes</td>\n",
       "      <td>light moving at a high rate of speed</td>\n",
       "      <td>2/25/20</td>\n",
       "    </tr>\n",
       "    <tr>\n",
       "      <td>4</td>\n",
       "      <td>2/24/20 05:21</td>\n",
       "      <td>Edison</td>\n",
       "      <td>NJ</td>\n",
       "      <td>Light</td>\n",
       "      <td>25 seconds</td>\n",
       "      <td>DURING ISS PASS VIEWING SMALL OBJECT APPEARS T...</td>\n",
       "      <td>2/25/20</td>\n",
       "    </tr>\n",
       "    <tr>\n",
       "      <td>...</td>\n",
       "      <td>...</td>\n",
       "      <td>...</td>\n",
       "      <td>...</td>\n",
       "      <td>...</td>\n",
       "      <td>...</td>\n",
       "      <td>...</td>\n",
       "      <td>...</td>\n",
       "    </tr>\n",
       "    <tr>\n",
       "      <td>320</td>\n",
       "      <td>3/1/19 19:12</td>\n",
       "      <td>East Wenatchee</td>\n",
       "      <td>WA</td>\n",
       "      <td>Light</td>\n",
       "      <td>10 seconds</td>\n",
       "      <td>Orange pulsing light.</td>\n",
       "      <td>3/14/19</td>\n",
       "    </tr>\n",
       "    <tr>\n",
       "      <td>321</td>\n",
       "      <td>3/1/19 18:07</td>\n",
       "      <td>Mebane</td>\n",
       "      <td>NC</td>\n",
       "      <td>Changing</td>\n",
       "      <td>Months (since December) l</td>\n",
       "      <td>Interdimensional Beings Caught using thermal v...</td>\n",
       "      <td>3/14/19</td>\n",
       "    </tr>\n",
       "    <tr>\n",
       "      <td>322</td>\n",
       "      <td>3/1/19 13:28</td>\n",
       "      <td>Eagle River</td>\n",
       "      <td>AK</td>\n",
       "      <td>Cylinder</td>\n",
       "      <td>5</td>\n",
       "      <td>Driving down eagle river road looked into sky ...</td>\n",
       "      <td>3/14/19</td>\n",
       "    </tr>\n",
       "    <tr>\n",
       "      <td>323</td>\n",
       "      <td>3/1/19 13:00</td>\n",
       "      <td>Greenville</td>\n",
       "      <td>SC</td>\n",
       "      <td>NaN</td>\n",
       "      <td>10 minutes</td>\n",
       "      <td>Reptilian or Grey alien contact.</td>\n",
       "      <td>8/23/19</td>\n",
       "    </tr>\n",
       "    <tr>\n",
       "      <td>324</td>\n",
       "      <td>3/1/19 03:00</td>\n",
       "      <td>Red Wing</td>\n",
       "      <td>MN</td>\n",
       "      <td>Triangle</td>\n",
       "      <td>2 minutes</td>\n",
       "      <td>about 3 a.m. I observed a bright triangular-sh...</td>\n",
       "      <td>3/14/19</td>\n",
       "    </tr>\n",
       "  </tbody>\n",
       "</table>\n",
       "<p>6587 rows × 7 columns</p>\n",
       "</div>"
      ],
      "text/plain": [
       "       Date / Time            City State      Shape  \\\n",
       "0    2/24/20 12:45         Chester    NH       Disk   \n",
       "1    2/24/20 06:00         Medford    OR  Formation   \n",
       "2    2/24/20 05:45         Medford    OR      Other   \n",
       "3    2/24/20 05:30     Charlestown    RI      Light   \n",
       "4    2/24/20 05:21          Edison    NJ      Light   \n",
       "..             ...             ...   ...        ...   \n",
       "320   3/1/19 19:12  East Wenatchee    WA      Light   \n",
       "321   3/1/19 18:07          Mebane    NC   Changing   \n",
       "322   3/1/19 13:28     Eagle River    AK   Cylinder   \n",
       "323   3/1/19 13:00      Greenville    SC        NaN   \n",
       "324   3/1/19 03:00        Red Wing    MN   Triangle   \n",
       "\n",
       "                      Duration  \\\n",
       "0                    ~1 minute   \n",
       "1                    5 minutes   \n",
       "2                   10 minutes   \n",
       "3                  2-3 minutes   \n",
       "4                   25 seconds   \n",
       "..                         ...   \n",
       "320                 10 seconds   \n",
       "321  Months (since December) l   \n",
       "322                          5   \n",
       "323                 10 minutes   \n",
       "324                  2 minutes   \n",
       "\n",
       "                                               Summary   Posted  \n",
       "0    12:45 PM-shiny, disk/saucer shape seen in dayl...  2/25/20  \n",
       "1    20 lights in formation across sky. ((\"Starlink...  2/25/20  \n",
       "2    AT 545 AM I LOOKED UP AND SAID WHAT THE HELL I...  2/25/20  \n",
       "3                 light moving at a high rate of speed  2/25/20  \n",
       "4    DURING ISS PASS VIEWING SMALL OBJECT APPEARS T...  2/25/20  \n",
       "..                                                 ...      ...  \n",
       "320                              Orange pulsing light.  3/14/19  \n",
       "321  Interdimensional Beings Caught using thermal v...  3/14/19  \n",
       "322  Driving down eagle river road looked into sky ...  3/14/19  \n",
       "323                   Reptilian or Grey alien contact.  8/23/19  \n",
       "324  about 3 a.m. I observed a bright triangular-sh...  3/14/19  \n",
       "\n",
       "[6587 rows x 7 columns]"
      ]
     },
     "execution_count": 5,
     "metadata": {},
     "output_type": "execute_result"
    }
   ],
   "source": [
    "# concatenate all table data into one dataframe\n",
    "pd.concat(table_list)"
   ]
  },
  {
   "cell_type": "code",
   "execution_count": 6,
   "metadata": {},
   "outputs": [],
   "source": [
    "pd.concat(table_list).to_csv(\"Resources/nuforc_reports.csv\", index = False)"
   ]
  },
  {
   "cell_type": "markdown",
   "metadata": {},
   "source": [
    "## Begin cleaning"
   ]
  },
  {
   "cell_type": "code",
   "execution_count": 7,
   "metadata": {},
   "outputs": [
    {
     "data": {
      "text/html": [
       "<div>\n",
       "<style scoped>\n",
       "    .dataframe tbody tr th:only-of-type {\n",
       "        vertical-align: middle;\n",
       "    }\n",
       "\n",
       "    .dataframe tbody tr th {\n",
       "        vertical-align: top;\n",
       "    }\n",
       "\n",
       "    .dataframe thead th {\n",
       "        text-align: right;\n",
       "    }\n",
       "</style>\n",
       "<table border=\"1\" class=\"dataframe\">\n",
       "  <thead>\n",
       "    <tr style=\"text-align: right;\">\n",
       "      <th></th>\n",
       "      <th>Date / Time</th>\n",
       "      <th>City</th>\n",
       "      <th>State</th>\n",
       "      <th>Shape</th>\n",
       "      <th>Duration</th>\n",
       "      <th>Summary</th>\n",
       "      <th>Posted</th>\n",
       "    </tr>\n",
       "  </thead>\n",
       "  <tbody>\n",
       "    <tr>\n",
       "      <td>0</td>\n",
       "      <td>2/24/20 12:45</td>\n",
       "      <td>Chester</td>\n",
       "      <td>NH</td>\n",
       "      <td>Disk</td>\n",
       "      <td>~1 minute</td>\n",
       "      <td>12:45 PM-shiny, disk/saucer shape seen in dayl...</td>\n",
       "      <td>2/25/20</td>\n",
       "    </tr>\n",
       "    <tr>\n",
       "      <td>1</td>\n",
       "      <td>2/24/20 06:00</td>\n",
       "      <td>Medford</td>\n",
       "      <td>OR</td>\n",
       "      <td>Formation</td>\n",
       "      <td>5 minutes</td>\n",
       "      <td>20 lights in formation across sky. ((\"Starlink...</td>\n",
       "      <td>2/25/20</td>\n",
       "    </tr>\n",
       "    <tr>\n",
       "      <td>2</td>\n",
       "      <td>2/24/20 05:45</td>\n",
       "      <td>Medford</td>\n",
       "      <td>OR</td>\n",
       "      <td>Other</td>\n",
       "      <td>10 minutes</td>\n",
       "      <td>AT 545 AM I LOOKED UP AND SAID WHAT THE HELL I...</td>\n",
       "      <td>2/25/20</td>\n",
       "    </tr>\n",
       "    <tr>\n",
       "      <td>3</td>\n",
       "      <td>2/24/20 05:30</td>\n",
       "      <td>Charlestown</td>\n",
       "      <td>RI</td>\n",
       "      <td>Light</td>\n",
       "      <td>2-3 minutes</td>\n",
       "      <td>light moving at a high rate of speed</td>\n",
       "      <td>2/25/20</td>\n",
       "    </tr>\n",
       "    <tr>\n",
       "      <td>4</td>\n",
       "      <td>2/24/20 05:21</td>\n",
       "      <td>Edison</td>\n",
       "      <td>NJ</td>\n",
       "      <td>Light</td>\n",
       "      <td>25 seconds</td>\n",
       "      <td>DURING ISS PASS VIEWING SMALL OBJECT APPEARS T...</td>\n",
       "      <td>2/25/20</td>\n",
       "    </tr>\n",
       "  </tbody>\n",
       "</table>\n",
       "</div>"
      ],
      "text/plain": [
       "     Date / Time         City State      Shape     Duration  \\\n",
       "0  2/24/20 12:45      Chester    NH       Disk    ~1 minute   \n",
       "1  2/24/20 06:00      Medford    OR  Formation    5 minutes   \n",
       "2  2/24/20 05:45      Medford    OR      Other   10 minutes   \n",
       "3  2/24/20 05:30  Charlestown    RI      Light  2-3 minutes   \n",
       "4  2/24/20 05:21       Edison    NJ      Light   25 seconds   \n",
       "\n",
       "                                             Summary   Posted  \n",
       "0  12:45 PM-shiny, disk/saucer shape seen in dayl...  2/25/20  \n",
       "1  20 lights in formation across sky. ((\"Starlink...  2/25/20  \n",
       "2  AT 545 AM I LOOKED UP AND SAID WHAT THE HELL I...  2/25/20  \n",
       "3               light moving at a high rate of speed  2/25/20  \n",
       "4  DURING ISS PASS VIEWING SMALL OBJECT APPEARS T...  2/25/20  "
      ]
     },
     "execution_count": 7,
     "metadata": {},
     "output_type": "execute_result"
    }
   ],
   "source": [
    "csv_file = \"Resources/nuforc_reports.csv\"\n",
    "df = pd.read_csv(csv_file)\n",
    "df.head()"
   ]
  },
  {
   "cell_type": "code",
   "execution_count": 8,
   "metadata": {},
   "outputs": [
    {
     "name": "stdout",
     "output_type": "stream",
     "text": [
      "Date / Time\n",
      "City\n",
      "State\n",
      "Shape\n",
      "Duration\n",
      "Summary\n",
      "Posted\n"
     ]
    }
   ],
   "source": [
    "# Lets take a look at what we are starting with\n",
    "for col in df.columns: \n",
    "    print(col) "
   ]
  },
  {
   "cell_type": "code",
   "execution_count": 9,
   "metadata": {},
   "outputs": [
    {
     "name": "stdout",
     "output_type": "stream",
     "text": [
      "Date / Time    6587\n",
      "City           6557\n",
      "State          6366\n",
      "Shape          5835\n",
      "Duration       5804\n",
      "Summary        6570\n",
      "Posted         6587\n",
      "dtype: int64\n"
     ]
    },
    {
     "data": {
      "text/html": [
       "<div>\n",
       "<style scoped>\n",
       "    .dataframe tbody tr th:only-of-type {\n",
       "        vertical-align: middle;\n",
       "    }\n",
       "\n",
       "    .dataframe tbody tr th {\n",
       "        vertical-align: top;\n",
       "    }\n",
       "\n",
       "    .dataframe thead th {\n",
       "        text-align: right;\n",
       "    }\n",
       "</style>\n",
       "<table border=\"1\" class=\"dataframe\">\n",
       "  <thead>\n",
       "    <tr style=\"text-align: right;\">\n",
       "      <th></th>\n",
       "      <th>Date / Time</th>\n",
       "      <th>City</th>\n",
       "      <th>State</th>\n",
       "      <th>Shape</th>\n",
       "      <th>Duration</th>\n",
       "      <th>Summary</th>\n",
       "      <th>Posted</th>\n",
       "    </tr>\n",
       "  </thead>\n",
       "  <tbody>\n",
       "    <tr>\n",
       "      <td>0</td>\n",
       "      <td>2/24/20 12:45</td>\n",
       "      <td>Chester</td>\n",
       "      <td>NH</td>\n",
       "      <td>Disk</td>\n",
       "      <td>~1 minute</td>\n",
       "      <td>12:45 PM-shiny, disk/saucer shape seen in dayl...</td>\n",
       "      <td>2/25/20</td>\n",
       "    </tr>\n",
       "    <tr>\n",
       "      <td>1</td>\n",
       "      <td>2/24/20 06:00</td>\n",
       "      <td>Medford</td>\n",
       "      <td>OR</td>\n",
       "      <td>Formation</td>\n",
       "      <td>5 minutes</td>\n",
       "      <td>20 lights in formation across sky. ((\"Starlink...</td>\n",
       "      <td>2/25/20</td>\n",
       "    </tr>\n",
       "    <tr>\n",
       "      <td>2</td>\n",
       "      <td>2/24/20 05:45</td>\n",
       "      <td>Medford</td>\n",
       "      <td>OR</td>\n",
       "      <td>Other</td>\n",
       "      <td>10 minutes</td>\n",
       "      <td>AT 545 AM I LOOKED UP AND SAID WHAT THE HELL I...</td>\n",
       "      <td>2/25/20</td>\n",
       "    </tr>\n",
       "    <tr>\n",
       "      <td>3</td>\n",
       "      <td>2/24/20 05:30</td>\n",
       "      <td>Charlestown</td>\n",
       "      <td>RI</td>\n",
       "      <td>Light</td>\n",
       "      <td>2-3 minutes</td>\n",
       "      <td>light moving at a high rate of speed</td>\n",
       "      <td>2/25/20</td>\n",
       "    </tr>\n",
       "    <tr>\n",
       "      <td>4</td>\n",
       "      <td>2/24/20 05:21</td>\n",
       "      <td>Edison</td>\n",
       "      <td>NJ</td>\n",
       "      <td>Light</td>\n",
       "      <td>25 seconds</td>\n",
       "      <td>DURING ISS PASS VIEWING SMALL OBJECT APPEARS T...</td>\n",
       "      <td>2/25/20</td>\n",
       "    </tr>\n",
       "  </tbody>\n",
       "</table>\n",
       "</div>"
      ],
      "text/plain": [
       "     Date / Time         City State      Shape     Duration  \\\n",
       "0  2/24/20 12:45      Chester    NH       Disk    ~1 minute   \n",
       "1  2/24/20 06:00      Medford    OR  Formation    5 minutes   \n",
       "2  2/24/20 05:45      Medford    OR      Other   10 minutes   \n",
       "3  2/24/20 05:30  Charlestown    RI      Light  2-3 minutes   \n",
       "4  2/24/20 05:21       Edison    NJ      Light   25 seconds   \n",
       "\n",
       "                                             Summary   Posted  \n",
       "0  12:45 PM-shiny, disk/saucer shape seen in dayl...  2/25/20  \n",
       "1  20 lights in formation across sky. ((\"Starlink...  2/25/20  \n",
       "2  AT 545 AM I LOOKED UP AND SAID WHAT THE HELL I...  2/25/20  \n",
       "3               light moving at a high rate of speed  2/25/20  \n",
       "4  DURING ISS PASS VIEWING SMALL OBJECT APPEARS T...  2/25/20  "
      ]
     },
     "execution_count": 9,
     "metadata": {},
     "output_type": "execute_result"
    }
   ],
   "source": [
    "df2 = df.loc[:, ~df.columns.str.contains('^Unnamed')]\n",
    "print(df2.count())\n",
    "df2.head()\n"
   ]
  },
  {
   "cell_type": "code",
   "execution_count": 10,
   "metadata": {},
   "outputs": [
    {
     "name": "stdout",
     "output_type": "stream",
     "text": [
      "Date / Time    6557\n",
      "City           6527\n",
      "State          6337\n",
      "Shape          5815\n",
      "Duration       5784\n",
      "Summary        6540\n",
      "Posted         6557\n",
      "dtype: int64\n"
     ]
    },
    {
     "data": {
      "text/html": [
       "<div>\n",
       "<style scoped>\n",
       "    .dataframe tbody tr th:only-of-type {\n",
       "        vertical-align: middle;\n",
       "    }\n",
       "\n",
       "    .dataframe tbody tr th {\n",
       "        vertical-align: top;\n",
       "    }\n",
       "\n",
       "    .dataframe thead th {\n",
       "        text-align: right;\n",
       "    }\n",
       "</style>\n",
       "<table border=\"1\" class=\"dataframe\">\n",
       "  <thead>\n",
       "    <tr style=\"text-align: right;\">\n",
       "      <th></th>\n",
       "      <th>Date / Time</th>\n",
       "      <th>City</th>\n",
       "      <th>State</th>\n",
       "      <th>Shape</th>\n",
       "      <th>Duration</th>\n",
       "      <th>Summary</th>\n",
       "      <th>Posted</th>\n",
       "    </tr>\n",
       "  </thead>\n",
       "  <tbody>\n",
       "    <tr>\n",
       "      <td>0</td>\n",
       "      <td>2/24/20 12:45</td>\n",
       "      <td>Chester</td>\n",
       "      <td>NH</td>\n",
       "      <td>Disk</td>\n",
       "      <td>~1 minute</td>\n",
       "      <td>12:45 PM-shiny, disk/saucer shape seen in dayl...</td>\n",
       "      <td>2/25/20</td>\n",
       "    </tr>\n",
       "    <tr>\n",
       "      <td>1</td>\n",
       "      <td>2/24/20 06:00</td>\n",
       "      <td>Medford</td>\n",
       "      <td>OR</td>\n",
       "      <td>Formation</td>\n",
       "      <td>5 minutes</td>\n",
       "      <td>20 lights in formation across sky. ((\"Starlink...</td>\n",
       "      <td>2/25/20</td>\n",
       "    </tr>\n",
       "    <tr>\n",
       "      <td>2</td>\n",
       "      <td>2/24/20 05:45</td>\n",
       "      <td>Medford</td>\n",
       "      <td>OR</td>\n",
       "      <td>Other</td>\n",
       "      <td>10 minutes</td>\n",
       "      <td>AT 545 AM I LOOKED UP AND SAID WHAT THE HELL I...</td>\n",
       "      <td>2/25/20</td>\n",
       "    </tr>\n",
       "    <tr>\n",
       "      <td>3</td>\n",
       "      <td>2/24/20 05:30</td>\n",
       "      <td>Charlestown</td>\n",
       "      <td>RI</td>\n",
       "      <td>Light</td>\n",
       "      <td>2-3 minutes</td>\n",
       "      <td>light moving at a high rate of speed</td>\n",
       "      <td>2/25/20</td>\n",
       "    </tr>\n",
       "    <tr>\n",
       "      <td>4</td>\n",
       "      <td>2/24/20 05:21</td>\n",
       "      <td>Edison</td>\n",
       "      <td>NJ</td>\n",
       "      <td>Light</td>\n",
       "      <td>25 seconds</td>\n",
       "      <td>DURING ISS PASS VIEWING SMALL OBJECT APPEARS T...</td>\n",
       "      <td>2/25/20</td>\n",
       "    </tr>\n",
       "  </tbody>\n",
       "</table>\n",
       "</div>"
      ],
      "text/plain": [
       "     Date / Time         City State      Shape     Duration  \\\n",
       "0  2/24/20 12:45      Chester    NH       Disk    ~1 minute   \n",
       "1  2/24/20 06:00      Medford    OR  Formation    5 minutes   \n",
       "2  2/24/20 05:45      Medford    OR      Other   10 minutes   \n",
       "3  2/24/20 05:30  Charlestown    RI      Light  2-3 minutes   \n",
       "4  2/24/20 05:21       Edison    NJ      Light   25 seconds   \n",
       "\n",
       "                                             Summary   Posted  \n",
       "0  12:45 PM-shiny, disk/saucer shape seen in dayl...  2/25/20  \n",
       "1  20 lights in formation across sky. ((\"Starlink...  2/25/20  \n",
       "2  AT 545 AM I LOOKED UP AND SAID WHAT THE HELL I...  2/25/20  \n",
       "3               light moving at a high rate of speed  2/25/20  \n",
       "4  DURING ISS PASS VIEWING SMALL OBJECT APPEARS T...  2/25/20  "
      ]
     },
     "execution_count": 10,
     "metadata": {},
     "output_type": "execute_result"
    }
   ],
   "source": [
    "#remove duplicates\n",
    "df3 = df2.copy()\n",
    "\n",
    "df3.drop_duplicates(subset=None, keep='first', inplace=True)\n",
    "print(df3.count())\n",
    "df3.head()"
   ]
  },
  {
   "cell_type": "code",
   "execution_count": 11,
   "metadata": {
    "scrolled": true
   },
   "outputs": [
    {
     "data": {
      "text/html": [
       "<div>\n",
       "<style scoped>\n",
       "    .dataframe tbody tr th:only-of-type {\n",
       "        vertical-align: middle;\n",
       "    }\n",
       "\n",
       "    .dataframe tbody tr th {\n",
       "        vertical-align: top;\n",
       "    }\n",
       "\n",
       "    .dataframe thead th {\n",
       "        text-align: right;\n",
       "    }\n",
       "</style>\n",
       "<table border=\"1\" class=\"dataframe\">\n",
       "  <thead>\n",
       "    <tr style=\"text-align: right;\">\n",
       "      <th></th>\n",
       "      <th>Date / Time</th>\n",
       "      <th>City</th>\n",
       "      <th>State</th>\n",
       "      <th>Shape</th>\n",
       "      <th>Duration</th>\n",
       "      <th>Summary</th>\n",
       "      <th>Posted</th>\n",
       "    </tr>\n",
       "  </thead>\n",
       "  <tbody>\n",
       "    <tr>\n",
       "      <td>0</td>\n",
       "      <td>2/24/20 12:45</td>\n",
       "      <td>Chester</td>\n",
       "      <td>NH</td>\n",
       "      <td>Disk</td>\n",
       "      <td>~1 minute</td>\n",
       "      <td>12:45 PM-shiny, disk/saucer shape seen in dayl...</td>\n",
       "      <td>2/25/20</td>\n",
       "    </tr>\n",
       "    <tr>\n",
       "      <td>1</td>\n",
       "      <td>2/24/20 06:00</td>\n",
       "      <td>Medford</td>\n",
       "      <td>OR</td>\n",
       "      <td>Formation</td>\n",
       "      <td>5 minutes</td>\n",
       "      <td>20 lights in formation across sky. ((\"Starlink...</td>\n",
       "      <td>2/25/20</td>\n",
       "    </tr>\n",
       "    <tr>\n",
       "      <td>2</td>\n",
       "      <td>2/24/20 05:45</td>\n",
       "      <td>Medford</td>\n",
       "      <td>OR</td>\n",
       "      <td>Other</td>\n",
       "      <td>10 minutes</td>\n",
       "      <td>AT 545 AM I LOOKED UP AND SAID WHAT THE HELL I...</td>\n",
       "      <td>2/25/20</td>\n",
       "    </tr>\n",
       "    <tr>\n",
       "      <td>3</td>\n",
       "      <td>2/24/20 05:30</td>\n",
       "      <td>Charlestown</td>\n",
       "      <td>RI</td>\n",
       "      <td>Light</td>\n",
       "      <td>2-3 minutes</td>\n",
       "      <td>light moving at a high rate of speed</td>\n",
       "      <td>2/25/20</td>\n",
       "    </tr>\n",
       "    <tr>\n",
       "      <td>4</td>\n",
       "      <td>2/24/20 05:21</td>\n",
       "      <td>Edison</td>\n",
       "      <td>NJ</td>\n",
       "      <td>Light</td>\n",
       "      <td>25 seconds</td>\n",
       "      <td>DURING ISS PASS VIEWING SMALL OBJECT APPEARS T...</td>\n",
       "      <td>2/25/20</td>\n",
       "    </tr>\n",
       "    <tr>\n",
       "      <td>...</td>\n",
       "      <td>...</td>\n",
       "      <td>...</td>\n",
       "      <td>...</td>\n",
       "      <td>...</td>\n",
       "      <td>...</td>\n",
       "      <td>...</td>\n",
       "      <td>...</td>\n",
       "    </tr>\n",
       "    <tr>\n",
       "      <td>6582</td>\n",
       "      <td>3/1/19 19:12</td>\n",
       "      <td>East Wenatchee</td>\n",
       "      <td>WA</td>\n",
       "      <td>Light</td>\n",
       "      <td>10 seconds</td>\n",
       "      <td>Orange pulsing light.</td>\n",
       "      <td>3/14/19</td>\n",
       "    </tr>\n",
       "    <tr>\n",
       "      <td>6583</td>\n",
       "      <td>3/1/19 18:07</td>\n",
       "      <td>Mebane</td>\n",
       "      <td>NC</td>\n",
       "      <td>Changing</td>\n",
       "      <td>Months (since December) l</td>\n",
       "      <td>Interdimensional Beings Caught using thermal v...</td>\n",
       "      <td>3/14/19</td>\n",
       "    </tr>\n",
       "    <tr>\n",
       "      <td>6584</td>\n",
       "      <td>3/1/19 13:28</td>\n",
       "      <td>Eagle River</td>\n",
       "      <td>AK</td>\n",
       "      <td>Cylinder</td>\n",
       "      <td>5</td>\n",
       "      <td>Driving down eagle river road looked into sky ...</td>\n",
       "      <td>3/14/19</td>\n",
       "    </tr>\n",
       "    <tr>\n",
       "      <td>6585</td>\n",
       "      <td>3/1/19 13:00</td>\n",
       "      <td>Greenville</td>\n",
       "      <td>SC</td>\n",
       "      <td>NaN</td>\n",
       "      <td>10 minutes</td>\n",
       "      <td>Reptilian or Grey alien contact.</td>\n",
       "      <td>8/23/19</td>\n",
       "    </tr>\n",
       "    <tr>\n",
       "      <td>6586</td>\n",
       "      <td>3/1/19 03:00</td>\n",
       "      <td>Red Wing</td>\n",
       "      <td>MN</td>\n",
       "      <td>Triangle</td>\n",
       "      <td>2 minutes</td>\n",
       "      <td>about 3 a.m. I observed a bright triangular-sh...</td>\n",
       "      <td>3/14/19</td>\n",
       "    </tr>\n",
       "  </tbody>\n",
       "</table>\n",
       "<p>6121 rows × 7 columns</p>\n",
       "</div>"
      ],
      "text/plain": [
       "        Date / Time            City State      Shape  \\\n",
       "0     2/24/20 12:45         Chester    NH       Disk   \n",
       "1     2/24/20 06:00         Medford    OR  Formation   \n",
       "2     2/24/20 05:45         Medford    OR      Other   \n",
       "3     2/24/20 05:30     Charlestown    RI      Light   \n",
       "4     2/24/20 05:21          Edison    NJ      Light   \n",
       "...             ...             ...   ...        ...   \n",
       "6582   3/1/19 19:12  East Wenatchee    WA      Light   \n",
       "6583   3/1/19 18:07          Mebane    NC   Changing   \n",
       "6584   3/1/19 13:28     Eagle River    AK   Cylinder   \n",
       "6585   3/1/19 13:00      Greenville    SC        NaN   \n",
       "6586   3/1/19 03:00        Red Wing    MN   Triangle   \n",
       "\n",
       "                       Duration  \\\n",
       "0                     ~1 minute   \n",
       "1                     5 minutes   \n",
       "2                    10 minutes   \n",
       "3                   2-3 minutes   \n",
       "4                    25 seconds   \n",
       "...                         ...   \n",
       "6582                 10 seconds   \n",
       "6583  Months (since December) l   \n",
       "6584                          5   \n",
       "6585                 10 minutes   \n",
       "6586                  2 minutes   \n",
       "\n",
       "                                                Summary   Posted  \n",
       "0     12:45 PM-shiny, disk/saucer shape seen in dayl...  2/25/20  \n",
       "1     20 lights in formation across sky. ((\"Starlink...  2/25/20  \n",
       "2     AT 545 AM I LOOKED UP AND SAID WHAT THE HELL I...  2/25/20  \n",
       "3                  light moving at a high rate of speed  2/25/20  \n",
       "4     DURING ISS PASS VIEWING SMALL OBJECT APPEARS T...  2/25/20  \n",
       "...                                                 ...      ...  \n",
       "6582                              Orange pulsing light.  3/14/19  \n",
       "6583  Interdimensional Beings Caught using thermal v...  3/14/19  \n",
       "6584  Driving down eagle river road looked into sky ...  3/14/19  \n",
       "6585                   Reptilian or Grey alien contact.  8/23/19  \n",
       "6586  about 3 a.m. I observed a bright triangular-sh...  3/14/19  \n",
       "\n",
       "[6121 rows x 7 columns]"
      ]
     },
     "execution_count": 11,
     "metadata": {},
     "output_type": "execute_result"
    }
   ],
   "source": [
    "#only US States\n",
    "aliens_df = df3[\\\n",
    "(df3['State']=='AL')|(df3['State']=='AK')|(df3['State']=='AZ')\\\n",
    "|(df3['State']=='AR')|(df3['State']=='CA')|(df3['State']=='CO')\\\n",
    "|(df3['State']=='CT')|(df3['State']=='DE')|(df3['State']=='FL')\\\n",
    "|(df3['State']=='GA')|(df3['State']=='HI')|(df3['State']=='ID')\\\n",
    "|(df3['State']=='IL')|(df3['State']=='IN')|(df3['State']=='IA')\\\n",
    "|(df3['State']=='KS')|(df3['State']=='KY')|(df3['State']=='LA')\\\n",
    "|(df3['State']=='ME')|(df3['State']=='MD')|(df3['State']=='MA')\\\n",
    "|(df3['State']=='MI')|(df3['State']=='MN')|(df3['State']=='MS')\\\n",
    "|(df3['State']=='MO')|(df3['State']=='MT')|(df3['State']=='NE')\\\n",
    "|(df3['State']=='NV')|(df3['State']=='NH')|(df3['State']=='NJ')\\\n",
    "|(df3['State']=='NM')|(df3['State']=='NY')|(df3['State']=='NC')\\\n",
    "|(df3['State']=='ND')|(df3['State']=='OH')|(df3['State']=='OK')\\\n",
    "|(df3['State']=='OR')|(df3['State']=='PA')|(df3['State']=='RI')\\\n",
    "|(df3['State']=='SC')|(df3['State']=='SD')|(df3['State']=='TN')\\\n",
    "|(df3['State']=='TX')|(df3['State']=='UT')|(df3['State']=='VT')\\\n",
    "|(df3['State']=='VA')|(df3['State']=='WA')|(df3['State']=='WV')\\\n",
    "|(df3['State']=='WI')|(df3['State']=='WY')]\n",
    "aliens_df\n",
    "\n"
   ]
  },
  {
   "cell_type": "code",
   "execution_count": 12,
   "metadata": {
    "scrolled": true
   },
   "outputs": [
    {
     "name": "stderr",
     "output_type": "stream",
     "text": [
      "C:\\ProgramData\\Anaconda3\\lib\\site-packages\\ipykernel_launcher.py:2: SettingWithCopyWarning:\n",
      "\n",
      "\n",
      "A value is trying to be set on a copy of a slice from a DataFrame.\n",
      "Try using .loc[row_indexer,col_indexer] = value instead\n",
      "\n",
      "See the caveats in the documentation: http://pandas.pydata.org/pandas-docs/stable/user_guide/indexing.html#returning-a-view-versus-a-copy\n",
      "\n"
     ]
    },
    {
     "data": {
      "text/html": [
       "<div>\n",
       "<style scoped>\n",
       "    .dataframe tbody tr th:only-of-type {\n",
       "        vertical-align: middle;\n",
       "    }\n",
       "\n",
       "    .dataframe tbody tr th {\n",
       "        vertical-align: top;\n",
       "    }\n",
       "\n",
       "    .dataframe thead th {\n",
       "        text-align: right;\n",
       "    }\n",
       "</style>\n",
       "<table border=\"1\" class=\"dataframe\">\n",
       "  <thead>\n",
       "    <tr style=\"text-align: right;\">\n",
       "      <th></th>\n",
       "      <th>Date / Time</th>\n",
       "      <th>City</th>\n",
       "      <th>State</th>\n",
       "      <th>Shape</th>\n",
       "      <th>Duration</th>\n",
       "      <th>Summary</th>\n",
       "      <th>Posted</th>\n",
       "      <th>Type</th>\n",
       "    </tr>\n",
       "  </thead>\n",
       "  <tbody>\n",
       "    <tr>\n",
       "      <td>0</td>\n",
       "      <td>2/24/20 12:45</td>\n",
       "      <td>Chester</td>\n",
       "      <td>NH</td>\n",
       "      <td>Disk</td>\n",
       "      <td>~1 minute</td>\n",
       "      <td>12:45 PM-shiny, disk/saucer shape seen in dayl...</td>\n",
       "      <td>2/25/20</td>\n",
       "      <td>Sighting</td>\n",
       "    </tr>\n",
       "    <tr>\n",
       "      <td>1</td>\n",
       "      <td>2/24/20 06:00</td>\n",
       "      <td>Medford</td>\n",
       "      <td>OR</td>\n",
       "      <td>Formation</td>\n",
       "      <td>5 minutes</td>\n",
       "      <td>20 lights in formation across sky. ((\"Starlink...</td>\n",
       "      <td>2/25/20</td>\n",
       "      <td>Sighting</td>\n",
       "    </tr>\n",
       "    <tr>\n",
       "      <td>2</td>\n",
       "      <td>2/24/20 05:45</td>\n",
       "      <td>Medford</td>\n",
       "      <td>OR</td>\n",
       "      <td>Other</td>\n",
       "      <td>10 minutes</td>\n",
       "      <td>AT 545 AM I LOOKED UP AND SAID WHAT THE HELL I...</td>\n",
       "      <td>2/25/20</td>\n",
       "      <td>Sighting</td>\n",
       "    </tr>\n",
       "    <tr>\n",
       "      <td>3</td>\n",
       "      <td>2/24/20 05:30</td>\n",
       "      <td>Charlestown</td>\n",
       "      <td>RI</td>\n",
       "      <td>Light</td>\n",
       "      <td>2-3 minutes</td>\n",
       "      <td>light moving at a high rate of speed</td>\n",
       "      <td>2/25/20</td>\n",
       "      <td>Sighting</td>\n",
       "    </tr>\n",
       "    <tr>\n",
       "      <td>4</td>\n",
       "      <td>2/24/20 05:21</td>\n",
       "      <td>Edison</td>\n",
       "      <td>NJ</td>\n",
       "      <td>Light</td>\n",
       "      <td>25 seconds</td>\n",
       "      <td>DURING ISS PASS VIEWING SMALL OBJECT APPEARS T...</td>\n",
       "      <td>2/25/20</td>\n",
       "      <td>Sighting</td>\n",
       "    </tr>\n",
       "  </tbody>\n",
       "</table>\n",
       "</div>"
      ],
      "text/plain": [
       "     Date / Time         City State      Shape     Duration  \\\n",
       "0  2/24/20 12:45      Chester    NH       Disk    ~1 minute   \n",
       "1  2/24/20 06:00      Medford    OR  Formation    5 minutes   \n",
       "2  2/24/20 05:45      Medford    OR      Other   10 minutes   \n",
       "3  2/24/20 05:30  Charlestown    RI      Light  2-3 minutes   \n",
       "4  2/24/20 05:21       Edison    NJ      Light   25 seconds   \n",
       "\n",
       "                                             Summary   Posted      Type  \n",
       "0  12:45 PM-shiny, disk/saucer shape seen in dayl...  2/25/20  Sighting  \n",
       "1  20 lights in formation across sky. ((\"Starlink...  2/25/20  Sighting  \n",
       "2  AT 545 AM I LOOKED UP AND SAID WHAT THE HELL I...  2/25/20  Sighting  \n",
       "3               light moving at a high rate of speed  2/25/20  Sighting  \n",
       "4  DURING ISS PASS VIEWING SMALL OBJECT APPEARS T...  2/25/20  Sighting  "
      ]
     },
     "execution_count": 12,
     "metadata": {},
     "output_type": "execute_result"
    }
   ],
   "source": [
    "# add type column to df\n",
    "aliens_df['Type']='Sighting'\n",
    "aliens_df.head()"
   ]
  },
  {
   "cell_type": "code",
   "execution_count": 14,
   "metadata": {},
   "outputs": [
    {
     "name": "stderr",
     "output_type": "stream",
     "text": [
      "C:\\ProgramData\\Anaconda3\\lib\\site-packages\\ipykernel_launcher.py:2: SettingWithCopyWarning:\n",
      "\n",
      "\n",
      "A value is trying to be set on a copy of a slice from a DataFrame.\n",
      "Try using .loc[row_indexer,col_indexer] = value instead\n",
      "\n",
      "See the caveats in the documentation: http://pandas.pydata.org/pandas-docs/stable/user_guide/indexing.html#returning-a-view-versus-a-copy\n",
      "\n"
     ]
    },
    {
     "data": {
      "text/html": [
       "<div>\n",
       "<style scoped>\n",
       "    .dataframe tbody tr th:only-of-type {\n",
       "        vertical-align: middle;\n",
       "    }\n",
       "\n",
       "    .dataframe tbody tr th {\n",
       "        vertical-align: top;\n",
       "    }\n",
       "\n",
       "    .dataframe thead th {\n",
       "        text-align: right;\n",
       "    }\n",
       "</style>\n",
       "<table border=\"1\" class=\"dataframe\">\n",
       "  <thead>\n",
       "    <tr style=\"text-align: right;\">\n",
       "      <th></th>\n",
       "      <th>Date / Time</th>\n",
       "      <th>City</th>\n",
       "      <th>State</th>\n",
       "      <th>Shape</th>\n",
       "      <th>Duration</th>\n",
       "      <th>Summary</th>\n",
       "      <th>Posted</th>\n",
       "      <th>Type</th>\n",
       "      <th>text</th>\n",
       "    </tr>\n",
       "  </thead>\n",
       "  <tbody>\n",
       "    <tr>\n",
       "      <td>0</td>\n",
       "      <td>2/24/20 12:45</td>\n",
       "      <td>Chester</td>\n",
       "      <td>NH</td>\n",
       "      <td>Disk</td>\n",
       "      <td>~1 minute</td>\n",
       "      <td>12:45 PM-shiny, disk/saucer shape seen in dayl...</td>\n",
       "      <td>2/25/20</td>\n",
       "      <td>Sighting</td>\n",
       "      <td>Sighting : Chester</td>\n",
       "    </tr>\n",
       "    <tr>\n",
       "      <td>1</td>\n",
       "      <td>2/24/20 06:00</td>\n",
       "      <td>Medford</td>\n",
       "      <td>OR</td>\n",
       "      <td>Formation</td>\n",
       "      <td>5 minutes</td>\n",
       "      <td>20 lights in formation across sky. ((\"Starlink...</td>\n",
       "      <td>2/25/20</td>\n",
       "      <td>Sighting</td>\n",
       "      <td>Sighting : Medford</td>\n",
       "    </tr>\n",
       "    <tr>\n",
       "      <td>2</td>\n",
       "      <td>2/24/20 05:45</td>\n",
       "      <td>Medford</td>\n",
       "      <td>OR</td>\n",
       "      <td>Other</td>\n",
       "      <td>10 minutes</td>\n",
       "      <td>AT 545 AM I LOOKED UP AND SAID WHAT THE HELL I...</td>\n",
       "      <td>2/25/20</td>\n",
       "      <td>Sighting</td>\n",
       "      <td>Sighting : Medford</td>\n",
       "    </tr>\n",
       "    <tr>\n",
       "      <td>3</td>\n",
       "      <td>2/24/20 05:30</td>\n",
       "      <td>Charlestown</td>\n",
       "      <td>RI</td>\n",
       "      <td>Light</td>\n",
       "      <td>2-3 minutes</td>\n",
       "      <td>light moving at a high rate of speed</td>\n",
       "      <td>2/25/20</td>\n",
       "      <td>Sighting</td>\n",
       "      <td>Sighting : Charlestown</td>\n",
       "    </tr>\n",
       "    <tr>\n",
       "      <td>4</td>\n",
       "      <td>2/24/20 05:21</td>\n",
       "      <td>Edison</td>\n",
       "      <td>NJ</td>\n",
       "      <td>Light</td>\n",
       "      <td>25 seconds</td>\n",
       "      <td>DURING ISS PASS VIEWING SMALL OBJECT APPEARS T...</td>\n",
       "      <td>2/25/20</td>\n",
       "      <td>Sighting</td>\n",
       "      <td>Sighting : Edison</td>\n",
       "    </tr>\n",
       "  </tbody>\n",
       "</table>\n",
       "</div>"
      ],
      "text/plain": [
       "     Date / Time         City State      Shape     Duration  \\\n",
       "0  2/24/20 12:45      Chester    NH       Disk    ~1 minute   \n",
       "1  2/24/20 06:00      Medford    OR  Formation    5 minutes   \n",
       "2  2/24/20 05:45      Medford    OR      Other   10 minutes   \n",
       "3  2/24/20 05:30  Charlestown    RI      Light  2-3 minutes   \n",
       "4  2/24/20 05:21       Edison    NJ      Light   25 seconds   \n",
       "\n",
       "                                             Summary   Posted      Type  \\\n",
       "0  12:45 PM-shiny, disk/saucer shape seen in dayl...  2/25/20  Sighting   \n",
       "1  20 lights in formation across sky. ((\"Starlink...  2/25/20  Sighting   \n",
       "2  AT 545 AM I LOOKED UP AND SAID WHAT THE HELL I...  2/25/20  Sighting   \n",
       "3               light moving at a high rate of speed  2/25/20  Sighting   \n",
       "4  DURING ISS PASS VIEWING SMALL OBJECT APPEARS T...  2/25/20  Sighting   \n",
       "\n",
       "                     text  \n",
       "0      Sighting : Chester  \n",
       "1      Sighting : Medford  \n",
       "2      Sighting : Medford  \n",
       "3  Sighting : Charlestown  \n",
       "4       Sighting : Edison  "
      ]
     },
     "execution_count": 14,
     "metadata": {},
     "output_type": "execute_result"
    }
   ],
   "source": [
    "# adding text column for mapping\n",
    "aliens_df['text'] = aliens_df['Type'].astype(str) + ' : ' + aliens_df['City'].astype(str)\n",
    "\n",
    "aliens_df.head()"
   ]
  },
  {
   "cell_type": "code",
   "execution_count": 15,
   "metadata": {},
   "outputs": [],
   "source": [
    "aliens_df.to_csv(\"Resources/clean_aliens.csv\", index = False)"
   ]
  },
  {
   "cell_type": "markdown",
   "metadata": {},
   "source": [
    "## Retrieve Lat/Long"
   ]
  },
  {
   "cell_type": "code",
   "execution_count": 16,
   "metadata": {},
   "outputs": [
    {
     "data": {
      "text/html": [
       "<div>\n",
       "<style scoped>\n",
       "    .dataframe tbody tr th:only-of-type {\n",
       "        vertical-align: middle;\n",
       "    }\n",
       "\n",
       "    .dataframe tbody tr th {\n",
       "        vertical-align: top;\n",
       "    }\n",
       "\n",
       "    .dataframe thead th {\n",
       "        text-align: right;\n",
       "    }\n",
       "</style>\n",
       "<table border=\"1\" class=\"dataframe\">\n",
       "  <thead>\n",
       "    <tr style=\"text-align: right;\">\n",
       "      <th></th>\n",
       "      <th>Date / Time</th>\n",
       "      <th>City</th>\n",
       "      <th>State</th>\n",
       "      <th>Shape</th>\n",
       "      <th>Duration</th>\n",
       "      <th>Summary</th>\n",
       "      <th>Posted</th>\n",
       "      <th>Type</th>\n",
       "      <th>text</th>\n",
       "    </tr>\n",
       "  </thead>\n",
       "  <tbody>\n",
       "    <tr>\n",
       "      <td>0</td>\n",
       "      <td>2/24/20 12:45</td>\n",
       "      <td>Chester</td>\n",
       "      <td>NH</td>\n",
       "      <td>Disk</td>\n",
       "      <td>~1 minute</td>\n",
       "      <td>12:45 PM-shiny, disk/saucer shape seen in dayl...</td>\n",
       "      <td>2/25/20</td>\n",
       "      <td>Sighting</td>\n",
       "      <td>Sighting : Chester</td>\n",
       "    </tr>\n",
       "    <tr>\n",
       "      <td>1</td>\n",
       "      <td>2/24/20 06:00</td>\n",
       "      <td>Medford</td>\n",
       "      <td>OR</td>\n",
       "      <td>Formation</td>\n",
       "      <td>5 minutes</td>\n",
       "      <td>20 lights in formation across sky. ((\"Starlink...</td>\n",
       "      <td>2/25/20</td>\n",
       "      <td>Sighting</td>\n",
       "      <td>Sighting : Medford</td>\n",
       "    </tr>\n",
       "    <tr>\n",
       "      <td>2</td>\n",
       "      <td>2/24/20 05:45</td>\n",
       "      <td>Medford</td>\n",
       "      <td>OR</td>\n",
       "      <td>Other</td>\n",
       "      <td>10 minutes</td>\n",
       "      <td>AT 545 AM I LOOKED UP AND SAID WHAT THE HELL I...</td>\n",
       "      <td>2/25/20</td>\n",
       "      <td>Sighting</td>\n",
       "      <td>Sighting : Medford</td>\n",
       "    </tr>\n",
       "    <tr>\n",
       "      <td>3</td>\n",
       "      <td>2/24/20 05:30</td>\n",
       "      <td>Charlestown</td>\n",
       "      <td>RI</td>\n",
       "      <td>Light</td>\n",
       "      <td>2-3 minutes</td>\n",
       "      <td>light moving at a high rate of speed</td>\n",
       "      <td>2/25/20</td>\n",
       "      <td>Sighting</td>\n",
       "      <td>Sighting : Charlestown</td>\n",
       "    </tr>\n",
       "    <tr>\n",
       "      <td>4</td>\n",
       "      <td>2/24/20 05:21</td>\n",
       "      <td>Edison</td>\n",
       "      <td>NJ</td>\n",
       "      <td>Light</td>\n",
       "      <td>25 seconds</td>\n",
       "      <td>DURING ISS PASS VIEWING SMALL OBJECT APPEARS T...</td>\n",
       "      <td>2/25/20</td>\n",
       "      <td>Sighting</td>\n",
       "      <td>Sighting : Edison</td>\n",
       "    </tr>\n",
       "  </tbody>\n",
       "</table>\n",
       "</div>"
      ],
      "text/plain": [
       "     Date / Time         City State      Shape     Duration  \\\n",
       "0  2/24/20 12:45      Chester    NH       Disk    ~1 minute   \n",
       "1  2/24/20 06:00      Medford    OR  Formation    5 minutes   \n",
       "2  2/24/20 05:45      Medford    OR      Other   10 minutes   \n",
       "3  2/24/20 05:30  Charlestown    RI      Light  2-3 minutes   \n",
       "4  2/24/20 05:21       Edison    NJ      Light   25 seconds   \n",
       "\n",
       "                                             Summary   Posted      Type  \\\n",
       "0  12:45 PM-shiny, disk/saucer shape seen in dayl...  2/25/20  Sighting   \n",
       "1  20 lights in formation across sky. ((\"Starlink...  2/25/20  Sighting   \n",
       "2  AT 545 AM I LOOKED UP AND SAID WHAT THE HELL I...  2/25/20  Sighting   \n",
       "3               light moving at a high rate of speed  2/25/20  Sighting   \n",
       "4  DURING ISS PASS VIEWING SMALL OBJECT APPEARS T...  2/25/20  Sighting   \n",
       "\n",
       "                     text  \n",
       "0      Sighting : Chester  \n",
       "1      Sighting : Medford  \n",
       "2      Sighting : Medford  \n",
       "3  Sighting : Charlestown  \n",
       "4       Sighting : Edison  "
      ]
     },
     "execution_count": 16,
     "metadata": {},
     "output_type": "execute_result"
    }
   ],
   "source": [
    "# Import aliens file as DataFrame\n",
    "aliens_pd = pd.read_csv(\"Resources/clean_aliens.csv\")\n",
    "aliens_pd.head()"
   ]
  },
  {
   "cell_type": "code",
   "execution_count": 17,
   "metadata": {},
   "outputs": [
    {
     "data": {
      "text/html": [
       "<div>\n",
       "<style scoped>\n",
       "    .dataframe tbody tr th:only-of-type {\n",
       "        vertical-align: middle;\n",
       "    }\n",
       "\n",
       "    .dataframe tbody tr th {\n",
       "        vertical-align: top;\n",
       "    }\n",
       "\n",
       "    .dataframe thead th {\n",
       "        text-align: right;\n",
       "    }\n",
       "</style>\n",
       "<table border=\"1\" class=\"dataframe\">\n",
       "  <thead>\n",
       "    <tr style=\"text-align: right;\">\n",
       "      <th></th>\n",
       "      <th>Date / Time</th>\n",
       "      <th>City</th>\n",
       "      <th>State</th>\n",
       "      <th>Shape</th>\n",
       "      <th>Duration</th>\n",
       "      <th>Summary</th>\n",
       "      <th>Posted</th>\n",
       "      <th>Type</th>\n",
       "      <th>text</th>\n",
       "      <th>Lat</th>\n",
       "      <th>Lng</th>\n",
       "    </tr>\n",
       "  </thead>\n",
       "  <tbody>\n",
       "    <tr>\n",
       "      <td>0</td>\n",
       "      <td>2/24/20 12:45</td>\n",
       "      <td>Chester</td>\n",
       "      <td>NH</td>\n",
       "      <td>Disk</td>\n",
       "      <td>~1 minute</td>\n",
       "      <td>12:45 PM-shiny, disk/saucer shape seen in dayl...</td>\n",
       "      <td>2/25/20</td>\n",
       "      <td>Sighting</td>\n",
       "      <td>Sighting : Chester</td>\n",
       "      <td></td>\n",
       "      <td></td>\n",
       "    </tr>\n",
       "    <tr>\n",
       "      <td>1</td>\n",
       "      <td>2/24/20 06:00</td>\n",
       "      <td>Medford</td>\n",
       "      <td>OR</td>\n",
       "      <td>Formation</td>\n",
       "      <td>5 minutes</td>\n",
       "      <td>20 lights in formation across sky. ((\"Starlink...</td>\n",
       "      <td>2/25/20</td>\n",
       "      <td>Sighting</td>\n",
       "      <td>Sighting : Medford</td>\n",
       "      <td></td>\n",
       "      <td></td>\n",
       "    </tr>\n",
       "    <tr>\n",
       "      <td>2</td>\n",
       "      <td>2/24/20 05:45</td>\n",
       "      <td>Medford</td>\n",
       "      <td>OR</td>\n",
       "      <td>Other</td>\n",
       "      <td>10 minutes</td>\n",
       "      <td>AT 545 AM I LOOKED UP AND SAID WHAT THE HELL I...</td>\n",
       "      <td>2/25/20</td>\n",
       "      <td>Sighting</td>\n",
       "      <td>Sighting : Medford</td>\n",
       "      <td></td>\n",
       "      <td></td>\n",
       "    </tr>\n",
       "    <tr>\n",
       "      <td>3</td>\n",
       "      <td>2/24/20 05:30</td>\n",
       "      <td>Charlestown</td>\n",
       "      <td>RI</td>\n",
       "      <td>Light</td>\n",
       "      <td>2-3 minutes</td>\n",
       "      <td>light moving at a high rate of speed</td>\n",
       "      <td>2/25/20</td>\n",
       "      <td>Sighting</td>\n",
       "      <td>Sighting : Charlestown</td>\n",
       "      <td></td>\n",
       "      <td></td>\n",
       "    </tr>\n",
       "    <tr>\n",
       "      <td>4</td>\n",
       "      <td>2/24/20 05:21</td>\n",
       "      <td>Edison</td>\n",
       "      <td>NJ</td>\n",
       "      <td>Light</td>\n",
       "      <td>25 seconds</td>\n",
       "      <td>DURING ISS PASS VIEWING SMALL OBJECT APPEARS T...</td>\n",
       "      <td>2/25/20</td>\n",
       "      <td>Sighting</td>\n",
       "      <td>Sighting : Edison</td>\n",
       "      <td></td>\n",
       "      <td></td>\n",
       "    </tr>\n",
       "  </tbody>\n",
       "</table>\n",
       "</div>"
      ],
      "text/plain": [
       "     Date / Time         City State      Shape     Duration  \\\n",
       "0  2/24/20 12:45      Chester    NH       Disk    ~1 minute   \n",
       "1  2/24/20 06:00      Medford    OR  Formation    5 minutes   \n",
       "2  2/24/20 05:45      Medford    OR      Other   10 minutes   \n",
       "3  2/24/20 05:30  Charlestown    RI      Light  2-3 minutes   \n",
       "4  2/24/20 05:21       Edison    NJ      Light   25 seconds   \n",
       "\n",
       "                                             Summary   Posted      Type  \\\n",
       "0  12:45 PM-shiny, disk/saucer shape seen in dayl...  2/25/20  Sighting   \n",
       "1  20 lights in formation across sky. ((\"Starlink...  2/25/20  Sighting   \n",
       "2  AT 545 AM I LOOKED UP AND SAID WHAT THE HELL I...  2/25/20  Sighting   \n",
       "3               light moving at a high rate of speed  2/25/20  Sighting   \n",
       "4  DURING ISS PASS VIEWING SMALL OBJECT APPEARS T...  2/25/20  Sighting   \n",
       "\n",
       "                     text Lat Lng  \n",
       "0      Sighting : Chester          \n",
       "1      Sighting : Medford          \n",
       "2      Sighting : Medford          \n",
       "3  Sighting : Charlestown          \n",
       "4       Sighting : Edison          "
      ]
     },
     "execution_count": 17,
     "metadata": {},
     "output_type": "execute_result"
    }
   ],
   "source": [
    "# Add columns for lat, lng, airport name, airport address, airport rating\n",
    "# Note that we used \"\" to specify initial entry.\n",
    "aliens_pd[\"Lat\"] = \"\"\n",
    "aliens_pd[\"Lng\"] = \"\"\n",
    "aliens_pd.head()"
   ]
  },
  {
   "cell_type": "code",
   "execution_count": 17,
   "metadata": {},
   "outputs": [
    {
     "ename": "NameError",
     "evalue": "name 'params' is not defined",
     "output_type": "error",
     "traceback": [
      "\u001b[1;31m---------------------------------------------------------------------------\u001b[0m",
      "\u001b[1;31mNameError\u001b[0m                                 Traceback (most recent call last)",
      "\u001b[1;32m<ipython-input-17-87838b674d3c>\u001b[0m in \u001b[0;36m<module>\u001b[1;34m\u001b[0m\n\u001b[0;32m     10\u001b[0m \u001b[1;33m\u001b[0m\u001b[0m\n\u001b[0;32m     11\u001b[0m     \u001b[1;31m# update address key value\u001b[0m\u001b[1;33m\u001b[0m\u001b[1;33m\u001b[0m\u001b[1;33m\u001b[0m\u001b[0m\n\u001b[1;32m---> 12\u001b[1;33m     \u001b[0mparams\u001b[0m\u001b[1;33m[\u001b[0m\u001b[1;34m'address'\u001b[0m\u001b[1;33m]\u001b[0m \u001b[1;33m=\u001b[0m \u001b[1;34mf\"{city},{state}\"\u001b[0m\u001b[1;33m\u001b[0m\u001b[1;33m\u001b[0m\u001b[0m\n\u001b[0m\u001b[0;32m     13\u001b[0m \u001b[1;33m\u001b[0m\u001b[0m\n\u001b[0;32m     14\u001b[0m     \u001b[1;31m# make request\u001b[0m\u001b[1;33m\u001b[0m\u001b[1;33m\u001b[0m\u001b[1;33m\u001b[0m\u001b[0m\n",
      "\u001b[1;31mNameError\u001b[0m: name 'params' is not defined"
     ]
    }
   ],
   "source": [
    "# Make a copy of alieins_pd\n",
    "aliens_pd_mod = aliens_pd.copy()\n",
    "\n",
    "# Loop through the cities_pd and run a lat/long search for each city\n",
    "# set lists for the dataframe\n",
    "city_name = []\n",
    "\n",
    "\n",
    "counter = 0\n",
    "set_one = 1\n",
    "\n",
    "for index, row in aliens_pd_mod.iterrows():\n",
    "        try:\n",
    "            base_url = \"https://maps.googleapis.com/maps/api/geocode/json\"\n",
    "\n",
    "            city = row['City']\n",
    "            state = row['State']\n",
    "\n",
    "            # update address key value\n",
    "            params['address'] = f\"{city},{state}\"\n",
    "\n",
    "            # make request\n",
    "            cities_lat_lng = requests.get(base_url, params=params)\n",
    "\n",
    "            # print the cities_lat_lng url, avoid doing for public github repos in order to avoid exposing key\n",
    "            #print(cities_lat_lng.url)\n",
    "\n",
    "            # convert to json\n",
    "            cities_lat_lng = cities_lat_lng.json()\n",
    "\n",
    "            aliens_pd_mod.loc[index, \"Lat\"] = cities_lat_lng[\"results\"][0][\"geometry\"][\"location\"][\"lat\"]\n",
    "            aliens_pd_mod.loc[index, \"Lng\"] = cities_lat_lng[\"results\"][0][\"geometry\"][\"location\"][\"lng\"]\n",
    "            \n",
    "            if counter > 99:\n",
    "                counter = 1\n",
    "                set_one += 1\n",
    "                city_name.append(city)\n",
    "                \n",
    "            else:\n",
    "                counter += 1\n",
    "                city_name.append(city)\n",
    "            print(f\"Processing Record {counter} of Set {set_one} | {city}\")\n",
    "\n",
    "        except Exception:\n",
    "            print(\"City not found. Skipping...\")\n",
    "print(\"------------------------------\\nData Retrieval Complete\\n------------------------------\")\n",
    "\n",
    "# Visualize to confirm lat lng appear\n",
    "aliens_pd_mod.head()"
   ]
  },
  {
   "cell_type": "code",
   "execution_count": null,
   "metadata": {},
   "outputs": [],
   "source": [
    "# Visualize to confirm lat lng appear\n",
    "aliens_pd_mod.head()"
   ]
  },
  {
   "cell_type": "markdown",
   "metadata": {},
   "source": [
    "## Scrape Nuclear Sites"
   ]
  },
  {
   "cell_type": "code",
   "execution_count": 155,
   "metadata": {},
   "outputs": [],
   "source": [
    "# URL for the source of the data on Wikipedia\n",
    "url = 'https://en.wikipedia.org/wiki/List_of_nuclear_power_stations'"
   ]
  },
  {
   "cell_type": "code",
   "execution_count": 156,
   "metadata": {},
   "outputs": [
    {
     "data": {
      "text/plain": [
       "[                                          0\n",
       " 0  Map all coordinates using: OpenStreetMap\n",
       " 1        Download coordinates as: KML · GPX,\n",
       "     Power station # units[note 1] Net capacity[note 2](MWe)        Country  \\\n",
       " 0         Almaraz               2                      2017          Spain   \n",
       " 1           Angra               2             1,884[note 3]         Brazil   \n",
       " 2             ANO               2                      1839  United States   \n",
       " 3            Ascó               2                      1992          Spain   \n",
       " 4          Atucha               2                      1027      Argentina   \n",
       " ..            ...             ...                       ...            ...   \n",
       " 146     Watts Bar               2                      2288  United States   \n",
       " 147    Wolf Creek               1                      1160  United States   \n",
       " 148      Wolseong      5[note 45]                      3835    South Korea   \n",
       " 149     Yangjiang               6                      6000          China   \n",
       " 150  Zaporizhzhia               6                      5700        Ukraine   \n",
       " \n",
       "                                               Location Refs  \n",
       " 0       39°48′29″N 05°41′49″W﻿ / ﻿39.80806°N 5.69694°W  NaN  \n",
       " 1      23°00′30″S 44°28′26″W﻿ / ﻿23.00833°S 44.47389°W  NaN  \n",
       " 2      35°18′37″N 93°13′53″W﻿ / ﻿35.31028°N 93.23139°W  NaN  \n",
       " 3       41°12′00″N 00°34′10″E﻿ / ﻿41.20000°N 0.56944°E  NaN  \n",
       " 4       33°58′3″S 59°12′18″W﻿ / ﻿33.96750°S 59.20500°W  NaN  \n",
       " ..                                                 ...  ...  \n",
       " 146    35°36′10″N 84°47′22″W﻿ / ﻿35.60278°N 84.78944°W  NaN  \n",
       " 147    38°14′20″N 95°41′20″W﻿ / ﻿38.23889°N 95.68889°W  NaN  \n",
       " 148  35°42′40″N 129°28′30″E﻿ / ﻿35.71111°N 129.47500°E  NaN  \n",
       " 149  21°42′35″N 112°15′38″E﻿ / ﻿21.70972°N 112.26056°E  [4]  \n",
       " 150    47°30′44″N 34°35′09″E﻿ / ﻿47.51222°N 34.58583°E  NaN  \n",
       " \n",
       " [151 rows x 6 columns],\n",
       "       Power station  No. ofunits Net capacityunder construction(MW)  \\\n",
       " 0            Akkuyu            1                               1014   \n",
       " 1           Barakah            4                               5380   \n",
       " 2        Belarusian            2                               2218   \n",
       " 3           Bushehr            2                     1,830[note 46]   \n",
       " 4   Hinkley Point C            2                               3300   \n",
       " 5          Kakrapar            4                     1,664[note 47]   \n",
       " 6           Karachi            3                     2,118[note 48]   \n",
       " 7          Mochovce            4                     1,752[note 49]   \n",
       " 8               Ōma            1                               1325   \n",
       " 9           Rooppur            2                               2160   \n",
       " 10       Shimane[6]            1                     1,373[note 50]   \n",
       " 11           Vogtle            2                               2234   \n",
       " 12        Zhangzhou            1                               1126   \n",
       " \n",
       "     Constructionstart Plannedconnection         Country  \\\n",
       " 0                2015              2023          Turkey   \n",
       " 1                2012              2020             UAE   \n",
       " 2                2012              2020         Belarus   \n",
       " 3                2019              2024            Iran   \n",
       " 4                2018              2026  United Kingdom   \n",
       " 5                2010              2022           India   \n",
       " 6                2013              2021        Pakistan   \n",
       " 7                1987              2020        Slovakia   \n",
       " 8                2010              2025           Japan   \n",
       " 9                2017              2023      Bangladesh   \n",
       " 10               2007                 ?           Japan   \n",
       " 11               2013              2021             USA   \n",
       " 12               2019              2024           China   \n",
       " \n",
       "                                              Location  \n",
       " 0     36°08′40″N 33°32′28″E﻿ / ﻿36.14444°N 33.54111°E  \n",
       " 1       23°59′6″N 52°17′1″E﻿ / ﻿23.98500°N 52.28361°E  \n",
       " 2      54°45′43″N 26°7′12″E﻿ / ﻿54.76194°N 26.12000°E  \n",
       " 3     28°49′47″N 50°53′10″E﻿ / ﻿28.82972°N 50.88611°E  \n",
       " 4        51°12′22″N 3°8′38″W﻿ / ﻿51.20611°N 3.14389°W  \n",
       " 5     21°14′19″N 73°21′00″E﻿ / ﻿21.23861°N 73.35000°E  \n",
       " 6   24°50′49.8″N 66°47′17.7″E﻿ / ﻿24.847167°N 66.7...  \n",
       " 7     48°15′50″N 18°27′25″E﻿ / ﻿48.26389°N 18.45694°E  \n",
       " 8   41°30′35″N 140°54′37″E﻿ / ﻿41.50972°N 140.91028°E  \n",
       " 9        24°4′0″N 89°2′50″E﻿ / ﻿24.06667°N 89.04722°E  \n",
       " 10  35°32′18″N 132°59′57″E﻿ / ﻿35.53833°N 132.99917°E  \n",
       " 11                               Georgia (U.S. state)  \n",
       " 12  23°49′45″N 117°29′30″E﻿ / ﻿23.82917°N 117.49167°E  ,\n",
       "         Power station Past capacity (MW)        Country  \\\n",
       " 0           Barsebäck               1200         Sweden   \n",
       " 1              Biblis               2407        Germany   \n",
       " 2            Bohunice     1,760[note 51]       Slovakia   \n",
       " 3       Chin Shan[10]               1208         Taiwan   \n",
       " 4           Chernobyl               3515        Ukraine   \n",
       " 5   Fukushima Daiichi               4546          Japan   \n",
       " 6     Fukushima Daini               4400          Japan   \n",
       " 7     Grafenrheinfeld               1275        Germany   \n",
       " 8          Greifswald               2040        Germany   \n",
       " 9            Ignalina               2370      Lithuania   \n",
       " 10            Krümmel               1346        Germany   \n",
       " 11          Mihama[6]     1,570[note 52]          Japan   \n",
       " 12    Mülheim-Kärlich               1219        Germany   \n",
       " 13       Philippsburg               2292        Germany   \n",
       " 14  Three Mile Island               1685  United States   \n",
       " 15         San Onofre               2586  United States   \n",
       " 16        Superphénix               1200         France   \n",
       " 17             Trojan               1095  United States   \n",
       " 18         Unterweser               1345        Germany   \n",
       " 19               Zion               2080  United States   \n",
       " \n",
       "                                              Location  \n",
       " 0     55°44′40″N 12°55′15″E﻿ / ﻿55.74444°N 12.92083°E  \n",
       " 1      49°42′36″N 08°24′55″E﻿ / ﻿49.71000°N 8.41528°E  \n",
       " 2     48°29′40″N 17°40′55″E﻿ / ﻿48.49444°N 17.68194°E  \n",
       " 3   25°17′10″N 121°35′15″E﻿ / ﻿25.28611°N 121.58750°E  \n",
       " 4     51°23′22″N 30°05′57″E﻿ / ﻿51.38944°N 30.09917°E  \n",
       " 5   37°25′17″N 141°01′57″E﻿ / ﻿37.42139°N 141.03250°E  \n",
       " 6   37°19′10″N 141°01′16″E﻿ / ﻿37.31944°N 141.02111°E  \n",
       " 7     49°59′02″N 10°11′05″E﻿ / ﻿49.98389°N 10.18472°E  \n",
       " 8     54°08′26″N 13°39′52″E﻿ / ﻿54.14056°N 13.66444°E  \n",
       " 9     55°36′16″N 26°33′36″E﻿ / ﻿55.60444°N 26.56000°E  \n",
       " 10    53°24′36″N 10°24′32″E﻿ / ﻿53.41000°N 10.40889°E  \n",
       " 11  35°42′09″N 135°57′48″E﻿ / ﻿35.70250°N 135.96333°E  \n",
       " 12     50°24′29″N 07°29′24″E﻿ / ﻿50.40806°N 7.49000°E  \n",
       " 13     49°15′09″N 08°26′11″E﻿ / ﻿49.25250°N 8.43639°E  \n",
       " 14    40°09′14″N 76°43′29″W﻿ / ﻿40.15389°N 76.72472°W  \n",
       " 15  33°22′08″N 117°33′18″W﻿ / ﻿33.36889°N 117.55500°W  \n",
       " 16     45°45′30″N 05°28′20″E﻿ / ﻿45.75833°N 5.47222°E  \n",
       " 17  46°02′18″N 122°53′06″W﻿ / ﻿46.03833°N 122.88500°W  \n",
       " 18     53°25′40″N 08°28′49″E﻿ / ﻿53.42778°N 8.48028°E  \n",
       " 19    42°26′47″N 87°48′11″W﻿ / ﻿42.44639°N 87.80306°W  ,\n",
       "                   vteLists of nuclear power stations  \\\n",
       " 0  BelgiumBulgariaChinaFranceGermanyJapanPakistan...   \n",
       " \n",
       "                 vteLists of nuclear power stations.1  \n",
       " 0  BelgiumBulgariaChinaFranceGermanyJapanPakistan...  ,\n",
       "                            vteLists of power stations  \\\n",
       " 0                                           By region   \n",
       " 1                                              Africa   \n",
       " 2                                                Asia   \n",
       " 3                                              Europe   \n",
       " 4                                       North America   \n",
       " 5                                             Oceania   \n",
       " 6                                       South America   \n",
       " 7                                             By type   \n",
       " 8                                       Non-renewable   \n",
       " 9                                           Renewable   \n",
       " 10  Largest power stations Largest hydroelectric s...   \n",
       " \n",
       "                          vteLists of power stations.1  \n",
       " 0   Africa Algeria Angola Benin Botswana Burkina F...  \n",
       " 1   Algeria Angola Benin Botswana Burkina Faso Bur...  \n",
       " 2   Afghanistan Armenia Azerbaijan Bahrain Banglad...  \n",
       " 3   Albania Andorra Austria Belarus Belgium Bosnia...  \n",
       " 4   Antigua and Barbuda Bahamas Barbados Belize Ca...  \n",
       " 5   Australia Micronesia Fiji Kiribati Marshall Is...  \n",
       " 6   Argentina Bolivia Brazil Chile Colombia Ecuado...  \n",
       " 7   Non-renewable Coal Fuel oil Natural gas Nuclea...  \n",
       " 8         Coal Fuel oil Natural gas Nuclear Oil shale  \n",
       " 9   Biomass Geothermal Hydroelectric conventional ...  \n",
       " 10  Largest power stations Largest hydroelectric s...  ,\n",
       "                0                                                  1\n",
       " 0         Africa  Algeria Angola Benin Botswana Burkina Faso Bur...\n",
       " 1           Asia  Afghanistan Armenia Azerbaijan Bahrain Banglad...\n",
       " 2         Europe  Albania Andorra Austria Belarus Belgium Bosnia...\n",
       " 3  North America  Antigua and Barbuda Bahamas Barbados Belize Ca...\n",
       " 4        Oceania  Australia Micronesia Fiji Kiribati Marshall Is...\n",
       " 5  South America  Argentina Bolivia Brazil Chile Colombia Ecuado...,\n",
       "                0                                                  1\n",
       " 0  Non-renewable        Coal Fuel oil Natural gas Nuclear Oil shale\n",
       " 1      Renewable  Biomass Geothermal Hydroelectric conventional ...]"
      ]
     },
     "execution_count": 156,
     "metadata": {},
     "output_type": "execute_result"
    }
   ],
   "source": [
    "# Use pandas to get the tables from the Wikipedia page and create a list\n",
    "# of dictionaries\n",
    "tables = pd.read_html(url,encoding='utf-8')\n",
    "tables"
   ]
  },
  {
   "cell_type": "code",
   "execution_count": 157,
   "metadata": {},
   "outputs": [],
   "source": [
    "# Isolate the second table from the list of dictionaries and make that dict a dataframe\n",
    "df = tables[1]"
   ]
  },
  {
   "cell_type": "code",
   "execution_count": 158,
   "metadata": {},
   "outputs": [
    {
     "data": {
      "text/plain": [
       "Index(['Power station', '# units[note 1]', 'Net capacity[note 2](MWe)',\n",
       "       'Country', 'Location', 'Refs'],\n",
       "      dtype='object')"
      ]
     },
     "execution_count": 158,
     "metadata": {},
     "output_type": "execute_result"
    }
   ],
   "source": [
    "# View the column names\n",
    "df.columns"
   ]
  },
  {
   "cell_type": "code",
   "execution_count": 159,
   "metadata": {},
   "outputs": [],
   "source": [
    "# Change the column names\n",
    "df.columns = ['Station', 'Units', 'Capacity_MWe', 'Country', \n",
    "              'Location', 'Refs']"
   ]
  },
  {
   "cell_type": "code",
   "execution_count": 160,
   "metadata": {},
   "outputs": [],
   "source": [
    "# Both DMS and Geopoint Lat and Long data is in one column \n",
    "# we are only interested in the Geopoint Lat/Long \n",
    "coordinates = df[\"Location\"].str.split(\" / \", n = 1, expand = True)"
   ]
  },
  {
   "cell_type": "code",
   "execution_count": 161,
   "metadata": {},
   "outputs": [],
   "source": [
    "# Create a new column in the dataframe\n",
    "df[\"GP_Lat_Long\"]= coordinates[1]"
   ]
  },
  {
   "cell_type": "code",
   "execution_count": 162,
   "metadata": {},
   "outputs": [],
   "source": [
    "# Dropping old Location and Refs columns \n",
    "df.drop(columns =[\"Location\",\"Refs\"], inplace = True) "
   ]
  },
  {
   "cell_type": "code",
   "execution_count": 163,
   "metadata": {},
   "outputs": [],
   "source": [
    "# Split the column of data GP_Lat_long that contains two coordinates into \n",
    "# two separate columns\n",
    "DMS_coordinates = df[\"GP_Lat_Long\"].str.split(\" \", n = 1, expand = True)\n",
    "df[\"GP_Lat\"]= DMS_coordinates[0] \n",
    "df[\"GP_Long\"]= DMS_coordinates[1]"
   ]
  },
  {
   "cell_type": "code",
   "execution_count": 164,
   "metadata": {},
   "outputs": [],
   "source": [
    "# Create a function to transform the Latitude and Longitude points from the format\n",
    "# 41.2000°S to -41.2000 for example \n",
    "def dms2dd(s):\n",
    "    # example: s = \"\"\"0°51'56.29\"S\"\"\"\n",
    "    coord, direction = re.split('°', s)\n",
    "    coord = coord.replace(u'\\ufeff','')\n",
    "    coord = float(coord)\n",
    "    if direction in ('S','W'):\n",
    "        coord*= -1\n",
    "    return coord"
   ]
  },
  {
   "cell_type": "code",
   "execution_count": 165,
   "metadata": {},
   "outputs": [],
   "source": [
    "# Transform the Latitude and Longitude values to be either negative or positive\n",
    "# Values for South and West are negative and North and East are positive\n",
    "df['Latitude'] = df['GP_Lat'].apply(dms2dd)\n",
    "df['Longitude'] = df['GP_Long'].apply(dms2dd)"
   ]
  },
  {
   "cell_type": "code",
   "execution_count": 166,
   "metadata": {},
   "outputs": [],
   "source": [
    "# Remove the columns that are no longer necessary\n",
    "df.drop(columns =[\"GP_Lat_Long\",\"GP_Lat\",\"GP_Long\"], inplace = True)  "
   ]
  },
  {
   "cell_type": "code",
   "execution_count": 167,
   "metadata": {},
   "outputs": [],
   "source": [
    "# Create a United States only slice of the dataframe\n",
    "us = df[df[\"Country\"] == \"United States\"]"
   ]
  },
  {
   "cell_type": "code",
   "execution_count": 168,
   "metadata": {},
   "outputs": [
    {
     "name": "stderr",
     "output_type": "stream",
     "text": [
      "C:\\ProgramData\\Anaconda3\\lib\\site-packages\\ipykernel_launcher.py:2: SettingWithCopyWarning:\n",
      "\n",
      "\n",
      "A value is trying to be set on a copy of a slice from a DataFrame.\n",
      "Try using .loc[row_indexer,col_indexer] = value instead\n",
      "\n",
      "See the caveats in the documentation: http://pandas.pydata.org/pandas-docs/stable/user_guide/indexing.html#returning-a-view-versus-a-copy\n",
      "\n",
      "C:\\ProgramData\\Anaconda3\\lib\\site-packages\\ipykernel_launcher.py:3: SettingWithCopyWarning:\n",
      "\n",
      "\n",
      "A value is trying to be set on a copy of a slice from a DataFrame.\n",
      "Try using .loc[row_indexer,col_indexer] = value instead\n",
      "\n",
      "See the caveats in the documentation: http://pandas.pydata.org/pandas-docs/stable/user_guide/indexing.html#returning-a-view-versus-a-copy\n",
      "\n",
      "C:\\ProgramData\\Anaconda3\\lib\\site-packages\\ipykernel_launcher.py:5: SettingWithCopyWarning:\n",
      "\n",
      "\n",
      "A value is trying to be set on a copy of a slice from a DataFrame.\n",
      "Try using .loc[row_indexer,col_indexer] = value instead\n",
      "\n",
      "See the caveats in the documentation: http://pandas.pydata.org/pandas-docs/stable/user_guide/indexing.html#returning-a-view-versus-a-copy\n",
      "\n"
     ]
    }
   ],
   "source": [
    "# Add column \"Type\" with the type of point name\n",
    "us['Type'] = 'Nuclear Site'\n",
    "us['Color'] = '#ff0000'\n",
    "# Add column \"text\" with a descrition of the point for plottin in plotly\n",
    "us['text'] = us['Type'].astype(str) + ' : ' + us['Station'].astype(str)"
   ]
  },
  {
   "cell_type": "code",
   "execution_count": null,
   "metadata": {
    "scrolled": true
   },
   "outputs": [],
   "source": []
  },
  {
   "cell_type": "code",
   "execution_count": 169,
   "metadata": {},
   "outputs": [],
   "source": [
    "us.drop(columns =[\"Units\",\"Capacity_MWe\",\"Country\"], inplace = True) "
   ]
  },
  {
   "cell_type": "code",
   "execution_count": 170,
   "metadata": {},
   "outputs": [],
   "source": [
    "us.rename(columns={\"Station\": \"Site Name\",\"Latitude\": \"Lat\", \"Longitude\": \"Long\"}, inplace=True)\n"
   ]
  },
  {
   "cell_type": "code",
   "execution_count": 171,
   "metadata": {},
   "outputs": [
    {
     "data": {
      "text/html": [
       "<div>\n",
       "<style scoped>\n",
       "    .dataframe tbody tr th:only-of-type {\n",
       "        vertical-align: middle;\n",
       "    }\n",
       "\n",
       "    .dataframe tbody tr th {\n",
       "        vertical-align: top;\n",
       "    }\n",
       "\n",
       "    .dataframe thead th {\n",
       "        text-align: right;\n",
       "    }\n",
       "</style>\n",
       "<table border=\"1\" class=\"dataframe\">\n",
       "  <thead>\n",
       "    <tr style=\"text-align: right;\">\n",
       "      <th></th>\n",
       "      <th>Site Name</th>\n",
       "      <th>Lat</th>\n",
       "      <th>Long</th>\n",
       "      <th>Type</th>\n",
       "      <th>Color</th>\n",
       "      <th>text</th>\n",
       "    </tr>\n",
       "  </thead>\n",
       "  <tbody>\n",
       "    <tr>\n",
       "      <th>2</th>\n",
       "      <td>ANO</td>\n",
       "      <td>35.31028</td>\n",
       "      <td>-93.23139</td>\n",
       "      <td>Nuclear Site</td>\n",
       "      <td>#ff0000</td>\n",
       "      <td>Nuclear Site : ANO</td>\n",
       "    </tr>\n",
       "    <tr>\n",
       "      <th>6</th>\n",
       "      <td>Beaver Valley</td>\n",
       "      <td>40.62333</td>\n",
       "      <td>-80.43056</td>\n",
       "      <td>Nuclear Site</td>\n",
       "      <td>#ff0000</td>\n",
       "      <td>Nuclear Site : Beaver Valley</td>\n",
       "    </tr>\n",
       "    <tr>\n",
       "      <th>10</th>\n",
       "      <td>Braidwood</td>\n",
       "      <td>41.24361</td>\n",
       "      <td>-88.22917</td>\n",
       "      <td>Nuclear Site</td>\n",
       "      <td>#ff0000</td>\n",
       "      <td>Nuclear Site : Braidwood</td>\n",
       "    </tr>\n",
       "    <tr>\n",
       "      <th>12</th>\n",
       "      <td>Browns Ferry</td>\n",
       "      <td>34.70389</td>\n",
       "      <td>-87.11861</td>\n",
       "      <td>Nuclear Site</td>\n",
       "      <td>#ff0000</td>\n",
       "      <td>Nuclear Site : Browns Ferry</td>\n",
       "    </tr>\n",
       "    <tr>\n",
       "      <th>14</th>\n",
       "      <td>Brunswick</td>\n",
       "      <td>33.95833</td>\n",
       "      <td>-78.01028</td>\n",
       "      <td>Nuclear Site</td>\n",
       "      <td>#ff0000</td>\n",
       "      <td>Nuclear Site : Brunswick</td>\n",
       "    </tr>\n",
       "  </tbody>\n",
       "</table>\n",
       "</div>"
      ],
      "text/plain": [
       "        Site Name       Lat      Long          Type    Color  \\\n",
       "2             ANO  35.31028 -93.23139  Nuclear Site  #ff0000   \n",
       "6   Beaver Valley  40.62333 -80.43056  Nuclear Site  #ff0000   \n",
       "10      Braidwood  41.24361 -88.22917  Nuclear Site  #ff0000   \n",
       "12   Browns Ferry  34.70389 -87.11861  Nuclear Site  #ff0000   \n",
       "14      Brunswick  33.95833 -78.01028  Nuclear Site  #ff0000   \n",
       "\n",
       "                            text  \n",
       "2             Nuclear Site : ANO  \n",
       "6   Nuclear Site : Beaver Valley  \n",
       "10      Nuclear Site : Braidwood  \n",
       "12   Nuclear Site : Browns Ferry  \n",
       "14      Nuclear Site : Brunswick  "
      ]
     },
     "execution_count": 171,
     "metadata": {},
     "output_type": "execute_result"
    }
   ],
   "source": [
    "us.head()"
   ]
  },
  {
   "cell_type": "markdown",
   "metadata": {},
   "source": [
    "### Military Bases"
   ]
  },
  {
   "cell_type": "code",
   "execution_count": 172,
   "metadata": {},
   "outputs": [
    {
     "data": {
      "text/html": [
       "<div>\n",
       "<style scoped>\n",
       "    .dataframe tbody tr th:only-of-type {\n",
       "        vertical-align: middle;\n",
       "    }\n",
       "\n",
       "    .dataframe tbody tr th {\n",
       "        vertical-align: top;\n",
       "    }\n",
       "\n",
       "    .dataframe thead th {\n",
       "        text-align: right;\n",
       "    }\n",
       "</style>\n",
       "<table border=\"1\" class=\"dataframe\">\n",
       "  <thead>\n",
       "    <tr style=\"text-align: right;\">\n",
       "      <th></th>\n",
       "      <th>Geo Point</th>\n",
       "      <th>OBJECTID</th>\n",
       "      <th>COMPONENT</th>\n",
       "      <th>Site Name</th>\n",
       "      <th>Joint Base</th>\n",
       "      <th>State Terr</th>\n",
       "      <th>COUNTRY</th>\n",
       "      <th>Oper Stat</th>\n",
       "      <th>Shape St Are</th>\n",
       "      <th>Shape St Len</th>\n",
       "    </tr>\n",
       "  </thead>\n",
       "  <tbody>\n",
       "    <tr>\n",
       "      <th>13</th>\n",
       "      <td>38.805160992, -76.8744374247</td>\n",
       "      <td>144</td>\n",
       "      <td>AF Active</td>\n",
       "      <td>Andrews AFB</td>\n",
       "      <td>Joint Base Andrews - Naval Air Facility Washin...</td>\n",
       "      <td>Maryland</td>\n",
       "      <td>United States</td>\n",
       "      <td>Active</td>\n",
       "      <td>2.938397e+07</td>\n",
       "      <td>22642.684174</td>\n",
       "    </tr>\n",
       "    <tr>\n",
       "      <th>15</th>\n",
       "      <td>32.9631678645, -79.9639295206</td>\n",
       "      <td>113</td>\n",
       "      <td>AF Active</td>\n",
       "      <td>NWS Charleston</td>\n",
       "      <td>Joint Base Charleston</td>\n",
       "      <td>South Carolina</td>\n",
       "      <td>United States</td>\n",
       "      <td>Active</td>\n",
       "      <td>9.684911e+07</td>\n",
       "      <td>160700.657287</td>\n",
       "    </tr>\n",
       "    <tr>\n",
       "      <th>28</th>\n",
       "      <td>13.5179166878, 144.811096965</td>\n",
       "      <td>239</td>\n",
       "      <td>Navy Active</td>\n",
       "      <td>Tumon Tank Farm</td>\n",
       "      <td>Joint Region Marianas</td>\n",
       "      <td>Guam</td>\n",
       "      <td>Guam</td>\n",
       "      <td>Active</td>\n",
       "      <td>1.023036e+05</td>\n",
       "      <td>1749.477641</td>\n",
       "    </tr>\n",
       "    <tr>\n",
       "      <th>30</th>\n",
       "      <td>13.5867134229, 144.862326053</td>\n",
       "      <td>240</td>\n",
       "      <td>Navy Active</td>\n",
       "      <td>Potts Tank Farm</td>\n",
       "      <td>Joint Region Marianas</td>\n",
       "      <td>Guam</td>\n",
       "      <td>Guam</td>\n",
       "      <td>Active</td>\n",
       "      <td>8.480141e+04</td>\n",
       "      <td>1181.131174</td>\n",
       "    </tr>\n",
       "    <tr>\n",
       "      <th>32</th>\n",
       "      <td>38.8786170847, -77.075713083</td>\n",
       "      <td>718</td>\n",
       "      <td>Army Active</td>\n",
       "      <td>Fort Myer</td>\n",
       "      <td>Joint Base Myer - Henderson Hall</td>\n",
       "      <td>Virginia</td>\n",
       "      <td>United States</td>\n",
       "      <td>Active</td>\n",
       "      <td>2.065523e+06</td>\n",
       "      <td>12833.022256</td>\n",
       "    </tr>\n",
       "  </tbody>\n",
       "</table>\n",
       "</div>"
      ],
      "text/plain": [
       "                        Geo Point  OBJECTID    COMPONENT        Site Name  \\\n",
       "13   38.805160992, -76.8744374247       144    AF Active      Andrews AFB   \n",
       "15  32.9631678645, -79.9639295206       113    AF Active   NWS Charleston   \n",
       "28   13.5179166878, 144.811096965       239  Navy Active  Tumon Tank Farm   \n",
       "30   13.5867134229, 144.862326053       240  Navy Active  Potts Tank Farm   \n",
       "32   38.8786170847, -77.075713083       718  Army Active        Fort Myer   \n",
       "\n",
       "                                           Joint Base      State Terr  \\\n",
       "13  Joint Base Andrews - Naval Air Facility Washin...        Maryland   \n",
       "15                              Joint Base Charleston  South Carolina   \n",
       "28                              Joint Region Marianas            Guam   \n",
       "30                              Joint Region Marianas            Guam   \n",
       "32                   Joint Base Myer - Henderson Hall        Virginia   \n",
       "\n",
       "          COUNTRY Oper Stat  Shape St Are   Shape St Len  \n",
       "13  United States    Active  2.938397e+07   22642.684174  \n",
       "15  United States    Active  9.684911e+07  160700.657287  \n",
       "28           Guam    Active  1.023036e+05    1749.477641  \n",
       "30           Guam    Active  8.480141e+04    1181.131174  \n",
       "32  United States    Active  2.065523e+06   12833.022256  "
      ]
     },
     "execution_count": 172,
     "metadata": {},
     "output_type": "execute_result"
    }
   ],
   "source": [
    "# import excel file for military bases\n",
    "military_base_df = pd.read_excel (r'Resources/military-bases.xlsx')\n",
    "military_base_df = military_base_df.dropna()\n",
    "\n",
    "military_base_df.head()"
   ]
  },
  {
   "cell_type": "code",
   "execution_count": 173,
   "metadata": {},
   "outputs": [],
   "source": [
    "# drop unnecessary columns\n",
    "military_base_df.drop(columns= ['Shape St Are','Shape St Len'], inplace=True)"
   ]
  },
  {
   "cell_type": "code",
   "execution_count": 174,
   "metadata": {
    "scrolled": true
   },
   "outputs": [
    {
     "data": {
      "text/html": [
       "<div>\n",
       "<style scoped>\n",
       "    .dataframe tbody tr th:only-of-type {\n",
       "        vertical-align: middle;\n",
       "    }\n",
       "\n",
       "    .dataframe tbody tr th {\n",
       "        vertical-align: top;\n",
       "    }\n",
       "\n",
       "    .dataframe thead th {\n",
       "        text-align: right;\n",
       "    }\n",
       "</style>\n",
       "<table border=\"1\" class=\"dataframe\">\n",
       "  <thead>\n",
       "    <tr style=\"text-align: right;\">\n",
       "      <th></th>\n",
       "      <th>Geo Point</th>\n",
       "      <th>OBJECTID</th>\n",
       "      <th>COMPONENT</th>\n",
       "      <th>Site Name</th>\n",
       "      <th>Joint Base</th>\n",
       "      <th>State Terr</th>\n",
       "      <th>COUNTRY</th>\n",
       "      <th>Oper Stat</th>\n",
       "    </tr>\n",
       "  </thead>\n",
       "  <tbody>\n",
       "    <tr>\n",
       "      <th>13</th>\n",
       "      <td>38.805160992, -76.8744374247</td>\n",
       "      <td>144</td>\n",
       "      <td>AF Active</td>\n",
       "      <td>Andrews AFB</td>\n",
       "      <td>Joint Base Andrews - Naval Air Facility Washin...</td>\n",
       "      <td>Maryland</td>\n",
       "      <td>United States</td>\n",
       "      <td>Active</td>\n",
       "    </tr>\n",
       "    <tr>\n",
       "      <th>15</th>\n",
       "      <td>32.9631678645, -79.9639295206</td>\n",
       "      <td>113</td>\n",
       "      <td>AF Active</td>\n",
       "      <td>NWS Charleston</td>\n",
       "      <td>Joint Base Charleston</td>\n",
       "      <td>South Carolina</td>\n",
       "      <td>United States</td>\n",
       "      <td>Active</td>\n",
       "    </tr>\n",
       "    <tr>\n",
       "      <th>28</th>\n",
       "      <td>13.5179166878, 144.811096965</td>\n",
       "      <td>239</td>\n",
       "      <td>Navy Active</td>\n",
       "      <td>Tumon Tank Farm</td>\n",
       "      <td>Joint Region Marianas</td>\n",
       "      <td>Guam</td>\n",
       "      <td>Guam</td>\n",
       "      <td>Active</td>\n",
       "    </tr>\n",
       "    <tr>\n",
       "      <th>30</th>\n",
       "      <td>13.5867134229, 144.862326053</td>\n",
       "      <td>240</td>\n",
       "      <td>Navy Active</td>\n",
       "      <td>Potts Tank Farm</td>\n",
       "      <td>Joint Region Marianas</td>\n",
       "      <td>Guam</td>\n",
       "      <td>Guam</td>\n",
       "      <td>Active</td>\n",
       "    </tr>\n",
       "    <tr>\n",
       "      <th>32</th>\n",
       "      <td>38.8786170847, -77.075713083</td>\n",
       "      <td>718</td>\n",
       "      <td>Army Active</td>\n",
       "      <td>Fort Myer</td>\n",
       "      <td>Joint Base Myer - Henderson Hall</td>\n",
       "      <td>Virginia</td>\n",
       "      <td>United States</td>\n",
       "      <td>Active</td>\n",
       "    </tr>\n",
       "  </tbody>\n",
       "</table>\n",
       "</div>"
      ],
      "text/plain": [
       "                        Geo Point  OBJECTID    COMPONENT        Site Name  \\\n",
       "13   38.805160992, -76.8744374247       144    AF Active      Andrews AFB   \n",
       "15  32.9631678645, -79.9639295206       113    AF Active   NWS Charleston   \n",
       "28   13.5179166878, 144.811096965       239  Navy Active  Tumon Tank Farm   \n",
       "30   13.5867134229, 144.862326053       240  Navy Active  Potts Tank Farm   \n",
       "32   38.8786170847, -77.075713083       718  Army Active        Fort Myer   \n",
       "\n",
       "                                           Joint Base      State Terr  \\\n",
       "13  Joint Base Andrews - Naval Air Facility Washin...        Maryland   \n",
       "15                              Joint Base Charleston  South Carolina   \n",
       "28                              Joint Region Marianas            Guam   \n",
       "30                              Joint Region Marianas            Guam   \n",
       "32                   Joint Base Myer - Henderson Hall        Virginia   \n",
       "\n",
       "          COUNTRY Oper Stat  \n",
       "13  United States    Active  \n",
       "15  United States    Active  \n",
       "28           Guam    Active  \n",
       "30           Guam    Active  \n",
       "32  United States    Active  "
      ]
     },
     "execution_count": 174,
     "metadata": {},
     "output_type": "execute_result"
    }
   ],
   "source": [
    "# reset index\n",
    "military_base_df.set_index('Site Name')\n",
    "military_base_df.head()"
   ]
  },
  {
   "cell_type": "code",
   "execution_count": 175,
   "metadata": {
    "scrolled": true
   },
   "outputs": [
    {
     "data": {
      "text/html": [
       "<div>\n",
       "<style scoped>\n",
       "    .dataframe tbody tr th:only-of-type {\n",
       "        vertical-align: middle;\n",
       "    }\n",
       "\n",
       "    .dataframe tbody tr th {\n",
       "        vertical-align: top;\n",
       "    }\n",
       "\n",
       "    .dataframe thead th {\n",
       "        text-align: right;\n",
       "    }\n",
       "</style>\n",
       "<table border=\"1\" class=\"dataframe\">\n",
       "  <thead>\n",
       "    <tr style=\"text-align: right;\">\n",
       "      <th></th>\n",
       "      <th>Geo Point</th>\n",
       "      <th>OBJECTID</th>\n",
       "      <th>COMPONENT</th>\n",
       "      <th>Site Name</th>\n",
       "      <th>Joint Base</th>\n",
       "      <th>State Terr</th>\n",
       "      <th>COUNTRY</th>\n",
       "      <th>Oper Stat</th>\n",
       "      <th>Lat</th>\n",
       "      <th>Long</th>\n",
       "    </tr>\n",
       "  </thead>\n",
       "  <tbody>\n",
       "    <tr>\n",
       "      <th>13</th>\n",
       "      <td>38.805160992, -76.8744374247</td>\n",
       "      <td>144</td>\n",
       "      <td>AF Active</td>\n",
       "      <td>Andrews AFB</td>\n",
       "      <td>Joint Base Andrews - Naval Air Facility Washin...</td>\n",
       "      <td>Maryland</td>\n",
       "      <td>United States</td>\n",
       "      <td>Active</td>\n",
       "      <td>38.805160992</td>\n",
       "      <td>-76.8744374247</td>\n",
       "    </tr>\n",
       "    <tr>\n",
       "      <th>15</th>\n",
       "      <td>32.9631678645, -79.9639295206</td>\n",
       "      <td>113</td>\n",
       "      <td>AF Active</td>\n",
       "      <td>NWS Charleston</td>\n",
       "      <td>Joint Base Charleston</td>\n",
       "      <td>South Carolina</td>\n",
       "      <td>United States</td>\n",
       "      <td>Active</td>\n",
       "      <td>32.9631678645</td>\n",
       "      <td>-79.9639295206</td>\n",
       "    </tr>\n",
       "    <tr>\n",
       "      <th>28</th>\n",
       "      <td>13.5179166878, 144.811096965</td>\n",
       "      <td>239</td>\n",
       "      <td>Navy Active</td>\n",
       "      <td>Tumon Tank Farm</td>\n",
       "      <td>Joint Region Marianas</td>\n",
       "      <td>Guam</td>\n",
       "      <td>Guam</td>\n",
       "      <td>Active</td>\n",
       "      <td>13.5179166878</td>\n",
       "      <td>144.811096965</td>\n",
       "    </tr>\n",
       "    <tr>\n",
       "      <th>30</th>\n",
       "      <td>13.5867134229, 144.862326053</td>\n",
       "      <td>240</td>\n",
       "      <td>Navy Active</td>\n",
       "      <td>Potts Tank Farm</td>\n",
       "      <td>Joint Region Marianas</td>\n",
       "      <td>Guam</td>\n",
       "      <td>Guam</td>\n",
       "      <td>Active</td>\n",
       "      <td>13.5867134229</td>\n",
       "      <td>144.862326053</td>\n",
       "    </tr>\n",
       "    <tr>\n",
       "      <th>32</th>\n",
       "      <td>38.8786170847, -77.075713083</td>\n",
       "      <td>718</td>\n",
       "      <td>Army Active</td>\n",
       "      <td>Fort Myer</td>\n",
       "      <td>Joint Base Myer - Henderson Hall</td>\n",
       "      <td>Virginia</td>\n",
       "      <td>United States</td>\n",
       "      <td>Active</td>\n",
       "      <td>38.8786170847</td>\n",
       "      <td>-77.075713083</td>\n",
       "    </tr>\n",
       "  </tbody>\n",
       "</table>\n",
       "</div>"
      ],
      "text/plain": [
       "                        Geo Point  OBJECTID    COMPONENT        Site Name  \\\n",
       "13   38.805160992, -76.8744374247       144    AF Active      Andrews AFB   \n",
       "15  32.9631678645, -79.9639295206       113    AF Active   NWS Charleston   \n",
       "28   13.5179166878, 144.811096965       239  Navy Active  Tumon Tank Farm   \n",
       "30   13.5867134229, 144.862326053       240  Navy Active  Potts Tank Farm   \n",
       "32   38.8786170847, -77.075713083       718  Army Active        Fort Myer   \n",
       "\n",
       "                                           Joint Base      State Terr  \\\n",
       "13  Joint Base Andrews - Naval Air Facility Washin...        Maryland   \n",
       "15                              Joint Base Charleston  South Carolina   \n",
       "28                              Joint Region Marianas            Guam   \n",
       "30                              Joint Region Marianas            Guam   \n",
       "32                   Joint Base Myer - Henderson Hall        Virginia   \n",
       "\n",
       "          COUNTRY Oper Stat            Lat             Long  \n",
       "13  United States    Active   38.805160992   -76.8744374247  \n",
       "15  United States    Active  32.9631678645   -79.9639295206  \n",
       "28           Guam    Active  13.5179166878    144.811096965  \n",
       "30           Guam    Active  13.5867134229    144.862326053  \n",
       "32  United States    Active  38.8786170847    -77.075713083  "
      ]
     },
     "execution_count": 175,
     "metadata": {},
     "output_type": "execute_result"
    }
   ],
   "source": [
    "# format the lat and long to two columns\n",
    "split_data = military_base_df[\"Geo Point\"].str.split(\",\", n=1, expand=True)\n",
    "\n",
    "military_base_df['Lat'] = split_data[0]\n",
    "military_base_df['Long'] = split_data[1]\n",
    "\n",
    "military_base_df.head()"
   ]
  },
  {
   "cell_type": "code",
   "execution_count": 176,
   "metadata": {},
   "outputs": [
    {
     "data": {
      "text/html": [
       "<div>\n",
       "<style scoped>\n",
       "    .dataframe tbody tr th:only-of-type {\n",
       "        vertical-align: middle;\n",
       "    }\n",
       "\n",
       "    .dataframe tbody tr th {\n",
       "        vertical-align: top;\n",
       "    }\n",
       "\n",
       "    .dataframe thead th {\n",
       "        text-align: right;\n",
       "    }\n",
       "</style>\n",
       "<table border=\"1\" class=\"dataframe\">\n",
       "  <thead>\n",
       "    <tr style=\"text-align: right;\">\n",
       "      <th></th>\n",
       "      <th>Geo Point</th>\n",
       "      <th>OBJECTID</th>\n",
       "      <th>COMPONENT</th>\n",
       "      <th>Site Name</th>\n",
       "      <th>Joint Base</th>\n",
       "      <th>State Terr</th>\n",
       "      <th>COUNTRY</th>\n",
       "      <th>Oper Stat</th>\n",
       "      <th>Lat</th>\n",
       "      <th>Long</th>\n",
       "      <th>Type</th>\n",
       "    </tr>\n",
       "  </thead>\n",
       "  <tbody>\n",
       "    <tr>\n",
       "      <th>13</th>\n",
       "      <td>38.805160992, -76.8744374247</td>\n",
       "      <td>144</td>\n",
       "      <td>AF Active</td>\n",
       "      <td>Andrews AFB</td>\n",
       "      <td>Joint Base Andrews - Naval Air Facility Washin...</td>\n",
       "      <td>Maryland</td>\n",
       "      <td>United States</td>\n",
       "      <td>Active</td>\n",
       "      <td>38.805160992</td>\n",
       "      <td>-76.8744374247</td>\n",
       "      <td>Military Base</td>\n",
       "    </tr>\n",
       "    <tr>\n",
       "      <th>15</th>\n",
       "      <td>32.9631678645, -79.9639295206</td>\n",
       "      <td>113</td>\n",
       "      <td>AF Active</td>\n",
       "      <td>NWS Charleston</td>\n",
       "      <td>Joint Base Charleston</td>\n",
       "      <td>South Carolina</td>\n",
       "      <td>United States</td>\n",
       "      <td>Active</td>\n",
       "      <td>32.9631678645</td>\n",
       "      <td>-79.9639295206</td>\n",
       "      <td>Military Base</td>\n",
       "    </tr>\n",
       "    <tr>\n",
       "      <th>28</th>\n",
       "      <td>13.5179166878, 144.811096965</td>\n",
       "      <td>239</td>\n",
       "      <td>Navy Active</td>\n",
       "      <td>Tumon Tank Farm</td>\n",
       "      <td>Joint Region Marianas</td>\n",
       "      <td>Guam</td>\n",
       "      <td>Guam</td>\n",
       "      <td>Active</td>\n",
       "      <td>13.5179166878</td>\n",
       "      <td>144.811096965</td>\n",
       "      <td>Military Base</td>\n",
       "    </tr>\n",
       "    <tr>\n",
       "      <th>30</th>\n",
       "      <td>13.5867134229, 144.862326053</td>\n",
       "      <td>240</td>\n",
       "      <td>Navy Active</td>\n",
       "      <td>Potts Tank Farm</td>\n",
       "      <td>Joint Region Marianas</td>\n",
       "      <td>Guam</td>\n",
       "      <td>Guam</td>\n",
       "      <td>Active</td>\n",
       "      <td>13.5867134229</td>\n",
       "      <td>144.862326053</td>\n",
       "      <td>Military Base</td>\n",
       "    </tr>\n",
       "    <tr>\n",
       "      <th>32</th>\n",
       "      <td>38.8786170847, -77.075713083</td>\n",
       "      <td>718</td>\n",
       "      <td>Army Active</td>\n",
       "      <td>Fort Myer</td>\n",
       "      <td>Joint Base Myer - Henderson Hall</td>\n",
       "      <td>Virginia</td>\n",
       "      <td>United States</td>\n",
       "      <td>Active</td>\n",
       "      <td>38.8786170847</td>\n",
       "      <td>-77.075713083</td>\n",
       "      <td>Military Base</td>\n",
       "    </tr>\n",
       "  </tbody>\n",
       "</table>\n",
       "</div>"
      ],
      "text/plain": [
       "                        Geo Point  OBJECTID    COMPONENT        Site Name  \\\n",
       "13   38.805160992, -76.8744374247       144    AF Active      Andrews AFB   \n",
       "15  32.9631678645, -79.9639295206       113    AF Active   NWS Charleston   \n",
       "28   13.5179166878, 144.811096965       239  Navy Active  Tumon Tank Farm   \n",
       "30   13.5867134229, 144.862326053       240  Navy Active  Potts Tank Farm   \n",
       "32   38.8786170847, -77.075713083       718  Army Active        Fort Myer   \n",
       "\n",
       "                                           Joint Base      State Terr  \\\n",
       "13  Joint Base Andrews - Naval Air Facility Washin...        Maryland   \n",
       "15                              Joint Base Charleston  South Carolina   \n",
       "28                              Joint Region Marianas            Guam   \n",
       "30                              Joint Region Marianas            Guam   \n",
       "32                   Joint Base Myer - Henderson Hall        Virginia   \n",
       "\n",
       "          COUNTRY Oper Stat            Lat             Long           Type  \n",
       "13  United States    Active   38.805160992   -76.8744374247  Military Base  \n",
       "15  United States    Active  32.9631678645   -79.9639295206  Military Base  \n",
       "28           Guam    Active  13.5179166878    144.811096965  Military Base  \n",
       "30           Guam    Active  13.5867134229    144.862326053  Military Base  \n",
       "32  United States    Active  38.8786170847    -77.075713083  Military Base  "
      ]
     },
     "execution_count": 176,
     "metadata": {},
     "output_type": "execute_result"
    }
   ],
   "source": [
    "# add type column to df\n",
    "military_base_df['Type']='Military Base'\n",
    "military_base_df.head()"
   ]
  },
  {
   "cell_type": "code",
   "execution_count": 177,
   "metadata": {},
   "outputs": [
    {
     "data": {
      "text/html": [
       "<div>\n",
       "<style scoped>\n",
       "    .dataframe tbody tr th:only-of-type {\n",
       "        vertical-align: middle;\n",
       "    }\n",
       "\n",
       "    .dataframe tbody tr th {\n",
       "        vertical-align: top;\n",
       "    }\n",
       "\n",
       "    .dataframe thead th {\n",
       "        text-align: right;\n",
       "    }\n",
       "</style>\n",
       "<table border=\"1\" class=\"dataframe\">\n",
       "  <thead>\n",
       "    <tr style=\"text-align: right;\">\n",
       "      <th></th>\n",
       "      <th>Geo Point</th>\n",
       "      <th>OBJECTID</th>\n",
       "      <th>COMPONENT</th>\n",
       "      <th>Site Name</th>\n",
       "      <th>Joint Base</th>\n",
       "      <th>State Terr</th>\n",
       "      <th>COUNTRY</th>\n",
       "      <th>Oper Stat</th>\n",
       "      <th>Lat</th>\n",
       "      <th>Long</th>\n",
       "      <th>Type</th>\n",
       "      <th>text</th>\n",
       "    </tr>\n",
       "  </thead>\n",
       "  <tbody>\n",
       "    <tr>\n",
       "      <th>13</th>\n",
       "      <td>38.805160992, -76.8744374247</td>\n",
       "      <td>144</td>\n",
       "      <td>AF Active</td>\n",
       "      <td>Andrews AFB</td>\n",
       "      <td>Joint Base Andrews - Naval Air Facility Washin...</td>\n",
       "      <td>Maryland</td>\n",
       "      <td>United States</td>\n",
       "      <td>Active</td>\n",
       "      <td>38.805160992</td>\n",
       "      <td>-76.8744374247</td>\n",
       "      <td>Military Base</td>\n",
       "      <td>Military Base : Andrews AFB</td>\n",
       "    </tr>\n",
       "    <tr>\n",
       "      <th>15</th>\n",
       "      <td>32.9631678645, -79.9639295206</td>\n",
       "      <td>113</td>\n",
       "      <td>AF Active</td>\n",
       "      <td>NWS Charleston</td>\n",
       "      <td>Joint Base Charleston</td>\n",
       "      <td>South Carolina</td>\n",
       "      <td>United States</td>\n",
       "      <td>Active</td>\n",
       "      <td>32.9631678645</td>\n",
       "      <td>-79.9639295206</td>\n",
       "      <td>Military Base</td>\n",
       "      <td>Military Base : NWS Charleston</td>\n",
       "    </tr>\n",
       "    <tr>\n",
       "      <th>28</th>\n",
       "      <td>13.5179166878, 144.811096965</td>\n",
       "      <td>239</td>\n",
       "      <td>Navy Active</td>\n",
       "      <td>Tumon Tank Farm</td>\n",
       "      <td>Joint Region Marianas</td>\n",
       "      <td>Guam</td>\n",
       "      <td>Guam</td>\n",
       "      <td>Active</td>\n",
       "      <td>13.5179166878</td>\n",
       "      <td>144.811096965</td>\n",
       "      <td>Military Base</td>\n",
       "      <td>Military Base : Tumon Tank Farm</td>\n",
       "    </tr>\n",
       "    <tr>\n",
       "      <th>30</th>\n",
       "      <td>13.5867134229, 144.862326053</td>\n",
       "      <td>240</td>\n",
       "      <td>Navy Active</td>\n",
       "      <td>Potts Tank Farm</td>\n",
       "      <td>Joint Region Marianas</td>\n",
       "      <td>Guam</td>\n",
       "      <td>Guam</td>\n",
       "      <td>Active</td>\n",
       "      <td>13.5867134229</td>\n",
       "      <td>144.862326053</td>\n",
       "      <td>Military Base</td>\n",
       "      <td>Military Base : Potts Tank Farm</td>\n",
       "    </tr>\n",
       "    <tr>\n",
       "      <th>32</th>\n",
       "      <td>38.8786170847, -77.075713083</td>\n",
       "      <td>718</td>\n",
       "      <td>Army Active</td>\n",
       "      <td>Fort Myer</td>\n",
       "      <td>Joint Base Myer - Henderson Hall</td>\n",
       "      <td>Virginia</td>\n",
       "      <td>United States</td>\n",
       "      <td>Active</td>\n",
       "      <td>38.8786170847</td>\n",
       "      <td>-77.075713083</td>\n",
       "      <td>Military Base</td>\n",
       "      <td>Military Base : Fort Myer</td>\n",
       "    </tr>\n",
       "  </tbody>\n",
       "</table>\n",
       "</div>"
      ],
      "text/plain": [
       "                        Geo Point  OBJECTID    COMPONENT        Site Name  \\\n",
       "13   38.805160992, -76.8744374247       144    AF Active      Andrews AFB   \n",
       "15  32.9631678645, -79.9639295206       113    AF Active   NWS Charleston   \n",
       "28   13.5179166878, 144.811096965       239  Navy Active  Tumon Tank Farm   \n",
       "30   13.5867134229, 144.862326053       240  Navy Active  Potts Tank Farm   \n",
       "32   38.8786170847, -77.075713083       718  Army Active        Fort Myer   \n",
       "\n",
       "                                           Joint Base      State Terr  \\\n",
       "13  Joint Base Andrews - Naval Air Facility Washin...        Maryland   \n",
       "15                              Joint Base Charleston  South Carolina   \n",
       "28                              Joint Region Marianas            Guam   \n",
       "30                              Joint Region Marianas            Guam   \n",
       "32                   Joint Base Myer - Henderson Hall        Virginia   \n",
       "\n",
       "          COUNTRY Oper Stat            Lat             Long           Type  \\\n",
       "13  United States    Active   38.805160992   -76.8744374247  Military Base   \n",
       "15  United States    Active  32.9631678645   -79.9639295206  Military Base   \n",
       "28           Guam    Active  13.5179166878    144.811096965  Military Base   \n",
       "30           Guam    Active  13.5867134229    144.862326053  Military Base   \n",
       "32  United States    Active  38.8786170847    -77.075713083  Military Base   \n",
       "\n",
       "                               text  \n",
       "13      Military Base : Andrews AFB  \n",
       "15   Military Base : NWS Charleston  \n",
       "28  Military Base : Tumon Tank Farm  \n",
       "30  Military Base : Potts Tank Farm  \n",
       "32        Military Base : Fort Myer  "
      ]
     },
     "execution_count": 177,
     "metadata": {},
     "output_type": "execute_result"
    }
   ],
   "source": [
    "# adding text column for mapping\n",
    "military_base_df['text'] = military_base_df['Type'].astype(str) + ' : ' + military_base_df['Site Name'].astype(str)\n",
    "\n",
    "military_base_df.head()"
   ]
  },
  {
   "cell_type": "code",
   "execution_count": 178,
   "metadata": {},
   "outputs": [],
   "source": [
    "military_base_df.drop(columns =[\"Geo Point\",\"OBJECTID\",\"COMPONENT\",\"Joint Base\",\"State Terr\",\"COUNTRY\",\"Oper Stat\"], inplace = True) "
   ]
  },
  {
   "cell_type": "code",
   "execution_count": 179,
   "metadata": {},
   "outputs": [],
   "source": [
    "military_base_df['Color'] = '#636EFA'"
   ]
  },
  {
   "cell_type": "code",
   "execution_count": 180,
   "metadata": {},
   "outputs": [
    {
     "data": {
      "text/html": [
       "<div>\n",
       "<style scoped>\n",
       "    .dataframe tbody tr th:only-of-type {\n",
       "        vertical-align: middle;\n",
       "    }\n",
       "\n",
       "    .dataframe tbody tr th {\n",
       "        vertical-align: top;\n",
       "    }\n",
       "\n",
       "    .dataframe thead th {\n",
       "        text-align: right;\n",
       "    }\n",
       "</style>\n",
       "<table border=\"1\" class=\"dataframe\">\n",
       "  <thead>\n",
       "    <tr style=\"text-align: right;\">\n",
       "      <th></th>\n",
       "      <th>Site Name</th>\n",
       "      <th>Lat</th>\n",
       "      <th>Long</th>\n",
       "      <th>Type</th>\n",
       "      <th>text</th>\n",
       "      <th>Color</th>\n",
       "    </tr>\n",
       "  </thead>\n",
       "  <tbody>\n",
       "    <tr>\n",
       "      <th>13</th>\n",
       "      <td>Andrews AFB</td>\n",
       "      <td>38.805160992</td>\n",
       "      <td>-76.8744374247</td>\n",
       "      <td>Military Base</td>\n",
       "      <td>Military Base : Andrews AFB</td>\n",
       "      <td>#636EFA</td>\n",
       "    </tr>\n",
       "    <tr>\n",
       "      <th>15</th>\n",
       "      <td>NWS Charleston</td>\n",
       "      <td>32.9631678645</td>\n",
       "      <td>-79.9639295206</td>\n",
       "      <td>Military Base</td>\n",
       "      <td>Military Base : NWS Charleston</td>\n",
       "      <td>#636EFA</td>\n",
       "    </tr>\n",
       "    <tr>\n",
       "      <th>28</th>\n",
       "      <td>Tumon Tank Farm</td>\n",
       "      <td>13.5179166878</td>\n",
       "      <td>144.811096965</td>\n",
       "      <td>Military Base</td>\n",
       "      <td>Military Base : Tumon Tank Farm</td>\n",
       "      <td>#636EFA</td>\n",
       "    </tr>\n",
       "    <tr>\n",
       "      <th>30</th>\n",
       "      <td>Potts Tank Farm</td>\n",
       "      <td>13.5867134229</td>\n",
       "      <td>144.862326053</td>\n",
       "      <td>Military Base</td>\n",
       "      <td>Military Base : Potts Tank Farm</td>\n",
       "      <td>#636EFA</td>\n",
       "    </tr>\n",
       "    <tr>\n",
       "      <th>32</th>\n",
       "      <td>Fort Myer</td>\n",
       "      <td>38.8786170847</td>\n",
       "      <td>-77.075713083</td>\n",
       "      <td>Military Base</td>\n",
       "      <td>Military Base : Fort Myer</td>\n",
       "      <td>#636EFA</td>\n",
       "    </tr>\n",
       "  </tbody>\n",
       "</table>\n",
       "</div>"
      ],
      "text/plain": [
       "          Site Name            Lat             Long           Type  \\\n",
       "13      Andrews AFB   38.805160992   -76.8744374247  Military Base   \n",
       "15   NWS Charleston  32.9631678645   -79.9639295206  Military Base   \n",
       "28  Tumon Tank Farm  13.5179166878    144.811096965  Military Base   \n",
       "30  Potts Tank Farm  13.5867134229    144.862326053  Military Base   \n",
       "32        Fort Myer  38.8786170847    -77.075713083  Military Base   \n",
       "\n",
       "                               text    Color  \n",
       "13      Military Base : Andrews AFB  #636EFA  \n",
       "15   Military Base : NWS Charleston  #636EFA  \n",
       "28  Military Base : Tumon Tank Farm  #636EFA  \n",
       "30  Military Base : Potts Tank Farm  #636EFA  \n",
       "32        Military Base : Fort Myer  #636EFA  "
      ]
     },
     "execution_count": 180,
     "metadata": {},
     "output_type": "execute_result"
    }
   ],
   "source": [
    "military_base_df.head()\n"
   ]
  },
  {
   "cell_type": "code",
   "execution_count": 197,
   "metadata": {},
   "outputs": [],
   "source": [
    "military_base_df['Lat'] = military_base_df['Lat'].astype(float)\n",
    "military_base_df['Long'] = military_base_df['Long'].astype(float)"
   ]
  },
  {
   "cell_type": "code",
   "execution_count": 198,
   "metadata": {},
   "outputs": [
    {
     "name": "stdout",
     "output_type": "stream",
     "text": [
      "<class 'pandas.core.frame.DataFrame'>\n",
      "Int64Index: 62 entries, 13 to 691\n",
      "Data columns (total 6 columns):\n",
      "Site Name    62 non-null object\n",
      "Lat          62 non-null float64\n",
      "Long         62 non-null float64\n",
      "Type         62 non-null object\n",
      "text         62 non-null object\n",
      "Color        62 non-null object\n",
      "dtypes: float64(2), object(4)\n",
      "memory usage: 3.4+ KB\n"
     ]
    }
   ],
   "source": [
    "military_base_df.info()"
   ]
  },
  {
   "cell_type": "code",
   "execution_count": 199,
   "metadata": {},
   "outputs": [],
   "source": [
    "dfs_list = [us,military_base_df]\n",
    "sites = pd.concat(dfs_list, sort=False)"
   ]
  },
  {
   "cell_type": "code",
   "execution_count": 202,
   "metadata": {},
   "outputs": [
    {
     "name": "stdout",
     "output_type": "stream",
     "text": [
      "<class 'pandas.core.frame.DataFrame'>\n",
      "Int64Index: 108 entries, 2 to 691\n",
      "Data columns (total 6 columns):\n",
      "Site Name    108 non-null object\n",
      "Lat          108 non-null float64\n",
      "Long         108 non-null float64\n",
      "Type         108 non-null object\n",
      "Color        108 non-null object\n",
      "text         108 non-null object\n",
      "dtypes: float64(2), object(4)\n",
      "memory usage: 5.9+ KB\n"
     ]
    }
   ],
   "source": [
    "sites.info()"
   ]
  },
  {
   "cell_type": "code",
   "execution_count": 207,
   "metadata": {},
   "outputs": [
    {
     "data": {
      "text/html": [
       "<div>\n",
       "<style scoped>\n",
       "    .dataframe tbody tr th:only-of-type {\n",
       "        vertical-align: middle;\n",
       "    }\n",
       "\n",
       "    .dataframe tbody tr th {\n",
       "        vertical-align: top;\n",
       "    }\n",
       "\n",
       "    .dataframe thead th {\n",
       "        text-align: right;\n",
       "    }\n",
       "</style>\n",
       "<table border=\"1\" class=\"dataframe\">\n",
       "  <thead>\n",
       "    <tr style=\"text-align: right;\">\n",
       "      <th></th>\n",
       "      <th>Site Name</th>\n",
       "      <th>Lat</th>\n",
       "      <th>Long</th>\n",
       "      <th>Type</th>\n",
       "      <th>Color</th>\n",
       "      <th>text</th>\n",
       "    </tr>\n",
       "  </thead>\n",
       "  <tbody>\n",
       "    <tr>\n",
       "      <th>2</th>\n",
       "      <td>ANO</td>\n",
       "      <td>35.310280</td>\n",
       "      <td>-93.231390</td>\n",
       "      <td>Nuclear Site</td>\n",
       "      <td>#ff0000</td>\n",
       "      <td>Nuclear Site : ANO</td>\n",
       "    </tr>\n",
       "    <tr>\n",
       "      <th>6</th>\n",
       "      <td>Beaver Valley</td>\n",
       "      <td>40.623330</td>\n",
       "      <td>-80.430560</td>\n",
       "      <td>Nuclear Site</td>\n",
       "      <td>#ff0000</td>\n",
       "      <td>Nuclear Site : Beaver Valley</td>\n",
       "    </tr>\n",
       "    <tr>\n",
       "      <th>10</th>\n",
       "      <td>Braidwood</td>\n",
       "      <td>41.243610</td>\n",
       "      <td>-88.229170</td>\n",
       "      <td>Nuclear Site</td>\n",
       "      <td>#ff0000</td>\n",
       "      <td>Nuclear Site : Braidwood</td>\n",
       "    </tr>\n",
       "    <tr>\n",
       "      <th>12</th>\n",
       "      <td>Browns Ferry</td>\n",
       "      <td>34.703890</td>\n",
       "      <td>-87.118610</td>\n",
       "      <td>Nuclear Site</td>\n",
       "      <td>#ff0000</td>\n",
       "      <td>Nuclear Site : Browns Ferry</td>\n",
       "    </tr>\n",
       "    <tr>\n",
       "      <th>14</th>\n",
       "      <td>Brunswick</td>\n",
       "      <td>33.958330</td>\n",
       "      <td>-78.010280</td>\n",
       "      <td>Nuclear Site</td>\n",
       "      <td>#ff0000</td>\n",
       "      <td>Nuclear Site : Brunswick</td>\n",
       "    </tr>\n",
       "    <tr>\n",
       "      <th>...</th>\n",
       "      <td>...</td>\n",
       "      <td>...</td>\n",
       "      <td>...</td>\n",
       "      <td>...</td>\n",
       "      <td>...</td>\n",
       "      <td>...</td>\n",
       "    </tr>\n",
       "    <tr>\n",
       "      <th>665</th>\n",
       "      <td>JEBLCFS East</td>\n",
       "      <td>36.922943</td>\n",
       "      <td>-76.017789</td>\n",
       "      <td>Military Base</td>\n",
       "      <td>#636EFA</td>\n",
       "      <td>Military Base : JEBLCFS East</td>\n",
       "    </tr>\n",
       "    <tr>\n",
       "      <th>684</th>\n",
       "      <td>Ewa</td>\n",
       "      <td>21.338877</td>\n",
       "      <td>-157.995142</td>\n",
       "      <td>Military Base</td>\n",
       "      <td>#636EFA</td>\n",
       "      <td>Military Base : Ewa</td>\n",
       "    </tr>\n",
       "    <tr>\n",
       "      <th>686</th>\n",
       "      <td>Nimitz Hill</td>\n",
       "      <td>13.465865</td>\n",
       "      <td>144.723191</td>\n",
       "      <td>Military Base</td>\n",
       "      <td>#636EFA</td>\n",
       "      <td>Military Base : Nimitz Hill</td>\n",
       "    </tr>\n",
       "    <tr>\n",
       "      <th>690</th>\n",
       "      <td>Charleston Defense Fuel Support Point</td>\n",
       "      <td>32.912797</td>\n",
       "      <td>-79.983268</td>\n",
       "      <td>Military Base</td>\n",
       "      <td>#636EFA</td>\n",
       "      <td>Military Base : Charleston Defense Fuel Suppor...</td>\n",
       "    </tr>\n",
       "    <tr>\n",
       "      <th>691</th>\n",
       "      <td>NAVBASE Guam Barrigada</td>\n",
       "      <td>13.476846</td>\n",
       "      <td>144.829098</td>\n",
       "      <td>Military Base</td>\n",
       "      <td>#636EFA</td>\n",
       "      <td>Military Base : NAVBASE Guam Barrigada</td>\n",
       "    </tr>\n",
       "  </tbody>\n",
       "</table>\n",
       "<p>108 rows × 6 columns</p>\n",
       "</div>"
      ],
      "text/plain": [
       "                                 Site Name        Lat        Long  \\\n",
       "2                                      ANO  35.310280  -93.231390   \n",
       "6                            Beaver Valley  40.623330  -80.430560   \n",
       "10                               Braidwood  41.243610  -88.229170   \n",
       "12                            Browns Ferry  34.703890  -87.118610   \n",
       "14                               Brunswick  33.958330  -78.010280   \n",
       "..                                     ...        ...         ...   \n",
       "665                           JEBLCFS East  36.922943  -76.017789   \n",
       "684                                    Ewa  21.338877 -157.995142   \n",
       "686                            Nimitz Hill  13.465865  144.723191   \n",
       "690  Charleston Defense Fuel Support Point  32.912797  -79.983268   \n",
       "691                 NAVBASE Guam Barrigada  13.476846  144.829098   \n",
       "\n",
       "              Type    Color                                               text  \n",
       "2     Nuclear Site  #ff0000                                 Nuclear Site : ANO  \n",
       "6     Nuclear Site  #ff0000                       Nuclear Site : Beaver Valley  \n",
       "10    Nuclear Site  #ff0000                           Nuclear Site : Braidwood  \n",
       "12    Nuclear Site  #ff0000                        Nuclear Site : Browns Ferry  \n",
       "14    Nuclear Site  #ff0000                           Nuclear Site : Brunswick  \n",
       "..             ...      ...                                                ...  \n",
       "665  Military Base  #636EFA                       Military Base : JEBLCFS East  \n",
       "684  Military Base  #636EFA                                Military Base : Ewa  \n",
       "686  Military Base  #636EFA                        Military Base : Nimitz Hill  \n",
       "690  Military Base  #636EFA  Military Base : Charleston Defense Fuel Suppor...  \n",
       "691  Military Base  #636EFA             Military Base : NAVBASE Guam Barrigada  \n",
       "\n",
       "[108 rows x 6 columns]"
      ]
     },
     "execution_count": 207,
     "metadata": {},
     "output_type": "execute_result"
    }
   ],
   "source": [
    "sites"
   ]
  },
  {
   "cell_type": "markdown",
   "metadata": {},
   "source": [
    "### Map of Military bases and Nuclear sites"
   ]
  },
  {
   "cell_type": "code",
   "execution_count": 204,
   "metadata": {},
   "outputs": [
    {
     "data": {
      "application/vnd.plotly.v1+json": {
       "config": {
        "plotlyServerURL": "https://plot.ly"
       },
       "data": [
        {
         "lat": [
          35.31028,
          40.62333,
          41.24361,
          34.70389,
          33.95833,
          42.07417,
          38.76167,
          38.43194,
          35.05167,
          40.17222,
          46.47111,
          32.29833,
          35.21083,
          41.97528,
          41.38972,
          31.93417,
          41.96278,
          32.00667,
          39.46778,
          41.26972,
          31.22306,
          41.24556,
          40.22667,
          35.4325,
          41.31194,
          43.52083,
          38.06056,
          34.79389,
          33.38917,
          39.75833,
          41.80083,
          44.28111,
          44.62167,
          41.72639,
          27.34861,
          39.46278,
          42.89889,
          35.22639,
          28.79556,
          37.16556,
          41.08889,
          25.43417,
          33.14306,
          29.99528,
          35.60278,
          38.23889,
          38.805160992,
          32.9631678645,
          13.5179166878,
          13.5867134229,
          38.8786170847,
          13.4278588719,
          21.3746865923,
          29.6910786199,
          61.2656742432,
          21.362027986,
          13.3903252494,
          40.0272402409,
          21.410607918,
          13.4330070192,
          33.2559394983,
          13.3594231481,
          45.8426458324,
          13.5220280334,
          13.3879020314,
          29.5647013816,
          38.8401895206,
          32.89932731,
          40.0037170669,
          29.4595258058,
          37.8861451188,
          13.5080446348,
          29.8854754904,
          13.5359727178,
          29.3867060451,
          13.583614406,
          29.3801366468,
          62.4083568593,
          13.4730061778,
          13.4890012861,
          13.5410854996,
          29.5303762915,
          13.4026373686,
          21.3462680726,
          13.5893279313,
          33.6025364855,
          13.5097297889,
          13.3106836687,
          37.1322673005,
          13.5394258403,
          36.9168246358,
          21.5204387954,
          13.4739477757,
          13.5499832873,
          38.8671764618,
          40.0256304054,
          13.4564304638,
          21.4378727957,
          21.336498902,
          13.4489092377,
          29.3687557016,
          61.2697996076,
          29.3820164194,
          36.9229428421,
          21.3388774553,
          13.4658653627,
          32.9127968937,
          13.4768461585
         ],
         "lon": [
          -93.23139,
          -80.43056,
          -88.22917,
          -87.11861,
          -78.01028,
          -89.28194,
          -91.78,
          -76.44222,
          -81.07,
          -88.835,
          -119.33389,
          -97.785,
          -120.85611,
          -86.56583,
          -88.26806,
          -82.34389,
          -83.2575,
          -91.04833,
          -75.53806,
          -73.95222,
          -85.11167,
          -88.66917,
          -75.58722,
          -80.94833,
          -72.16861,
          -76.40694,
          -77.78944,
          -82.89806,
          -112.865,
          -76.26806,
          -81.14333,
          -87.53667,
          -92.63306,
          -90.31,
          -80.24639,
          -75.53556,
          -70.85083,
          -85.09167,
          -96.04889,
          -76.69778,
          -76.14889,
          -80.33056,
          -81.76583,
          -90.47111,
          -84.78944,
          -95.68889,
          -76.8744374247,
          -79.9639295206,
          144.811096965,
          144.862326053,
          -77.075713083,
          144.651814532,
          -157.939587718,
          -98.5616635721,
          -149.641106773,
          -157.988000463,
          144.686287701,
          -74.3754113769,
          -158.019802232,
          144.687506251,
          -79.9888973082,
          144.692255013,
          -119.437655687,
          144.815371267,
          144.685184507,
          -97.9056493053,
          -77.0167536449,
          -80.0504311436,
          -74.5240459967,
          -98.4407060608,
          -75.468637957,
          144.865813247,
          -98.2185402692,
          144.914815476,
          -98.6180830931,
          144.844294742,
          -98.5854145343,
          -145.155004797,
          144.764834584,
          144.86534429,
          144.807899021,
          -98.2796904632,
          144.682244687,
          -157.922035172,
          144.90886267,
          -81.0785389953,
          144.809944738,
          144.736799462,
          -76.5889077607,
          144.914764712,
          -76.1618684951,
          -158.005637827,
          144.740245884,
          144.830853076,
          -77.0164788795,
          -74.5803176353,
          144.812532772,
          -158.006162668,
          -157.947890984,
          144.699602417,
          -98.6650122626,
          -149.811187588,
          -98.5645369806,
          -76.0177892175,
          -157.995142257,
          144.723191439,
          -79.9832675725,
          144.829098042
         ],
         "marker": {
          "color": [
           "#ff0000",
           "#ff0000",
           "#ff0000",
           "#ff0000",
           "#ff0000",
           "#ff0000",
           "#ff0000",
           "#ff0000",
           "#ff0000",
           "#ff0000",
           "#ff0000",
           "#ff0000",
           "#ff0000",
           "#ff0000",
           "#ff0000",
           "#ff0000",
           "#ff0000",
           "#ff0000",
           "#ff0000",
           "#ff0000",
           "#ff0000",
           "#ff0000",
           "#ff0000",
           "#ff0000",
           "#ff0000",
           "#ff0000",
           "#ff0000",
           "#ff0000",
           "#ff0000",
           "#ff0000",
           "#ff0000",
           "#ff0000",
           "#ff0000",
           "#ff0000",
           "#ff0000",
           "#ff0000",
           "#ff0000",
           "#ff0000",
           "#ff0000",
           "#ff0000",
           "#ff0000",
           "#ff0000",
           "#ff0000",
           "#ff0000",
           "#ff0000",
           "#ff0000",
           "#636EFA",
           "#636EFA",
           "#636EFA",
           "#636EFA",
           "#636EFA",
           "#636EFA",
           "#636EFA",
           "#636EFA",
           "#636EFA",
           "#636EFA",
           "#636EFA",
           "#636EFA",
           "#636EFA",
           "#636EFA",
           "#636EFA",
           "#636EFA",
           "#636EFA",
           "#636EFA",
           "#636EFA",
           "#636EFA",
           "#636EFA",
           "#636EFA",
           "#636EFA",
           "#636EFA",
           "#636EFA",
           "#636EFA",
           "#636EFA",
           "#636EFA",
           "#636EFA",
           "#636EFA",
           "#636EFA",
           "#636EFA",
           "#636EFA",
           "#636EFA",
           "#636EFA",
           "#636EFA",
           "#636EFA",
           "#636EFA",
           "#636EFA",
           "#636EFA",
           "#636EFA",
           "#636EFA",
           "#636EFA",
           "#636EFA",
           "#636EFA",
           "#636EFA",
           "#636EFA",
           "#636EFA",
           "#636EFA",
           "#636EFA",
           "#636EFA",
           "#636EFA",
           "#636EFA",
           "#636EFA",
           "#636EFA",
           "#636EFA",
           "#636EFA",
           "#636EFA",
           "#636EFA",
           "#636EFA",
           "#636EFA",
           "#636EFA"
          ]
         },
         "mode": "markers",
         "text": [
          "Nuclear Site : ANO",
          "Nuclear Site : Beaver Valley",
          "Nuclear Site : Braidwood",
          "Nuclear Site : Browns Ferry",
          "Nuclear Site : Brunswick",
          "Nuclear Site : Byron",
          "Nuclear Site : Callaway",
          "Nuclear Site : Calvert Cliffs",
          "Nuclear Site : Catawba",
          "Nuclear Site : Clinton",
          "Nuclear Site : Columbia",
          "Nuclear Site : Comanche Peak",
          "Nuclear Site : Diablo Canyon",
          "Nuclear Site : Donald C. Cook",
          "Nuclear Site : Dresden",
          "Nuclear Site : Edwin I. Hatch",
          "Nuclear Site : Fermi",
          "Nuclear Site : Grand Gulf",
          "Nuclear Site : Hope Creek",
          "Nuclear Site : Indian Point",
          "Nuclear Site : Joseph M. Farley",
          "Nuclear Site : LaSalle",
          "Nuclear Site : Limerick",
          "Nuclear Site : McGuire",
          "Nuclear Site : Millstone",
          "Nuclear Site : Nine Mile Point",
          "Nuclear Site : North Anna",
          "Nuclear Site : Oconee",
          "Nuclear Site : Palo Verde",
          "Nuclear Site : Peach Bottom",
          "Nuclear Site : Perry",
          "Nuclear Site : Point Beach",
          "Nuclear Site : Prairie Island",
          "Nuclear Site : Quad Cities",
          "Nuclear Site : Saint Lucie",
          "Nuclear Site : Salem",
          "Nuclear Site : Seabrook",
          "Nuclear Site : Sequoyah",
          "Nuclear Site : South Texas",
          "Nuclear Site : Surry",
          "Nuclear Site : Susquehanna",
          "Nuclear Site : Turkey Point",
          "Nuclear Site : Vogtle",
          "Nuclear Site : Waterford",
          "Nuclear Site : Watts Bar",
          "Nuclear Site : Wolf Creek",
          "Military Base : Andrews AFB",
          "Military Base : NWS Charleston",
          "Military Base : Tumon Tank Farm",
          "Military Base : Potts Tank Farm",
          "Military Base : Fort Myer",
          "Military Base : NAVBASE Guam",
          "Military Base : Aiea",
          "Military Base : Camp Bullis",
          "Military Base : Fort Richardson",
          "Military Base : Waipahu",
          "Military Base : NAVBASE Guam Magazine Reservoir, Naval Magazine",
          "Military Base : Lakehurst",
          "Military Base : Waikele",
          "Military Base : Tenjo Vista",
          "Military Base : NWS Charleston Short Stay",
          "Military Base : NAVBASE Guam Naval Magazine",
          "Military Base : Umatilla Chem Depot",
          "Military Base : NAVBASE Guam Harmon",
          "Military Base : NAVBASE Guam, Naval Magazine",
          "Military Base : Seguin Air Force Auxiliary Field",
          "Military Base : JBAB Anacostia Bolling",
          "Military Base : Charleston AFB",
          "Military Base : Dix",
          "Military Base : Fort Sam Houston",
          "Military Base : Wallops Island",
          "Military Base : Andy South",
          "Military Base : Canyon Lake Recreation Annex",
          "Military Base : Santa Rosa Parcel B",
          "Military Base : Lackland AFB",
          "Military Base : NAVBASE Guam Finegayan",
          "Military Base : Kelly Field Annex",
          "Military Base : Haarp Research Station",
          "Military Base : Agana",
          "Military Base : NAVBASE Guam Marbo",
          "Military Base : Tanguisson Point",
          "Military Base : Randolph AFB",
          "Military Base : NAVBASE Guam Apra Heights",
          "Military Base : Honolulu",
          "Military Base : NSA Andersen",
          "Military Base : North Air Force Auxiliary Field",
          "Military Base : Tumon",
          "Military Base : Dandan",
          "Military Base : Fort Eustis",
          "Military Base : Santa Rosa Parcel A",
          "Military Base : JNTEXPBASE Little Creek FS VA",
          "Military Base : Wahiawa",
          "Military Base : Naval Hospital",
          "Military Base : NAVBASE Guam Finegayan, South",
          "Military Base : Fort Lesley J McNair",
          "Military Base : McGuire",
          "Military Base : Barrigada",
          "Military Base : Hickam Petrol Strg Ann",
          "Military Base : JBPHH Pearl Harbor  HI",
          "Military Base : Sasa Valley",
          "Military Base : JBSA-Medina Annex",
          "Military Base : Elmendorf AFB",
          "Military Base : JBSA-Port Annex",
          "Military Base : JEBLCFS East",
          "Military Base : Ewa",
          "Military Base : Nimitz Hill",
          "Military Base : Charleston Defense Fuel Support Point",
          "Military Base : NAVBASE Guam Barrigada"
         ],
         "type": "scattergeo"
        }
       ],
       "layout": {
        "geo": {
         "scope": "usa"
        },
        "template": {
         "data": {
          "bar": [
           {
            "error_x": {
             "color": "#2a3f5f"
            },
            "error_y": {
             "color": "#2a3f5f"
            },
            "marker": {
             "line": {
              "color": "#E5ECF6",
              "width": 0.5
             }
            },
            "type": "bar"
           }
          ],
          "barpolar": [
           {
            "marker": {
             "line": {
              "color": "#E5ECF6",
              "width": 0.5
             }
            },
            "type": "barpolar"
           }
          ],
          "carpet": [
           {
            "aaxis": {
             "endlinecolor": "#2a3f5f",
             "gridcolor": "white",
             "linecolor": "white",
             "minorgridcolor": "white",
             "startlinecolor": "#2a3f5f"
            },
            "baxis": {
             "endlinecolor": "#2a3f5f",
             "gridcolor": "white",
             "linecolor": "white",
             "minorgridcolor": "white",
             "startlinecolor": "#2a3f5f"
            },
            "type": "carpet"
           }
          ],
          "choropleth": [
           {
            "colorbar": {
             "outlinewidth": 0,
             "ticks": ""
            },
            "type": "choropleth"
           }
          ],
          "contour": [
           {
            "colorbar": {
             "outlinewidth": 0,
             "ticks": ""
            },
            "colorscale": [
             [
              0,
              "#0d0887"
             ],
             [
              0.1111111111111111,
              "#46039f"
             ],
             [
              0.2222222222222222,
              "#7201a8"
             ],
             [
              0.3333333333333333,
              "#9c179e"
             ],
             [
              0.4444444444444444,
              "#bd3786"
             ],
             [
              0.5555555555555556,
              "#d8576b"
             ],
             [
              0.6666666666666666,
              "#ed7953"
             ],
             [
              0.7777777777777778,
              "#fb9f3a"
             ],
             [
              0.8888888888888888,
              "#fdca26"
             ],
             [
              1,
              "#f0f921"
             ]
            ],
            "type": "contour"
           }
          ],
          "contourcarpet": [
           {
            "colorbar": {
             "outlinewidth": 0,
             "ticks": ""
            },
            "type": "contourcarpet"
           }
          ],
          "heatmap": [
           {
            "colorbar": {
             "outlinewidth": 0,
             "ticks": ""
            },
            "colorscale": [
             [
              0,
              "#0d0887"
             ],
             [
              0.1111111111111111,
              "#46039f"
             ],
             [
              0.2222222222222222,
              "#7201a8"
             ],
             [
              0.3333333333333333,
              "#9c179e"
             ],
             [
              0.4444444444444444,
              "#bd3786"
             ],
             [
              0.5555555555555556,
              "#d8576b"
             ],
             [
              0.6666666666666666,
              "#ed7953"
             ],
             [
              0.7777777777777778,
              "#fb9f3a"
             ],
             [
              0.8888888888888888,
              "#fdca26"
             ],
             [
              1,
              "#f0f921"
             ]
            ],
            "type": "heatmap"
           }
          ],
          "heatmapgl": [
           {
            "colorbar": {
             "outlinewidth": 0,
             "ticks": ""
            },
            "colorscale": [
             [
              0,
              "#0d0887"
             ],
             [
              0.1111111111111111,
              "#46039f"
             ],
             [
              0.2222222222222222,
              "#7201a8"
             ],
             [
              0.3333333333333333,
              "#9c179e"
             ],
             [
              0.4444444444444444,
              "#bd3786"
             ],
             [
              0.5555555555555556,
              "#d8576b"
             ],
             [
              0.6666666666666666,
              "#ed7953"
             ],
             [
              0.7777777777777778,
              "#fb9f3a"
             ],
             [
              0.8888888888888888,
              "#fdca26"
             ],
             [
              1,
              "#f0f921"
             ]
            ],
            "type": "heatmapgl"
           }
          ],
          "histogram": [
           {
            "marker": {
             "colorbar": {
              "outlinewidth": 0,
              "ticks": ""
             }
            },
            "type": "histogram"
           }
          ],
          "histogram2d": [
           {
            "colorbar": {
             "outlinewidth": 0,
             "ticks": ""
            },
            "colorscale": [
             [
              0,
              "#0d0887"
             ],
             [
              0.1111111111111111,
              "#46039f"
             ],
             [
              0.2222222222222222,
              "#7201a8"
             ],
             [
              0.3333333333333333,
              "#9c179e"
             ],
             [
              0.4444444444444444,
              "#bd3786"
             ],
             [
              0.5555555555555556,
              "#d8576b"
             ],
             [
              0.6666666666666666,
              "#ed7953"
             ],
             [
              0.7777777777777778,
              "#fb9f3a"
             ],
             [
              0.8888888888888888,
              "#fdca26"
             ],
             [
              1,
              "#f0f921"
             ]
            ],
            "type": "histogram2d"
           }
          ],
          "histogram2dcontour": [
           {
            "colorbar": {
             "outlinewidth": 0,
             "ticks": ""
            },
            "colorscale": [
             [
              0,
              "#0d0887"
             ],
             [
              0.1111111111111111,
              "#46039f"
             ],
             [
              0.2222222222222222,
              "#7201a8"
             ],
             [
              0.3333333333333333,
              "#9c179e"
             ],
             [
              0.4444444444444444,
              "#bd3786"
             ],
             [
              0.5555555555555556,
              "#d8576b"
             ],
             [
              0.6666666666666666,
              "#ed7953"
             ],
             [
              0.7777777777777778,
              "#fb9f3a"
             ],
             [
              0.8888888888888888,
              "#fdca26"
             ],
             [
              1,
              "#f0f921"
             ]
            ],
            "type": "histogram2dcontour"
           }
          ],
          "mesh3d": [
           {
            "colorbar": {
             "outlinewidth": 0,
             "ticks": ""
            },
            "type": "mesh3d"
           }
          ],
          "parcoords": [
           {
            "line": {
             "colorbar": {
              "outlinewidth": 0,
              "ticks": ""
             }
            },
            "type": "parcoords"
           }
          ],
          "pie": [
           {
            "automargin": true,
            "type": "pie"
           }
          ],
          "scatter": [
           {
            "marker": {
             "colorbar": {
              "outlinewidth": 0,
              "ticks": ""
             }
            },
            "type": "scatter"
           }
          ],
          "scatter3d": [
           {
            "line": {
             "colorbar": {
              "outlinewidth": 0,
              "ticks": ""
             }
            },
            "marker": {
             "colorbar": {
              "outlinewidth": 0,
              "ticks": ""
             }
            },
            "type": "scatter3d"
           }
          ],
          "scattercarpet": [
           {
            "marker": {
             "colorbar": {
              "outlinewidth": 0,
              "ticks": ""
             }
            },
            "type": "scattercarpet"
           }
          ],
          "scattergeo": [
           {
            "marker": {
             "colorbar": {
              "outlinewidth": 0,
              "ticks": ""
             }
            },
            "type": "scattergeo"
           }
          ],
          "scattergl": [
           {
            "marker": {
             "colorbar": {
              "outlinewidth": 0,
              "ticks": ""
             }
            },
            "type": "scattergl"
           }
          ],
          "scattermapbox": [
           {
            "marker": {
             "colorbar": {
              "outlinewidth": 0,
              "ticks": ""
             }
            },
            "type": "scattermapbox"
           }
          ],
          "scatterpolar": [
           {
            "marker": {
             "colorbar": {
              "outlinewidth": 0,
              "ticks": ""
             }
            },
            "type": "scatterpolar"
           }
          ],
          "scatterpolargl": [
           {
            "marker": {
             "colorbar": {
              "outlinewidth": 0,
              "ticks": ""
             }
            },
            "type": "scatterpolargl"
           }
          ],
          "scatterternary": [
           {
            "marker": {
             "colorbar": {
              "outlinewidth": 0,
              "ticks": ""
             }
            },
            "type": "scatterternary"
           }
          ],
          "surface": [
           {
            "colorbar": {
             "outlinewidth": 0,
             "ticks": ""
            },
            "colorscale": [
             [
              0,
              "#0d0887"
             ],
             [
              0.1111111111111111,
              "#46039f"
             ],
             [
              0.2222222222222222,
              "#7201a8"
             ],
             [
              0.3333333333333333,
              "#9c179e"
             ],
             [
              0.4444444444444444,
              "#bd3786"
             ],
             [
              0.5555555555555556,
              "#d8576b"
             ],
             [
              0.6666666666666666,
              "#ed7953"
             ],
             [
              0.7777777777777778,
              "#fb9f3a"
             ],
             [
              0.8888888888888888,
              "#fdca26"
             ],
             [
              1,
              "#f0f921"
             ]
            ],
            "type": "surface"
           }
          ],
          "table": [
           {
            "cells": {
             "fill": {
              "color": "#EBF0F8"
             },
             "line": {
              "color": "white"
             }
            },
            "header": {
             "fill": {
              "color": "#C8D4E3"
             },
             "line": {
              "color": "white"
             }
            },
            "type": "table"
           }
          ]
         },
         "layout": {
          "annotationdefaults": {
           "arrowcolor": "#2a3f5f",
           "arrowhead": 0,
           "arrowwidth": 1
          },
          "coloraxis": {
           "colorbar": {
            "outlinewidth": 0,
            "ticks": ""
           }
          },
          "colorscale": {
           "diverging": [
            [
             0,
             "#8e0152"
            ],
            [
             0.1,
             "#c51b7d"
            ],
            [
             0.2,
             "#de77ae"
            ],
            [
             0.3,
             "#f1b6da"
            ],
            [
             0.4,
             "#fde0ef"
            ],
            [
             0.5,
             "#f7f7f7"
            ],
            [
             0.6,
             "#e6f5d0"
            ],
            [
             0.7,
             "#b8e186"
            ],
            [
             0.8,
             "#7fbc41"
            ],
            [
             0.9,
             "#4d9221"
            ],
            [
             1,
             "#276419"
            ]
           ],
           "sequential": [
            [
             0,
             "#0d0887"
            ],
            [
             0.1111111111111111,
             "#46039f"
            ],
            [
             0.2222222222222222,
             "#7201a8"
            ],
            [
             0.3333333333333333,
             "#9c179e"
            ],
            [
             0.4444444444444444,
             "#bd3786"
            ],
            [
             0.5555555555555556,
             "#d8576b"
            ],
            [
             0.6666666666666666,
             "#ed7953"
            ],
            [
             0.7777777777777778,
             "#fb9f3a"
            ],
            [
             0.8888888888888888,
             "#fdca26"
            ],
            [
             1,
             "#f0f921"
            ]
           ],
           "sequentialminus": [
            [
             0,
             "#0d0887"
            ],
            [
             0.1111111111111111,
             "#46039f"
            ],
            [
             0.2222222222222222,
             "#7201a8"
            ],
            [
             0.3333333333333333,
             "#9c179e"
            ],
            [
             0.4444444444444444,
             "#bd3786"
            ],
            [
             0.5555555555555556,
             "#d8576b"
            ],
            [
             0.6666666666666666,
             "#ed7953"
            ],
            [
             0.7777777777777778,
             "#fb9f3a"
            ],
            [
             0.8888888888888888,
             "#fdca26"
            ],
            [
             1,
             "#f0f921"
            ]
           ]
          },
          "colorway": [
           "#636efa",
           "#EF553B",
           "#00cc96",
           "#ab63fa",
           "#FFA15A",
           "#19d3f3",
           "#FF6692",
           "#B6E880",
           "#FF97FF",
           "#FECB52"
          ],
          "font": {
           "color": "#2a3f5f"
          },
          "geo": {
           "bgcolor": "white",
           "lakecolor": "white",
           "landcolor": "#E5ECF6",
           "showlakes": true,
           "showland": true,
           "subunitcolor": "white"
          },
          "hoverlabel": {
           "align": "left"
          },
          "hovermode": "closest",
          "mapbox": {
           "style": "light"
          },
          "paper_bgcolor": "white",
          "plot_bgcolor": "#E5ECF6",
          "polar": {
           "angularaxis": {
            "gridcolor": "white",
            "linecolor": "white",
            "ticks": ""
           },
           "bgcolor": "#E5ECF6",
           "radialaxis": {
            "gridcolor": "white",
            "linecolor": "white",
            "ticks": ""
           }
          },
          "scene": {
           "xaxis": {
            "backgroundcolor": "#E5ECF6",
            "gridcolor": "white",
            "gridwidth": 2,
            "linecolor": "white",
            "showbackground": true,
            "ticks": "",
            "zerolinecolor": "white"
           },
           "yaxis": {
            "backgroundcolor": "#E5ECF6",
            "gridcolor": "white",
            "gridwidth": 2,
            "linecolor": "white",
            "showbackground": true,
            "ticks": "",
            "zerolinecolor": "white"
           },
           "zaxis": {
            "backgroundcolor": "#E5ECF6",
            "gridcolor": "white",
            "gridwidth": 2,
            "linecolor": "white",
            "showbackground": true,
            "ticks": "",
            "zerolinecolor": "white"
           }
          },
          "shapedefaults": {
           "line": {
            "color": "#2a3f5f"
           }
          },
          "ternary": {
           "aaxis": {
            "gridcolor": "white",
            "linecolor": "white",
            "ticks": ""
           },
           "baxis": {
            "gridcolor": "white",
            "linecolor": "white",
            "ticks": ""
           },
           "bgcolor": "#E5ECF6",
           "caxis": {
            "gridcolor": "white",
            "linecolor": "white",
            "ticks": ""
           }
          },
          "title": {
           "x": 0.05
          },
          "xaxis": {
           "automargin": true,
           "gridcolor": "white",
           "linecolor": "white",
           "ticks": "",
           "title": {
            "standoff": 15
           },
           "zerolinecolor": "white",
           "zerolinewidth": 2
          },
          "yaxis": {
           "automargin": true,
           "gridcolor": "white",
           "linecolor": "white",
           "ticks": "",
           "title": {
            "standoff": 15
           },
           "zerolinecolor": "white",
           "zerolinewidth": 2
          }
         }
        },
        "title": {
         "text": "Nuclear/Military Facilities<br>(Hover for facility names)"
        }
       }
      },
      "text/html": [
       "<div>\n",
       "        \n",
       "        \n",
       "            <div id=\"bcddc1b6-0018-49f9-8161-70863eb3459c\" class=\"plotly-graph-div\" style=\"height:525px; width:100%;\"></div>\n",
       "            <script type=\"text/javascript\">\n",
       "                require([\"plotly\"], function(Plotly) {\n",
       "                    window.PLOTLYENV=window.PLOTLYENV || {};\n",
       "                    \n",
       "                if (document.getElementById(\"bcddc1b6-0018-49f9-8161-70863eb3459c\")) {\n",
       "                    Plotly.newPlot(\n",
       "                        'bcddc1b6-0018-49f9-8161-70863eb3459c',\n",
       "                        [{\"lat\": [35.31028, 40.62333, 41.24361, 34.70389, 33.95833, 42.07417, 38.76167, 38.43194, 35.05167, 40.17222, 46.47111, 32.29833, 35.21083, 41.97528, 41.38972, 31.93417, 41.96278, 32.00667, 39.46778, 41.26972, 31.22306, 41.24556, 40.22667, 35.4325, 41.31194, 43.52083, 38.06056, 34.79389, 33.38917, 39.75833, 41.80083, 44.28111, 44.62167, 41.72639, 27.34861, 39.46278, 42.89889, 35.22639, 28.79556, 37.16556, 41.08889, 25.43417, 33.14306, 29.99528, 35.60278, 38.23889, 38.805160992, 32.9631678645, 13.5179166878, 13.5867134229, 38.8786170847, 13.4278588719, 21.3746865923, 29.6910786199, 61.2656742432, 21.362027986, 13.3903252494, 40.0272402409, 21.410607918, 13.4330070192, 33.2559394983, 13.3594231481, 45.8426458324, 13.5220280334, 13.3879020314, 29.5647013816, 38.8401895206, 32.89932731, 40.0037170669, 29.4595258058, 37.8861451188, 13.5080446348, 29.8854754904, 13.5359727178, 29.3867060451, 13.583614406, 29.3801366468, 62.4083568593, 13.4730061778, 13.4890012861, 13.5410854996, 29.5303762915, 13.4026373686, 21.3462680726, 13.5893279313, 33.6025364855, 13.5097297889, 13.3106836687, 37.1322673005, 13.5394258403, 36.9168246358, 21.5204387954, 13.4739477757, 13.5499832873, 38.8671764618, 40.0256304054, 13.4564304638, 21.4378727957, 21.336498902, 13.4489092377, 29.3687557016, 61.2697996076, 29.3820164194, 36.9229428421, 21.3388774553, 13.4658653627, 32.9127968937, 13.4768461585], \"lon\": [-93.23139, -80.43056, -88.22917, -87.11861, -78.01028, -89.28194, -91.78, -76.44222, -81.07, -88.835, -119.33389, -97.785, -120.85611, -86.56583, -88.26806, -82.34389, -83.2575, -91.04833, -75.53806, -73.95222, -85.11167, -88.66917, -75.58722, -80.94833, -72.16861, -76.40694, -77.78944, -82.89806, -112.865, -76.26806, -81.14333, -87.53667, -92.63306, -90.31, -80.24639, -75.53556, -70.85083, -85.09167, -96.04889, -76.69778, -76.14889, -80.33056, -81.76583, -90.47111, -84.78944, -95.68889, -76.8744374247, -79.9639295206, 144.811096965, 144.862326053, -77.075713083, 144.651814532, -157.939587718, -98.5616635721, -149.641106773, -157.988000463, 144.686287701, -74.3754113769, -158.019802232, 144.687506251, -79.9888973082, 144.692255013, -119.437655687, 144.815371267, 144.685184507, -97.9056493053, -77.0167536449, -80.0504311436, -74.5240459967, -98.4407060608, -75.468637957, 144.865813247, -98.2185402692, 144.914815476, -98.6180830931, 144.844294742, -98.5854145343, -145.155004797, 144.764834584, 144.86534429, 144.807899021, -98.2796904632, 144.682244687, -157.922035172, 144.90886267, -81.0785389953, 144.809944738, 144.736799462, -76.5889077607, 144.914764712, -76.1618684951, -158.005637827, 144.740245884, 144.830853076, -77.0164788795, -74.5803176353, 144.812532772, -158.006162668, -157.947890984, 144.699602417, -98.6650122626, -149.811187588, -98.5645369806, -76.0177892175, -157.995142257, 144.723191439, -79.9832675725, 144.829098042], \"marker\": {\"color\": [\"#ff0000\", \"#ff0000\", \"#ff0000\", \"#ff0000\", \"#ff0000\", \"#ff0000\", \"#ff0000\", \"#ff0000\", \"#ff0000\", \"#ff0000\", \"#ff0000\", \"#ff0000\", \"#ff0000\", \"#ff0000\", \"#ff0000\", \"#ff0000\", \"#ff0000\", \"#ff0000\", \"#ff0000\", \"#ff0000\", \"#ff0000\", \"#ff0000\", \"#ff0000\", \"#ff0000\", \"#ff0000\", \"#ff0000\", \"#ff0000\", \"#ff0000\", \"#ff0000\", \"#ff0000\", \"#ff0000\", \"#ff0000\", \"#ff0000\", \"#ff0000\", \"#ff0000\", \"#ff0000\", \"#ff0000\", \"#ff0000\", \"#ff0000\", \"#ff0000\", \"#ff0000\", \"#ff0000\", \"#ff0000\", \"#ff0000\", \"#ff0000\", \"#ff0000\", \"#636EFA\", \"#636EFA\", \"#636EFA\", \"#636EFA\", \"#636EFA\", \"#636EFA\", \"#636EFA\", \"#636EFA\", \"#636EFA\", \"#636EFA\", \"#636EFA\", \"#636EFA\", \"#636EFA\", \"#636EFA\", \"#636EFA\", \"#636EFA\", \"#636EFA\", \"#636EFA\", \"#636EFA\", \"#636EFA\", \"#636EFA\", \"#636EFA\", \"#636EFA\", \"#636EFA\", \"#636EFA\", \"#636EFA\", \"#636EFA\", \"#636EFA\", \"#636EFA\", \"#636EFA\", \"#636EFA\", \"#636EFA\", \"#636EFA\", \"#636EFA\", \"#636EFA\", \"#636EFA\", \"#636EFA\", \"#636EFA\", \"#636EFA\", \"#636EFA\", \"#636EFA\", \"#636EFA\", \"#636EFA\", \"#636EFA\", \"#636EFA\", \"#636EFA\", \"#636EFA\", \"#636EFA\", \"#636EFA\", \"#636EFA\", \"#636EFA\", \"#636EFA\", \"#636EFA\", \"#636EFA\", \"#636EFA\", \"#636EFA\", \"#636EFA\", \"#636EFA\", \"#636EFA\", \"#636EFA\", \"#636EFA\", \"#636EFA\"]}, \"mode\": \"markers\", \"text\": [\"Nuclear Site : ANO\", \"Nuclear Site : Beaver Valley\", \"Nuclear Site : Braidwood\", \"Nuclear Site : Browns Ferry\", \"Nuclear Site : Brunswick\", \"Nuclear Site : Byron\", \"Nuclear Site : Callaway\", \"Nuclear Site : Calvert Cliffs\", \"Nuclear Site : Catawba\", \"Nuclear Site : Clinton\", \"Nuclear Site : Columbia\", \"Nuclear Site : Comanche Peak\", \"Nuclear Site : Diablo Canyon\", \"Nuclear Site : Donald C. Cook\", \"Nuclear Site : Dresden\", \"Nuclear Site : Edwin I. Hatch\", \"Nuclear Site : Fermi\", \"Nuclear Site : Grand Gulf\", \"Nuclear Site : Hope Creek\", \"Nuclear Site : Indian Point\", \"Nuclear Site : Joseph M. Farley\", \"Nuclear Site : LaSalle\", \"Nuclear Site : Limerick\", \"Nuclear Site : McGuire\", \"Nuclear Site : Millstone\", \"Nuclear Site : Nine Mile Point\", \"Nuclear Site : North Anna\", \"Nuclear Site : Oconee\", \"Nuclear Site : Palo Verde\", \"Nuclear Site : Peach Bottom\", \"Nuclear Site : Perry\", \"Nuclear Site : Point Beach\", \"Nuclear Site : Prairie Island\", \"Nuclear Site : Quad Cities\", \"Nuclear Site : Saint Lucie\", \"Nuclear Site : Salem\", \"Nuclear Site : Seabrook\", \"Nuclear Site : Sequoyah\", \"Nuclear Site : South Texas\", \"Nuclear Site : Surry\", \"Nuclear Site : Susquehanna\", \"Nuclear Site : Turkey Point\", \"Nuclear Site : Vogtle\", \"Nuclear Site : Waterford\", \"Nuclear Site : Watts Bar\", \"Nuclear Site : Wolf Creek\", \"Military Base : Andrews AFB\", \"Military Base : NWS Charleston\", \"Military Base : Tumon Tank Farm\", \"Military Base : Potts Tank Farm\", \"Military Base : Fort Myer\", \"Military Base : NAVBASE Guam\", \"Military Base : Aiea\", \"Military Base : Camp Bullis\", \"Military Base : Fort Richardson\", \"Military Base : Waipahu\", \"Military Base : NAVBASE Guam Magazine Reservoir, Naval Magazine\", \"Military Base : Lakehurst\", \"Military Base : Waikele\", \"Military Base : Tenjo Vista\", \"Military Base : NWS Charleston Short Stay\", \"Military Base : NAVBASE Guam Naval Magazine\", \"Military Base : Umatilla Chem Depot\", \"Military Base : NAVBASE Guam Harmon\", \"Military Base : NAVBASE Guam, Naval Magazine\", \"Military Base : Seguin Air Force Auxiliary Field\", \"Military Base : JBAB Anacostia Bolling\", \"Military Base : Charleston AFB\", \"Military Base : Dix\", \"Military Base : Fort Sam Houston\", \"Military Base : Wallops Island\", \"Military Base : Andy South\", \"Military Base : Canyon Lake Recreation Annex\", \"Military Base : Santa Rosa Parcel B\", \"Military Base : Lackland AFB\", \"Military Base : NAVBASE Guam Finegayan\", \"Military Base : Kelly Field Annex\", \"Military Base : Haarp Research Station\", \"Military Base : Agana\", \"Military Base : NAVBASE Guam Marbo\", \"Military Base : Tanguisson Point\", \"Military Base : Randolph AFB\", \"Military Base : NAVBASE Guam Apra Heights\", \"Military Base : Honolulu\", \"Military Base : NSA Andersen\", \"Military Base : North Air Force Auxiliary Field\", \"Military Base : Tumon\", \"Military Base : Dandan\", \"Military Base : Fort Eustis\", \"Military Base : Santa Rosa Parcel A\", \"Military Base : JNTEXPBASE Little Creek FS VA\", \"Military Base : Wahiawa\", \"Military Base : Naval Hospital\", \"Military Base : NAVBASE Guam Finegayan, South\", \"Military Base : Fort Lesley J McNair\", \"Military Base : McGuire\", \"Military Base : Barrigada\", \"Military Base : Hickam Petrol Strg Ann\", \"Military Base : JBPHH Pearl Harbor  HI\", \"Military Base : Sasa Valley\", \"Military Base : JBSA-Medina Annex\", \"Military Base : Elmendorf AFB\", \"Military Base : JBSA-Port Annex\", \"Military Base : JEBLCFS East\", \"Military Base : Ewa\", \"Military Base : Nimitz Hill\", \"Military Base : Charleston Defense Fuel Support Point\", \"Military Base : NAVBASE Guam Barrigada\"], \"type\": \"scattergeo\"}],\n",
       "                        {\"geo\": {\"scope\": \"usa\"}, \"template\": {\"data\": {\"bar\": [{\"error_x\": {\"color\": \"#2a3f5f\"}, \"error_y\": {\"color\": \"#2a3f5f\"}, \"marker\": {\"line\": {\"color\": \"#E5ECF6\", \"width\": 0.5}}, \"type\": \"bar\"}], \"barpolar\": [{\"marker\": {\"line\": {\"color\": \"#E5ECF6\", \"width\": 0.5}}, \"type\": \"barpolar\"}], \"carpet\": [{\"aaxis\": {\"endlinecolor\": \"#2a3f5f\", \"gridcolor\": \"white\", \"linecolor\": \"white\", \"minorgridcolor\": \"white\", \"startlinecolor\": \"#2a3f5f\"}, \"baxis\": {\"endlinecolor\": \"#2a3f5f\", \"gridcolor\": \"white\", \"linecolor\": \"white\", \"minorgridcolor\": \"white\", \"startlinecolor\": \"#2a3f5f\"}, \"type\": \"carpet\"}], \"choropleth\": [{\"colorbar\": {\"outlinewidth\": 0, \"ticks\": \"\"}, \"type\": \"choropleth\"}], \"contour\": [{\"colorbar\": {\"outlinewidth\": 0, \"ticks\": \"\"}, \"colorscale\": [[0.0, \"#0d0887\"], [0.1111111111111111, \"#46039f\"], [0.2222222222222222, \"#7201a8\"], [0.3333333333333333, \"#9c179e\"], [0.4444444444444444, \"#bd3786\"], [0.5555555555555556, \"#d8576b\"], [0.6666666666666666, \"#ed7953\"], [0.7777777777777778, \"#fb9f3a\"], [0.8888888888888888, \"#fdca26\"], [1.0, \"#f0f921\"]], \"type\": \"contour\"}], \"contourcarpet\": [{\"colorbar\": {\"outlinewidth\": 0, \"ticks\": \"\"}, \"type\": \"contourcarpet\"}], \"heatmap\": [{\"colorbar\": {\"outlinewidth\": 0, \"ticks\": \"\"}, \"colorscale\": [[0.0, \"#0d0887\"], [0.1111111111111111, \"#46039f\"], [0.2222222222222222, \"#7201a8\"], [0.3333333333333333, \"#9c179e\"], [0.4444444444444444, \"#bd3786\"], [0.5555555555555556, \"#d8576b\"], [0.6666666666666666, \"#ed7953\"], [0.7777777777777778, \"#fb9f3a\"], [0.8888888888888888, \"#fdca26\"], [1.0, \"#f0f921\"]], \"type\": \"heatmap\"}], \"heatmapgl\": [{\"colorbar\": {\"outlinewidth\": 0, \"ticks\": \"\"}, \"colorscale\": [[0.0, \"#0d0887\"], [0.1111111111111111, \"#46039f\"], [0.2222222222222222, \"#7201a8\"], [0.3333333333333333, \"#9c179e\"], [0.4444444444444444, \"#bd3786\"], [0.5555555555555556, \"#d8576b\"], [0.6666666666666666, \"#ed7953\"], [0.7777777777777778, \"#fb9f3a\"], [0.8888888888888888, \"#fdca26\"], [1.0, \"#f0f921\"]], \"type\": \"heatmapgl\"}], \"histogram\": [{\"marker\": {\"colorbar\": {\"outlinewidth\": 0, \"ticks\": \"\"}}, \"type\": \"histogram\"}], \"histogram2d\": [{\"colorbar\": {\"outlinewidth\": 0, \"ticks\": \"\"}, \"colorscale\": [[0.0, \"#0d0887\"], [0.1111111111111111, \"#46039f\"], [0.2222222222222222, \"#7201a8\"], [0.3333333333333333, \"#9c179e\"], [0.4444444444444444, \"#bd3786\"], [0.5555555555555556, \"#d8576b\"], [0.6666666666666666, \"#ed7953\"], [0.7777777777777778, \"#fb9f3a\"], [0.8888888888888888, \"#fdca26\"], [1.0, \"#f0f921\"]], \"type\": \"histogram2d\"}], \"histogram2dcontour\": [{\"colorbar\": {\"outlinewidth\": 0, \"ticks\": \"\"}, \"colorscale\": [[0.0, \"#0d0887\"], [0.1111111111111111, \"#46039f\"], [0.2222222222222222, \"#7201a8\"], [0.3333333333333333, \"#9c179e\"], [0.4444444444444444, \"#bd3786\"], [0.5555555555555556, \"#d8576b\"], [0.6666666666666666, \"#ed7953\"], [0.7777777777777778, \"#fb9f3a\"], [0.8888888888888888, \"#fdca26\"], [1.0, \"#f0f921\"]], \"type\": \"histogram2dcontour\"}], \"mesh3d\": [{\"colorbar\": {\"outlinewidth\": 0, \"ticks\": \"\"}, \"type\": \"mesh3d\"}], \"parcoords\": [{\"line\": {\"colorbar\": {\"outlinewidth\": 0, \"ticks\": \"\"}}, \"type\": \"parcoords\"}], \"pie\": [{\"automargin\": true, \"type\": \"pie\"}], \"scatter\": [{\"marker\": {\"colorbar\": {\"outlinewidth\": 0, \"ticks\": \"\"}}, \"type\": \"scatter\"}], \"scatter3d\": [{\"line\": {\"colorbar\": {\"outlinewidth\": 0, \"ticks\": \"\"}}, \"marker\": {\"colorbar\": {\"outlinewidth\": 0, \"ticks\": \"\"}}, \"type\": \"scatter3d\"}], \"scattercarpet\": [{\"marker\": {\"colorbar\": {\"outlinewidth\": 0, \"ticks\": \"\"}}, \"type\": \"scattercarpet\"}], \"scattergeo\": [{\"marker\": {\"colorbar\": {\"outlinewidth\": 0, \"ticks\": \"\"}}, \"type\": \"scattergeo\"}], \"scattergl\": [{\"marker\": {\"colorbar\": {\"outlinewidth\": 0, \"ticks\": \"\"}}, \"type\": \"scattergl\"}], \"scattermapbox\": [{\"marker\": {\"colorbar\": {\"outlinewidth\": 0, \"ticks\": \"\"}}, \"type\": \"scattermapbox\"}], \"scatterpolar\": [{\"marker\": {\"colorbar\": {\"outlinewidth\": 0, \"ticks\": \"\"}}, \"type\": \"scatterpolar\"}], \"scatterpolargl\": [{\"marker\": {\"colorbar\": {\"outlinewidth\": 0, \"ticks\": \"\"}}, \"type\": \"scatterpolargl\"}], \"scatterternary\": [{\"marker\": {\"colorbar\": {\"outlinewidth\": 0, \"ticks\": \"\"}}, \"type\": \"scatterternary\"}], \"surface\": [{\"colorbar\": {\"outlinewidth\": 0, \"ticks\": \"\"}, \"colorscale\": [[0.0, \"#0d0887\"], [0.1111111111111111, \"#46039f\"], [0.2222222222222222, \"#7201a8\"], [0.3333333333333333, \"#9c179e\"], [0.4444444444444444, \"#bd3786\"], [0.5555555555555556, \"#d8576b\"], [0.6666666666666666, \"#ed7953\"], [0.7777777777777778, \"#fb9f3a\"], [0.8888888888888888, \"#fdca26\"], [1.0, \"#f0f921\"]], \"type\": \"surface\"}], \"table\": [{\"cells\": {\"fill\": {\"color\": \"#EBF0F8\"}, \"line\": {\"color\": \"white\"}}, \"header\": {\"fill\": {\"color\": \"#C8D4E3\"}, \"line\": {\"color\": \"white\"}}, \"type\": \"table\"}]}, \"layout\": {\"annotationdefaults\": {\"arrowcolor\": \"#2a3f5f\", \"arrowhead\": 0, \"arrowwidth\": 1}, \"coloraxis\": {\"colorbar\": {\"outlinewidth\": 0, \"ticks\": \"\"}}, \"colorscale\": {\"diverging\": [[0, \"#8e0152\"], [0.1, \"#c51b7d\"], [0.2, \"#de77ae\"], [0.3, \"#f1b6da\"], [0.4, \"#fde0ef\"], [0.5, \"#f7f7f7\"], [0.6, \"#e6f5d0\"], [0.7, \"#b8e186\"], [0.8, \"#7fbc41\"], [0.9, \"#4d9221\"], [1, \"#276419\"]], \"sequential\": [[0.0, \"#0d0887\"], [0.1111111111111111, \"#46039f\"], [0.2222222222222222, \"#7201a8\"], [0.3333333333333333, \"#9c179e\"], [0.4444444444444444, \"#bd3786\"], [0.5555555555555556, \"#d8576b\"], [0.6666666666666666, \"#ed7953\"], [0.7777777777777778, \"#fb9f3a\"], [0.8888888888888888, \"#fdca26\"], [1.0, \"#f0f921\"]], \"sequentialminus\": [[0.0, \"#0d0887\"], [0.1111111111111111, \"#46039f\"], [0.2222222222222222, \"#7201a8\"], [0.3333333333333333, \"#9c179e\"], [0.4444444444444444, \"#bd3786\"], [0.5555555555555556, \"#d8576b\"], [0.6666666666666666, \"#ed7953\"], [0.7777777777777778, \"#fb9f3a\"], [0.8888888888888888, \"#fdca26\"], [1.0, \"#f0f921\"]]}, \"colorway\": [\"#636efa\", \"#EF553B\", \"#00cc96\", \"#ab63fa\", \"#FFA15A\", \"#19d3f3\", \"#FF6692\", \"#B6E880\", \"#FF97FF\", \"#FECB52\"], \"font\": {\"color\": \"#2a3f5f\"}, \"geo\": {\"bgcolor\": \"white\", \"lakecolor\": \"white\", \"landcolor\": \"#E5ECF6\", \"showlakes\": true, \"showland\": true, \"subunitcolor\": \"white\"}, \"hoverlabel\": {\"align\": \"left\"}, \"hovermode\": \"closest\", \"mapbox\": {\"style\": \"light\"}, \"paper_bgcolor\": \"white\", \"plot_bgcolor\": \"#E5ECF6\", \"polar\": {\"angularaxis\": {\"gridcolor\": \"white\", \"linecolor\": \"white\", \"ticks\": \"\"}, \"bgcolor\": \"#E5ECF6\", \"radialaxis\": {\"gridcolor\": \"white\", \"linecolor\": \"white\", \"ticks\": \"\"}}, \"scene\": {\"xaxis\": {\"backgroundcolor\": \"#E5ECF6\", \"gridcolor\": \"white\", \"gridwidth\": 2, \"linecolor\": \"white\", \"showbackground\": true, \"ticks\": \"\", \"zerolinecolor\": \"white\"}, \"yaxis\": {\"backgroundcolor\": \"#E5ECF6\", \"gridcolor\": \"white\", \"gridwidth\": 2, \"linecolor\": \"white\", \"showbackground\": true, \"ticks\": \"\", \"zerolinecolor\": \"white\"}, \"zaxis\": {\"backgroundcolor\": \"#E5ECF6\", \"gridcolor\": \"white\", \"gridwidth\": 2, \"linecolor\": \"white\", \"showbackground\": true, \"ticks\": \"\", \"zerolinecolor\": \"white\"}}, \"shapedefaults\": {\"line\": {\"color\": \"#2a3f5f\"}}, \"ternary\": {\"aaxis\": {\"gridcolor\": \"white\", \"linecolor\": \"white\", \"ticks\": \"\"}, \"baxis\": {\"gridcolor\": \"white\", \"linecolor\": \"white\", \"ticks\": \"\"}, \"bgcolor\": \"#E5ECF6\", \"caxis\": {\"gridcolor\": \"white\", \"linecolor\": \"white\", \"ticks\": \"\"}}, \"title\": {\"x\": 0.05}, \"xaxis\": {\"automargin\": true, \"gridcolor\": \"white\", \"linecolor\": \"white\", \"ticks\": \"\", \"title\": {\"standoff\": 15}, \"zerolinecolor\": \"white\", \"zerolinewidth\": 2}, \"yaxis\": {\"automargin\": true, \"gridcolor\": \"white\", \"linecolor\": \"white\", \"ticks\": \"\", \"title\": {\"standoff\": 15}, \"zerolinecolor\": \"white\", \"zerolinewidth\": 2}}}, \"title\": {\"text\": \"Nuclear/Military Facilities<br>(Hover for facility names)\"}},\n",
       "                        {\"responsive\": true}\n",
       "                    ).then(function(){\n",
       "                            \n",
       "var gd = document.getElementById('bcddc1b6-0018-49f9-8161-70863eb3459c');\n",
       "var x = new MutationObserver(function (mutations, observer) {{\n",
       "        var display = window.getComputedStyle(gd).display;\n",
       "        if (!display || display === 'none') {{\n",
       "            console.log([gd, 'removed!']);\n",
       "            Plotly.purge(gd);\n",
       "            observer.disconnect();\n",
       "        }}\n",
       "}});\n",
       "\n",
       "// Listen for the removal of the full notebook cells\n",
       "var notebookContainer = gd.closest('#notebook-container');\n",
       "if (notebookContainer) {{\n",
       "    x.observe(notebookContainer, {childList: true});\n",
       "}}\n",
       "\n",
       "// Listen for the clearing of the current output cell\n",
       "var outputEl = gd.closest('.output');\n",
       "if (outputEl) {{\n",
       "    x.observe(outputEl, {childList: true});\n",
       "}}\n",
       "\n",
       "                        })\n",
       "                };\n",
       "                });\n",
       "            </script>\n",
       "        </div>"
      ]
     },
     "metadata": {},
     "output_type": "display_data"
    }
   ],
   "source": [
    "import plotly.graph_objects as go\n",
    "\n",
    "import pandas as pd\n",
    "\n",
    "# df = pd.read_csv('https://raw.githubusercontent.com/plotly/datasets/master/2011_february_us_airport_traffic.csv')\n",
    "# df['text'] = df['airport'] + '' + df['city'] + ', ' + df['state'] + '' + 'Arrivals: ' + df['cnt'].astype(str)\n",
    "\n",
    "fig = go.Figure(data=go.Scattergeo(\n",
    "        lon = sites['Long'],\n",
    "        lat = sites['Lat'],\n",
    "        text = sites['text'],\n",
    "        mode = 'markers',\n",
    "        marker_color = sites['Color'],\n",
    "        ))\n",
    "\n",
    "fig.update_layout(\n",
    "        title = 'Nuclear/Military Facilities<br>(Hover for facility names)',\n",
    "        geo_scope='usa',\n",
    "    )\n",
    "fig.show()"
   ]
  },
  {
   "cell_type": "code",
   "execution_count": 80,
   "metadata": {},
   "outputs": [
    {
     "data": {
      "text/html": [
       "<div>\n",
       "<style scoped>\n",
       "    .dataframe tbody tr th:only-of-type {\n",
       "        vertical-align: middle;\n",
       "    }\n",
       "\n",
       "    .dataframe tbody tr th {\n",
       "        vertical-align: top;\n",
       "    }\n",
       "\n",
       "    .dataframe thead th {\n",
       "        text-align: right;\n",
       "    }\n",
       "</style>\n",
       "<table border=\"1\" class=\"dataframe\">\n",
       "  <thead>\n",
       "    <tr style=\"text-align: right;\">\n",
       "      <th></th>\n",
       "      <th>iata</th>\n",
       "      <th>airport</th>\n",
       "      <th>city</th>\n",
       "      <th>state</th>\n",
       "      <th>country</th>\n",
       "      <th>lat</th>\n",
       "      <th>long</th>\n",
       "      <th>cnt</th>\n",
       "      <th>text</th>\n",
       "    </tr>\n",
       "  </thead>\n",
       "  <tbody>\n",
       "    <tr>\n",
       "      <th>0</th>\n",
       "      <td>ORD</td>\n",
       "      <td>Chicago O'Hare International</td>\n",
       "      <td>Chicago</td>\n",
       "      <td>IL</td>\n",
       "      <td>USA</td>\n",
       "      <td>41.979595</td>\n",
       "      <td>-87.904464</td>\n",
       "      <td>25129</td>\n",
       "      <td>Chicago O'Hare InternationalChicago, ILArrival...</td>\n",
       "    </tr>\n",
       "    <tr>\n",
       "      <th>1</th>\n",
       "      <td>ATL</td>\n",
       "      <td>William B Hartsfield-Atlanta Intl</td>\n",
       "      <td>Atlanta</td>\n",
       "      <td>GA</td>\n",
       "      <td>USA</td>\n",
       "      <td>33.640444</td>\n",
       "      <td>-84.426944</td>\n",
       "      <td>21925</td>\n",
       "      <td>William B Hartsfield-Atlanta IntlAtlanta, GAAr...</td>\n",
       "    </tr>\n",
       "    <tr>\n",
       "      <th>2</th>\n",
       "      <td>DFW</td>\n",
       "      <td>Dallas-Fort Worth International</td>\n",
       "      <td>Dallas-Fort Worth</td>\n",
       "      <td>TX</td>\n",
       "      <td>USA</td>\n",
       "      <td>32.895951</td>\n",
       "      <td>-97.037200</td>\n",
       "      <td>20662</td>\n",
       "      <td>Dallas-Fort Worth InternationalDallas-Fort Wor...</td>\n",
       "    </tr>\n",
       "    <tr>\n",
       "      <th>3</th>\n",
       "      <td>PHX</td>\n",
       "      <td>Phoenix Sky Harbor International</td>\n",
       "      <td>Phoenix</td>\n",
       "      <td>AZ</td>\n",
       "      <td>USA</td>\n",
       "      <td>33.434167</td>\n",
       "      <td>-112.008056</td>\n",
       "      <td>17290</td>\n",
       "      <td>Phoenix Sky Harbor InternationalPhoenix, AZArr...</td>\n",
       "    </tr>\n",
       "    <tr>\n",
       "      <th>4</th>\n",
       "      <td>DEN</td>\n",
       "      <td>Denver Intl</td>\n",
       "      <td>Denver</td>\n",
       "      <td>CO</td>\n",
       "      <td>USA</td>\n",
       "      <td>39.858408</td>\n",
       "      <td>-104.667002</td>\n",
       "      <td>13781</td>\n",
       "      <td>Denver IntlDenver, COArrivals: 13781</td>\n",
       "    </tr>\n",
       "  </tbody>\n",
       "</table>\n",
       "</div>"
      ],
      "text/plain": [
       "  iata                            airport               city state country  \\\n",
       "0  ORD       Chicago O'Hare International            Chicago    IL     USA   \n",
       "1  ATL  William B Hartsfield-Atlanta Intl            Atlanta    GA     USA   \n",
       "2  DFW    Dallas-Fort Worth International  Dallas-Fort Worth    TX     USA   \n",
       "3  PHX   Phoenix Sky Harbor International            Phoenix    AZ     USA   \n",
       "4  DEN                        Denver Intl             Denver    CO     USA   \n",
       "\n",
       "         lat        long    cnt  \\\n",
       "0  41.979595  -87.904464  25129   \n",
       "1  33.640444  -84.426944  21925   \n",
       "2  32.895951  -97.037200  20662   \n",
       "3  33.434167 -112.008056  17290   \n",
       "4  39.858408 -104.667002  13781   \n",
       "\n",
       "                                                text  \n",
       "0  Chicago O'Hare InternationalChicago, ILArrival...  \n",
       "1  William B Hartsfield-Atlanta IntlAtlanta, GAAr...  \n",
       "2  Dallas-Fort Worth InternationalDallas-Fort Wor...  \n",
       "3  Phoenix Sky Harbor InternationalPhoenix, AZArr...  \n",
       "4               Denver IntlDenver, COArrivals: 13781  "
      ]
     },
     "execution_count": 80,
     "metadata": {},
     "output_type": "execute_result"
    }
   ],
   "source": [
    "df.head()"
   ]
  },
  {
   "cell_type": "code",
   "execution_count": 190,
   "metadata": {},
   "outputs": [],
   "source": [
    "df = pd.read_csv('https://raw.githubusercontent.com/plotly/datasets/master/2011_february_us_airport_traffic.csv')\n",
    "df['text'] = df['airport'] + '' + df['city'] + ', ' + df['state'] + '' + 'Arrivals: ' + df['cnt'].astype(str)"
   ]
  },
  {
   "cell_type": "code",
   "execution_count": 191,
   "metadata": {},
   "outputs": [
    {
     "name": "stdout",
     "output_type": "stream",
     "text": [
      "<class 'pandas.core.frame.DataFrame'>\n",
      "RangeIndex: 221 entries, 0 to 220\n",
      "Data columns (total 9 columns):\n",
      "iata       221 non-null object\n",
      "airport    221 non-null object\n",
      "city       220 non-null object\n",
      "state      220 non-null object\n",
      "country    221 non-null object\n",
      "lat        221 non-null float64\n",
      "long       221 non-null float64\n",
      "cnt        221 non-null int64\n",
      "text       220 non-null object\n",
      "dtypes: float64(2), int64(1), object(6)\n",
      "memory usage: 15.7+ KB\n"
     ]
    }
   ],
   "source": [
    "df.info()"
   ]
  },
  {
   "cell_type": "code",
   "execution_count": 206,
   "metadata": {},
   "outputs": [
    {
     "data": {
      "application/vnd.plotly.v1+json": {
       "config": {
        "plotlyServerURL": "https://plot.ly"
       },
       "data": [
        {
         "lat": [
          41.979595,
          33.64044444,
          32.89595056,
          33.43416667,
          39.85840806,
          29.98047222,
          37.61900194,
          33.94253611,
          28.42888889,
          35.21401111,
          40.78838778,
          27.97547222,
          40.69249722,
          36.08036111,
          39.87195278,
          44.88054694,
          47.44898194,
          40.77724306,
          41.7859825,
          38.94453194,
          32.73355611,
          38.74768694,
          42.21205889,
          40.63975111,
          25.79325,
          42.3643475,
          38.69542167,
          39.17540167,
          33.67565861,
          29.99338889,
          37.36186194,
          38.85208333,
          45.58872222,
          26.53616667,
          26.68316194,
          35.87763889,
          29.64541861,
          29.53369444,
          26.07258333,
          39.29760528,
          37.72129083,
          40.49146583,
          35.04241667,
          42.94722222,
          41.41089417,
          30.49405556,
          32.11608333,
          39.71732917,
          39.49857611,
          35.39308833,
          41.72399917,
          36.19837222,
          39.04614278,
          39.99798528,
          38.17438889,
          34.056,
          34.72939611,
          32.84711389,
          41.30251861,
          36.89461111,
          39.90237583,
          43.11886611,
          36.28186944,
          36.12447667,
          35.04022222,
          32.31116667,
          31.80666667,
          37.50516667,
          41.93887417,
          31.94252778,
          30.53316083,
          35.81248722,
          38.80580556,
          30.47330556,
          43.11118694,
          33.56294306,
          42.93451639,
          33.82921556,
          27.39533333,
          27.77036083,
          34.6404475,
          33.93884,
          30.20527972,
          34.42621194,
          47.61985556,
          30.69141667,
          37.64995889,
          42.94052472,
          41.53493306,
          40.19349528,
          43.64616667,
          32.30064417,
          37.13189556,
          41.06695778,
          36.5869825,
          42.88081972,
          30.448674,
          32.65658333,
          39.22316,
          30.39652778,
          30.40728028,
          44.04532139,
          33.81772222,
          34.27061111,
          38.03697222,
          43.13985778,
          44.123259999999995,
          32.12758333,
          33.66363889,
          41.88458833,
          34.89566722,
          36.09774694,
          40.7952425,
          41.44852639,
          35.43619444,
          40.91631194,
          40.47798556,
          26.22850611,
          30.48325,
          32.446627500000005,
          46.91934889,
          40.48118028,
          42.37422778,
          40.66424333,
          27.54373861,
          30.19453278,
          32.41132,
          37.24432611,
          42.96550333,
          36.47521417,
          31.06489778,
          32.89864639,
          44.48507333,
          44.25406722,
          32.51633333,
          41.70895361,
          43.56444444,
          33.67975,
          48.25937778,
          40.03925,
          37.32546833,
          39.64256778,
          43.60732417,
          45.77690139,
          39.1224125,
          34.20061917,
          38.03799139,
          38.53396333,
          43.51455556,
          36.77619444,
          39.84395194,
          26.17583333,
          40.50898361,
          47.949255,
          43.58135111,
          42.48180389,
          34.89924833,
          42.91130556,
          31.32133917,
          34.82916444,
          38.50886722,
          46.77411111,
          42.90835556,
          44.74144472,
          32.51086556,
          46.26468028,
          39.14096722,
          31.32737167,
          43.41713889,
          35.61677778,
          42.15614361,
          41.50409361,
          38.13863889,
          30.7825,
          44.77761917,
          35.65884306,
          40.97811528,
          31.25902778,
          40.85097222,
          40.97846583,
          44.52019417,
          37.06083333,
          35.23705806,
          41.33814944,
          33.45033444,
          44.34889806,
          35.07297222,
          33.369955,
          35.33659028,
          32.35413889,
          46.60681806,
          47.48200194,
          32.33313333,
          46.353639,
          37.95375861,
          35.03526833,
          46.37449806,
          37.70097028,
          42.74811944,
          44.47300361,
          48.31140472,
          28.10275,
          29.17991667,
          40.65236278,
          46.84209028,
          41.155722499999996,
          41.5942175,
          37.85830556,
          38.37315083,
          48.79275,
          37.62404861,
          44.25740806,
          36.385913,
          27.91076333,
          33.98879611,
          34.99147222,
          44.86525722,
          42.40295944,
          43.90882639,
          34.681499,
          45.8076625
         ],
         "lon": [
          -87.90446417,
          -84.42694444,
          -97.0372,
          -112.00805559999999,
          -104.6670019,
          -95.33972222,
          -122.3748433,
          -118.40807439999999,
          -81.31602778,
          -80.94312583,
          -111.9777731,
          -82.53325,
          -74.16866056,
          -115.15233329999998,
          -75.24114083,
          -93.2169225,
          -122.30931310000001,
          -73.87260917,
          -87.75242444,
          -77.45580972,
          -117.1896567,
          -90.35998972,
          -83.34883583,
          -73.77892556,
          -80.29055556,
          -71.00517917,
          -121.5907669,
          -76.66819833,
          -117.86822250000002,
          -90.25802778,
          -121.92900890000001,
          -77.03772222,
          -122.5975,
          -81.75516667,
          -80.09559417,
          -78.78747222,
          -95.27888889,
          -98.46977778,
          -80.15275,
          -94.71390556,
          -122.22071670000001,
          -80.23287083,
          -89.97666667,
          -87.89658333,
          -81.84939667,
          -81.68786111,
          -110.94102779999999,
          -86.29438417,
          -119.76806470000001,
          -97.60073389,
          -71.42822111,
          -95.88824167,
          -84.6621725,
          -82.89188278,
          -85.736,
          -117.60119440000001,
          -92.22424556,
          -96.85177222,
          -95.89417306,
          -76.20122222,
          -84.219375,
          -77.67238389,
          -94.30681111,
          -86.67818222,
          -106.6091944,
          -90.07588889,
          -106.37780559999999,
          -77.31966667,
          -72.68322833,
          -102.20191390000001,
          -91.14963444,
          -83.99285583,
          -104.70025,
          -87.18744444,
          -76.10631056,
          -86.75354972,
          -71.43705583,
          -116.5062531,
          -82.55411111,
          -97.50121528,
          -86.77310944,
          -81.11953944,
          -91.987655,
          -119.8403733,
          -117.5338425,
          -88.24283333,
          -97.43304583,
          -78.73216667,
          -93.66068222,
          -76.76340361,
          -70.30875,
          -86.39397611,
          -76.4929875,
          -73.70757444,
          -121.84294779999999,
          -85.52276778,
          -84.550781,
          -114.60597220000001,
          -106.868845,
          -84.35033333,
          -89.07009278,
          -103.0573708,
          -118.1516111,
          -77.90255556,
          -84.60538889,
          -89.33751361,
          -123.21868559999999,
          -81.20213889,
          -101.8227778,
          -91.71087222,
          -82.21885833,
          -79.9372975,
          -73.10021194,
          -90.50753917,
          -82.54180556,
          -81.44246556,
          -88.91595278,
          -97.65439389,
          -86.5254,
          -93.82559833,
          -96.81498889,
          -107.21765970000001,
          -122.8734978,
          -89.69330556,
          -99.46154361,
          -97.66987194,
          -99.68189722,
          -93.38685806,
          -83.74345639,
          -82.40742056,
          -97.82779778,
          -80.04050583,
          -88.12959000000001,
          -121.1499633,
          -84.93886111,
          -86.31847417,
          -116.22277779999999,
          -78.92833333,
          -101.2803339,
          -88.27805556,
          -79.97542833,
          -106.91769529999999,
          -110.7377389,
          -111.15300719999999,
          -108.5267347,
          -118.3584969,
          -87.53062667,
          -106.9331817,
          -112.07016670000002,
          -119.7181389,
          -89.67761861,
          -98.23861111,
          -122.2934019,
          -97.17611111,
          -96.74170028,
          -114.4877356,
          -120.4575825,
          -112.59586110000001,
          -85.44962889,
          -77.61213778,
          -107.89383329999998,
          -100.74672220000001,
          -106.46446609999998,
          -85.582235,
          -92.03768778,
          -119.11902920000001,
          -96.67083278,
          -92.54855611,
          -124.2460278,
          -106.08813889999999,
          -121.7332081,
          -74.10483833,
          -78.45286111,
          -83.27672222,
          -89.66677944,
          -117.8295122,
          -124.1086189,
          -81.46630556,
          -96.75925,
          -85.19514639,
          -109.02379609999998,
          -88.77375,
          -120.64239309999999,
          -75.72426750000001,
          -88.59136861,
          -105.5393614,
          -77.04294444,
          -81.96449611,
          -94.36744111,
          -95.40238611,
          -111.9827503,
          -111.37068529999999,
          -88.75120556,
          -87.395361,
          -107.90848000000001,
          -85.20378778,
          -117.01539440000002,
          -113.098575,
          -73.80297861,
          -73.1503125,
          -114.25506940000001,
          -80.64580556,
          -81.05805556,
          -75.44040167,
          -92.19364861,
          -104.81183809999999,
          -109.0651928,
          -80.39947222,
          -81.59318972,
          -122.53752779999999,
          -118.8377722,
          -88.51947556,
          -92.548828,
          -82.68743944,
          -98.49189333,
          -78.88,
          -91.48507194,
          -90.70916722,
          -92.49798722,
          -90.348816,
          -108.54286110000001
         ],
         "marker": {
          "color": [
           25129,
           21925,
           20662,
           17290,
           13781,
           13223,
           12016,
           11797,
           10536,
           10490,
           9898,
           9182,
           8678,
           8523,
           7965,
           7690,
           7541,
           7392,
           6979,
           6779,
           6233,
           6204,
           6044,
           5945,
           5907,
           5627,
           4943,
           4749,
           4616,
           4432,
           4367,
           4332,
           4071,
           4057,
           3972,
           3896,
           3824,
           3654,
           3616,
           3403,
           3386,
           3180,
           3058,
           3030,
           3015,
           3005,
           2786,
           2136,
           2104,
           2104,
           2044,
           2003,
           1986,
           1752,
           1716,
           1622,
           1620,
           1502,
           1474,
           1439,
           1337,
           1327,
           1310,
           1299,
           1258,
           1224,
           1206,
           1199,
           1162,
           1103,
           1095,
           1052,
           1040,
           1035,
           1006,
           956,
           953,
           949,
           932,
           926,
           880,
           840,
           818,
           800,
           785,
           768,
           747,
           711,
           708,
           702,
           686,
           686,
           675,
           664,
           658,
           656,
           653,
           627,
           611,
           608,
           582,
           572,
           562,
           553,
           540,
           538,
           529,
           524,
           518,
           516,
           479,
           472,
           460,
           451,
           448,
           445,
           426,
           414,
           410,
           410,
           409,
           408,
           404,
           404,
           396,
           393,
           382,
           381,
           379,
           347,
           346,
           338,
           333,
           328,
           324,
           324,
           319,
           314,
           310,
           306,
           301,
           296,
           295,
           288,
           285,
           280,
           270,
           270,
           264,
           264,
           258,
           248,
           248,
           246,
           245,
           225,
           216,
           216,
           214,
           212,
           210,
           208,
           208,
           201,
           199,
           168,
           168,
           168,
           168,
           168,
           168,
           159,
           158,
           158,
           156,
           146,
           144,
           140,
           127,
           114,
           112,
           112,
           112,
           112,
           112,
           112,
           112,
           112,
           112,
           110,
           108,
           108,
           104,
           104,
           104,
           104,
           102,
           96,
           93,
           91,
           90,
           74,
           72,
           60,
           58,
           56,
           56,
           56,
           56,
           56,
           56,
           56,
           56,
           52,
           50,
           50,
           48,
           48,
           37,
           32,
           23
          ]
         },
         "mode": "markers",
         "text": [
          "Chicago O'Hare InternationalChicago, ILArrivals: 25129",
          "William B Hartsfield-Atlanta IntlAtlanta, GAArrivals: 21925",
          "Dallas-Fort Worth InternationalDallas-Fort Worth, TXArrivals: 20662",
          "Phoenix Sky Harbor InternationalPhoenix, AZArrivals: 17290",
          "Denver IntlDenver, COArrivals: 13781",
          "George Bush IntercontinentalHouston, TXArrivals: 13223",
          "San Francisco InternationalSan Francisco, CAArrivals: 12016",
          "Los Angeles InternationalLos Angeles, CAArrivals: 11797",
          "Orlando InternationalOrlando, FLArrivals: 10536",
          "Charlotte/Douglas InternationalCharlotte, NCArrivals: 10490",
          "Salt Lake City IntlSalt Lake City, UTArrivals: 9898",
          "Tampa International Tampa, FLArrivals: 9182",
          "Newark IntlNewark, NJArrivals: 8678",
          "McCarran InternationalLas Vegas, NVArrivals: 8523",
          "Philadelphia IntlPhiladelphia, PAArrivals: 7965",
          "Minneapolis-St Paul IntlMinneapolis, MNArrivals: 7690",
          "Seattle-Tacoma IntlSeattle, WAArrivals: 7541",
          "LaGuardiaNew York, NYArrivals: 7392",
          "Chicago MidwayChicago, ILArrivals: 6979",
          "Washington Dulles InternationalChantilly, VAArrivals: 6779",
          "San Diego International-Lindbergh San Diego, CAArrivals: 6233",
          "Lambert-St Louis InternationalSt Louis, MOArrivals: 6204",
          "Detroit Metropolitan-Wayne CountyDetroit, MIArrivals: 6044",
          "John F Kennedy IntlNew York, NYArrivals: 5945",
          "Miami InternationalMiami, FLArrivals: 5907",
          "Gen Edw L Logan IntlBoston, MAArrivals: 5627",
          "Sacramento InternationalSacramento, CAArrivals: 4943",
          "Baltimore-Washington InternationalBaltimore, MDArrivals: 4749",
          "John Wayne /Orange CoSanta Ana, CAArrivals: 4616",
          "New Orleans International New Orleans, LAArrivals: 4432",
          "San Jose InternationalSan Jose, CAArrivals: 4367",
          "Ronald Reagan Washington NationalArlington, VAArrivals: 4332",
          "Portland IntlPortland, ORArrivals: 4071",
          "Southwest Florida InternationalFt. Myers, FLArrivals: 4057",
          "Palm Beach InternationalWest Palm Beach, FLArrivals: 3972",
          "Raleigh-Durham InternationalRaleigh, NCArrivals: 3896",
          "William P HobbyHouston, TXArrivals: 3824",
          "San Antonio InternationalSan Antonio, TXArrivals: 3654",
          "Fort Lauderdale-Hollywood Int'lFt. Lauderdale, FLArrivals: 3616",
          "Kansas City InternationalKansas City, MOArrivals: 3403",
          "Metropolitan Oakland InternationalOakland, CAArrivals: 3386",
          "Pittsburgh InternationalPittsburgh, PAArrivals: 3180",
          "Memphis InternationalMemphis, TNArrivals: 3058",
          "General Mitchell InternationalMilwaukee, WIArrivals: 3030",
          "Cleveland-Hopkins IntlCleveland, OHArrivals: 3015",
          "Jacksonville InternationalJacksonville, FLArrivals: 3005",
          "Tucson InternationalTucson, AZArrivals: 2786",
          "Indianapolis InternationalIndianapolis, INArrivals: 2136",
          "Reno/Tahoe InternationalReno, NVArrivals: 2104",
          "Will Rogers WorldOklahoma City, OKArrivals: 2104",
          "Theodore F Green StateProvidence, RIArrivals: 2044",
          "Tulsa InternationalTulsa, OKArrivals: 2003",
          "Cincinnati Northern Kentucky IntlCovington, KYArrivals: 1986",
          "Port Columbus IntlColumbus, OHArrivals: 1752",
          "Louisville International-Standiford Louisville, KYArrivals: 1716",
          "Ontario InternationalOntario, CAArrivals: 1622",
          "Adams Little Rock, ARArrivals: 1620",
          "Dallas Love Dallas, TXArrivals: 1502",
          "Eppley AirfieldOmaha, NEArrivals: 1474",
          "Norfolk InternationalNorfolk, VAArrivals: 1439",
          "James M Cox Dayton IntlDayton, OHArrivals: 1337",
          "Greater Rochester Int'lRochester, NYArrivals: 1327",
          "Northwest Arkansas RegionalFayetteville/Springdale/Rogers, ARArrivals: 1310",
          "Nashville InternationalNashville, TNArrivals: 1299",
          "Albuquerque InternationalAlbuquerque, NMArrivals: 1258",
          "Jackson InternationalJackson, MSArrivals: 1224",
          "El Paso InternationalEl Paso, TXArrivals: 1206",
          "Richmond InternationalRichmond, VAArrivals: 1199",
          "Bradley InternationalWindsor Locks, CTArrivals: 1162",
          "Midland InternationalMidland, TXArrivals: 1103",
          "Baton Rouge Metropolitan, Ryan Baton Rouge, LAArrivals: 1095",
          "McGhee-TysonKnoxville, TNArrivals: 1052",
          "City of Colorado Springs MuniColorado Springs, COArrivals: 1040",
          "Pensacola RegionalPensacola, FLArrivals: 1035",
          "Syracuse-Hancock IntlSyracuse, NYArrivals: 1006",
          "Birmingham InternationalBirmingham, ALArrivals: 956",
          "ManchesterManchester, NHArrivals: 953",
          "Palm Springs InternationalPalm Springs, CAArrivals: 949",
          "Sarasota Bradenton InternationalSarasota, FLArrivals: 932",
          "Corpus Christi InternationalCorpus Christi, TXArrivals: 926",
          "Huntsville International Huntsville, ALArrivals: 880",
          "Columbia MetropolitanColumbia, SCArrivals: 840",
          "Lafayette RegionalLafayette, LAArrivals: 818",
          "Santa Barbara MunicipalSanta Barbara, CAArrivals: 800",
          "Spokane IntlSpokane, WAArrivals: 785",
          "Mobile RegionalMobile, ALArrivals: 768",
          "Wichita Mid-ContinentWichita, KSArrivals: 747",
          "Buffalo Niagara IntlBuffalo, NYArrivals: 711",
          "Des Moines InternationalDes Moines, IAArrivals: 708",
          "Harrisburg IntlHarrisburg, PAArrivals: 702",
          "Portland International JetportPortland, MEArrivals: 686",
          "Montgomery Regional AptMontgomery, ALArrivals: 686",
          "Newport News/Williamsburg InternationalNewport News, VAArrivals: 675",
          "Westchester CtyWhite Plains, NYArrivals: 664",
          "Monterey PeninsulaMonterey, CAArrivals: 658",
          "Kent County InternationalGrand Rapids, MIArrivals: 656",
          "Florida BeachBeaches, FLArrivals: 653",
          "Yuma MCAS-Yuma InternationalYuma, AZArrivals: 627",
          "Aspen-Pitkin Co/Sardy Aspen, COArrivals: 611",
          "Tallahassee RegionalTallahassee, FLArrivals: 608",
          "Gulfport-Biloxi RegionalGulfport-Biloxi, MSArrivals: 582",
          "Rapid City RegionalRapid City, SDArrivals: 572",
          "Long Beach (Daugherty )Long Beach, CAArrivals: 562",
          "Wilmington InternationalWilmington, NCArrivals: 553",
          "Blue Grass Lexington, KYArrivals: 540",
          "Dane County RegionalMadison, WIArrivals: 538",
          "Mahlon Sweet Eugene, ORArrivals: 529",
          "Savannah InternationalSavannah, GAArrivals: 524",
          "Lubbock InternationalLubbock, TXArrivals: 518",
          "Eastern Iowa Cedar Rapids, IAArrivals: 516",
          "Greenville-SpartanburgGreer, SCArrivals: 479",
          "Piedmont Triad InternationalGreensboro, NCArrivals: 472",
          "Long Island - MacArthurIslip, NYArrivals: 460",
          "Quad CityMoline, ILArrivals: 451",
          "Asheville RegionalAsheville, NCArrivals: 448",
          "Akron-Canton RegionalAkron, OHArrivals: 445",
          "Central Illinois RegionalBloomington, ILArrivals: 426",
          "Valley InternationalHarlingen, TXArrivals: 414",
          "Eglin Air Force BaseValparaiso, FLArrivals: 410",
          "Shreveport RegionalShreveport, LAArrivals: 410",
          "Hector InternationalFargo, NDArrivals: 409",
          "Yampa ValleyHayden, COArrivals: 408",
          "Rogue Valley InternationalMedford, ORArrivals: 404",
          "Greater Peoria RegionalPeoria, ILArrivals: 404",
          "Laredo InternationalLaredo, TXArrivals: 396",
          "Austin-Bergstrom InternationalAustin, TXArrivals: 393",
          "Abilene RegionalAbilene, TXArrivals: 382",
          "Springfield-Branson RegionalSpringfield, MOArrivals: 381",
          "BishopFlint, MIArrivals: 379",
          "Tri-Cities RegionalBristol, TNArrivals: 347",
          "Robert Gray AAFKilleen, TXArrivals: 346",
          "Charleston AFB/InternationalCharleston, SCArrivals: 338",
          "Austin Straubel InternationalGreen Bay, WIArrivals: 333",
          "Roberts Redmond, ORArrivals: 328",
          "Columbus MetropolitanColumbus, GAArrivals: 324",
          "South Bend RegionalSouth Bend, INArrivals: 324",
          "Boise Air TerminalBoise, IDArrivals: 319",
          "Myrtle Beach InternationalMyrtle Beach, SCArrivals: 314",
          "Minot InternationalMinot, NDArrivals: 310",
          "University of Illinois-WillardChampaign/Urbana, ILArrivals: 306",
          "Roanoke Regional/ Woodrum Roanoke, VAArrivals: 301",
          "Eagle County RegionalEagle, COArrivals: 296",
          "Jackson HoleJackson, WYArrivals: 295",
          "Gallatin Bozeman, MTArrivals: 288",
          "Walker Grand Junction, COArrivals: 285",
          "Burbank-Glendale-PasadenaBurbank, CAArrivals: 280",
          "Evansville RegionalEvansville, INArrivals: 270",
          "Gunnison CountyGunnison, COArrivals: 270",
          "Idaho Falls RegionalIdaho Falls, IDArrivals: 264",
          "Fresno Yosemite InternationalFresno, CAArrivals: 264",
          "CapitalSpringfield, ILArrivals: 258",
          "McAllen Miller InternationalMcAllen, TXArrivals: 248",
          "Redding MunicipalRedding, CAArrivals: 248",
          "Grand Forks InternationalGrand Forks, NDArrivals: 246",
          "Joe Foss Sioux Falls, SDArrivals: 245",
          "Joslin Field - Magic ValleyTwin Falls, IDArrivals: 225",
          "Santa Maria Pub/Capt G Allan Hancock Santa Maria, CAArrivals: 216",
          "Pocatello RegionalPocatello, IDArrivals: 216",
          "Dothan Dothan, ALArrivals: 214",
          "Albert J EllisJacksonville, NCArrivals: 212",
          "Montrose RegionalMontrose, COArrivals: 210",
          "Bismarck MunicipalBismarck, NDArrivals: 208",
          "Natrona County IntlCasper, WYArrivals: 208",
          "Cherry CapitalTraverse City, MIArrivals: 201",
          "Monroe RegionalMonroe, LAArrivals: 199",
          "Tri-CitiesPasco, WAArrivals: 168",
          "Manhattan RegionalManhattan, KSArrivals: 168",
          "Alexandria InternationalAlexandria, LAArrivals: 168",
          "North Bend MuniNorth Bend, ORArrivals: 168",
          "Santa Fe MunicipalSanta Fe, NMArrivals: 168",
          "Klamath Falls InternationalKlamath Falls, ORArrivals: 168",
          "StewartNewburgh, NYArrivals: 159",
          "Charlottesville-AlbermarleCharlottesville, VAArrivals: 158",
          "Valdosta RegionalValdosta, GAArrivals: 158",
          "Central WisconsinMosinee, WIArrivals: 156",
          "InyokernInyokern, CAArrivals: 146",
          "ArcataArcata/Eureka, CAArrivals: 144",
          "Glynco JetportBrunswick, GAArrivals: 140",
          "Lincoln MunicipalLincoln, NEArrivals: 127",
          "Fort Wayne InternationalFort Wayne, INArrivals: 114",
          "Yellowstone RegionalCody, WYArrivals: 112",
          "Barkley RegionalPaducah, KYArrivals: 112",
          "San Luis Obispo Co-McChesney San Luis Obispo, CAArrivals: 112",
          "Wilkes-Barre/Scranton IntlWilkes-Barre/Scranton, PAArrivals: 112",
          "Golden Triangle RegionalColumbus-Starkville-West Point, MSArrivals: 112",
          "Gillette-Campbell CountyGillette, WYArrivals: 112",
          "Craven County RegionalNew Bern, NCArrivals: 112",
          "Bush Augusta, GAArrivals: 112",
          "Fort Smith RegionalFort Smith, ARArrivals: 112",
          "Tyler Pounds Tyler, TXArrivals: 110",
          "Helena RegionalHelena, MTArrivals: 108",
          "Great Falls IntlGreat Falls, MTArrivals: 108",
          "Key Meridian, MSArrivals: 104",
          null,
          "Telluride RegionalTelluride, COArrivals: 104",
          "Lovell Chattanooga, TNArrivals: 104",
          "Lewiston-Nez Perce CountyLewiston, IDArrivals: 102",
          "Cedar City MuniCedar City, UTArrivals: 96",
          "Albany CtyAlbany, NYArrivals: 93",
          "Burlington InternationalBurlington, VTArrivals: 91",
          "Glacier Park IntlKalispell, MTArrivals: 90",
          "Melbourne International Melbourne, FLArrivals: 74",
          "Daytona Beach InternationalDaytona Beach, FLArrivals: 72",
          "Lehigh Valley InternationalAllentown, PAArrivals: 60",
          "Duluth InternationalDuluth, MNArrivals: 58",
          "CheyenneCheyenne, WYArrivals: 56",
          "Rock Springs-Sweetwater CountyRock Springs, WYArrivals: 56",
          "Greenbrier ValleyLewisburg, WVArrivals: 56",
          "YeagerCharleston, WVArrivals: 56",
          "Bellingham IntlBellingham, WAArrivals: 56",
          "Mammoth YosemiteMammoth Lakes, CAArrivals: 56",
          "Outagamie County RegionalAppleton, WIArrivals: 56",
          "Branson AirportHollister, MOArrivals: 56",
          "St. Petersburg-Clearwater InternationalSt. Petersburg, FLArrivals: 52",
          "Sheppard AFB/Wichita Falls MunicipalWichita Falls, TXArrivals: 50",
          "Fayetteville MunicipalFayetteville, NCArrivals: 50",
          "Chippewa Valley RegionalEau Claire, WIArrivals: 48",
          "Dubuque MunicipalDubuque, IAArrivals: 48",
          "Rochester InternationalRochester, MNArrivals: 37",
          "Tunica Municipal AirportTunica, MSArrivals: 32",
          "Billings Logan IntlBillings, MTArrivals: 23"
         ],
         "type": "scattergeo"
        }
       ],
       "layout": {
        "geo": {
         "scope": "usa"
        },
        "template": {
         "data": {
          "bar": [
           {
            "error_x": {
             "color": "#2a3f5f"
            },
            "error_y": {
             "color": "#2a3f5f"
            },
            "marker": {
             "line": {
              "color": "#E5ECF6",
              "width": 0.5
             }
            },
            "type": "bar"
           }
          ],
          "barpolar": [
           {
            "marker": {
             "line": {
              "color": "#E5ECF6",
              "width": 0.5
             }
            },
            "type": "barpolar"
           }
          ],
          "carpet": [
           {
            "aaxis": {
             "endlinecolor": "#2a3f5f",
             "gridcolor": "white",
             "linecolor": "white",
             "minorgridcolor": "white",
             "startlinecolor": "#2a3f5f"
            },
            "baxis": {
             "endlinecolor": "#2a3f5f",
             "gridcolor": "white",
             "linecolor": "white",
             "minorgridcolor": "white",
             "startlinecolor": "#2a3f5f"
            },
            "type": "carpet"
           }
          ],
          "choropleth": [
           {
            "colorbar": {
             "outlinewidth": 0,
             "ticks": ""
            },
            "type": "choropleth"
           }
          ],
          "contour": [
           {
            "colorbar": {
             "outlinewidth": 0,
             "ticks": ""
            },
            "colorscale": [
             [
              0,
              "#0d0887"
             ],
             [
              0.1111111111111111,
              "#46039f"
             ],
             [
              0.2222222222222222,
              "#7201a8"
             ],
             [
              0.3333333333333333,
              "#9c179e"
             ],
             [
              0.4444444444444444,
              "#bd3786"
             ],
             [
              0.5555555555555556,
              "#d8576b"
             ],
             [
              0.6666666666666666,
              "#ed7953"
             ],
             [
              0.7777777777777778,
              "#fb9f3a"
             ],
             [
              0.8888888888888888,
              "#fdca26"
             ],
             [
              1,
              "#f0f921"
             ]
            ],
            "type": "contour"
           }
          ],
          "contourcarpet": [
           {
            "colorbar": {
             "outlinewidth": 0,
             "ticks": ""
            },
            "type": "contourcarpet"
           }
          ],
          "heatmap": [
           {
            "colorbar": {
             "outlinewidth": 0,
             "ticks": ""
            },
            "colorscale": [
             [
              0,
              "#0d0887"
             ],
             [
              0.1111111111111111,
              "#46039f"
             ],
             [
              0.2222222222222222,
              "#7201a8"
             ],
             [
              0.3333333333333333,
              "#9c179e"
             ],
             [
              0.4444444444444444,
              "#bd3786"
             ],
             [
              0.5555555555555556,
              "#d8576b"
             ],
             [
              0.6666666666666666,
              "#ed7953"
             ],
             [
              0.7777777777777778,
              "#fb9f3a"
             ],
             [
              0.8888888888888888,
              "#fdca26"
             ],
             [
              1,
              "#f0f921"
             ]
            ],
            "type": "heatmap"
           }
          ],
          "heatmapgl": [
           {
            "colorbar": {
             "outlinewidth": 0,
             "ticks": ""
            },
            "colorscale": [
             [
              0,
              "#0d0887"
             ],
             [
              0.1111111111111111,
              "#46039f"
             ],
             [
              0.2222222222222222,
              "#7201a8"
             ],
             [
              0.3333333333333333,
              "#9c179e"
             ],
             [
              0.4444444444444444,
              "#bd3786"
             ],
             [
              0.5555555555555556,
              "#d8576b"
             ],
             [
              0.6666666666666666,
              "#ed7953"
             ],
             [
              0.7777777777777778,
              "#fb9f3a"
             ],
             [
              0.8888888888888888,
              "#fdca26"
             ],
             [
              1,
              "#f0f921"
             ]
            ],
            "type": "heatmapgl"
           }
          ],
          "histogram": [
           {
            "marker": {
             "colorbar": {
              "outlinewidth": 0,
              "ticks": ""
             }
            },
            "type": "histogram"
           }
          ],
          "histogram2d": [
           {
            "colorbar": {
             "outlinewidth": 0,
             "ticks": ""
            },
            "colorscale": [
             [
              0,
              "#0d0887"
             ],
             [
              0.1111111111111111,
              "#46039f"
             ],
             [
              0.2222222222222222,
              "#7201a8"
             ],
             [
              0.3333333333333333,
              "#9c179e"
             ],
             [
              0.4444444444444444,
              "#bd3786"
             ],
             [
              0.5555555555555556,
              "#d8576b"
             ],
             [
              0.6666666666666666,
              "#ed7953"
             ],
             [
              0.7777777777777778,
              "#fb9f3a"
             ],
             [
              0.8888888888888888,
              "#fdca26"
             ],
             [
              1,
              "#f0f921"
             ]
            ],
            "type": "histogram2d"
           }
          ],
          "histogram2dcontour": [
           {
            "colorbar": {
             "outlinewidth": 0,
             "ticks": ""
            },
            "colorscale": [
             [
              0,
              "#0d0887"
             ],
             [
              0.1111111111111111,
              "#46039f"
             ],
             [
              0.2222222222222222,
              "#7201a8"
             ],
             [
              0.3333333333333333,
              "#9c179e"
             ],
             [
              0.4444444444444444,
              "#bd3786"
             ],
             [
              0.5555555555555556,
              "#d8576b"
             ],
             [
              0.6666666666666666,
              "#ed7953"
             ],
             [
              0.7777777777777778,
              "#fb9f3a"
             ],
             [
              0.8888888888888888,
              "#fdca26"
             ],
             [
              1,
              "#f0f921"
             ]
            ],
            "type": "histogram2dcontour"
           }
          ],
          "mesh3d": [
           {
            "colorbar": {
             "outlinewidth": 0,
             "ticks": ""
            },
            "type": "mesh3d"
           }
          ],
          "parcoords": [
           {
            "line": {
             "colorbar": {
              "outlinewidth": 0,
              "ticks": ""
             }
            },
            "type": "parcoords"
           }
          ],
          "pie": [
           {
            "automargin": true,
            "type": "pie"
           }
          ],
          "scatter": [
           {
            "marker": {
             "colorbar": {
              "outlinewidth": 0,
              "ticks": ""
             }
            },
            "type": "scatter"
           }
          ],
          "scatter3d": [
           {
            "line": {
             "colorbar": {
              "outlinewidth": 0,
              "ticks": ""
             }
            },
            "marker": {
             "colorbar": {
              "outlinewidth": 0,
              "ticks": ""
             }
            },
            "type": "scatter3d"
           }
          ],
          "scattercarpet": [
           {
            "marker": {
             "colorbar": {
              "outlinewidth": 0,
              "ticks": ""
             }
            },
            "type": "scattercarpet"
           }
          ],
          "scattergeo": [
           {
            "marker": {
             "colorbar": {
              "outlinewidth": 0,
              "ticks": ""
             }
            },
            "type": "scattergeo"
           }
          ],
          "scattergl": [
           {
            "marker": {
             "colorbar": {
              "outlinewidth": 0,
              "ticks": ""
             }
            },
            "type": "scattergl"
           }
          ],
          "scattermapbox": [
           {
            "marker": {
             "colorbar": {
              "outlinewidth": 0,
              "ticks": ""
             }
            },
            "type": "scattermapbox"
           }
          ],
          "scatterpolar": [
           {
            "marker": {
             "colorbar": {
              "outlinewidth": 0,
              "ticks": ""
             }
            },
            "type": "scatterpolar"
           }
          ],
          "scatterpolargl": [
           {
            "marker": {
             "colorbar": {
              "outlinewidth": 0,
              "ticks": ""
             }
            },
            "type": "scatterpolargl"
           }
          ],
          "scatterternary": [
           {
            "marker": {
             "colorbar": {
              "outlinewidth": 0,
              "ticks": ""
             }
            },
            "type": "scatterternary"
           }
          ],
          "surface": [
           {
            "colorbar": {
             "outlinewidth": 0,
             "ticks": ""
            },
            "colorscale": [
             [
              0,
              "#0d0887"
             ],
             [
              0.1111111111111111,
              "#46039f"
             ],
             [
              0.2222222222222222,
              "#7201a8"
             ],
             [
              0.3333333333333333,
              "#9c179e"
             ],
             [
              0.4444444444444444,
              "#bd3786"
             ],
             [
              0.5555555555555556,
              "#d8576b"
             ],
             [
              0.6666666666666666,
              "#ed7953"
             ],
             [
              0.7777777777777778,
              "#fb9f3a"
             ],
             [
              0.8888888888888888,
              "#fdca26"
             ],
             [
              1,
              "#f0f921"
             ]
            ],
            "type": "surface"
           }
          ],
          "table": [
           {
            "cells": {
             "fill": {
              "color": "#EBF0F8"
             },
             "line": {
              "color": "white"
             }
            },
            "header": {
             "fill": {
              "color": "#C8D4E3"
             },
             "line": {
              "color": "white"
             }
            },
            "type": "table"
           }
          ]
         },
         "layout": {
          "annotationdefaults": {
           "arrowcolor": "#2a3f5f",
           "arrowhead": 0,
           "arrowwidth": 1
          },
          "coloraxis": {
           "colorbar": {
            "outlinewidth": 0,
            "ticks": ""
           }
          },
          "colorscale": {
           "diverging": [
            [
             0,
             "#8e0152"
            ],
            [
             0.1,
             "#c51b7d"
            ],
            [
             0.2,
             "#de77ae"
            ],
            [
             0.3,
             "#f1b6da"
            ],
            [
             0.4,
             "#fde0ef"
            ],
            [
             0.5,
             "#f7f7f7"
            ],
            [
             0.6,
             "#e6f5d0"
            ],
            [
             0.7,
             "#b8e186"
            ],
            [
             0.8,
             "#7fbc41"
            ],
            [
             0.9,
             "#4d9221"
            ],
            [
             1,
             "#276419"
            ]
           ],
           "sequential": [
            [
             0,
             "#0d0887"
            ],
            [
             0.1111111111111111,
             "#46039f"
            ],
            [
             0.2222222222222222,
             "#7201a8"
            ],
            [
             0.3333333333333333,
             "#9c179e"
            ],
            [
             0.4444444444444444,
             "#bd3786"
            ],
            [
             0.5555555555555556,
             "#d8576b"
            ],
            [
             0.6666666666666666,
             "#ed7953"
            ],
            [
             0.7777777777777778,
             "#fb9f3a"
            ],
            [
             0.8888888888888888,
             "#fdca26"
            ],
            [
             1,
             "#f0f921"
            ]
           ],
           "sequentialminus": [
            [
             0,
             "#0d0887"
            ],
            [
             0.1111111111111111,
             "#46039f"
            ],
            [
             0.2222222222222222,
             "#7201a8"
            ],
            [
             0.3333333333333333,
             "#9c179e"
            ],
            [
             0.4444444444444444,
             "#bd3786"
            ],
            [
             0.5555555555555556,
             "#d8576b"
            ],
            [
             0.6666666666666666,
             "#ed7953"
            ],
            [
             0.7777777777777778,
             "#fb9f3a"
            ],
            [
             0.8888888888888888,
             "#fdca26"
            ],
            [
             1,
             "#f0f921"
            ]
           ]
          },
          "colorway": [
           "#636efa",
           "#EF553B",
           "#00cc96",
           "#ab63fa",
           "#FFA15A",
           "#19d3f3",
           "#FF6692",
           "#B6E880",
           "#FF97FF",
           "#FECB52"
          ],
          "font": {
           "color": "#2a3f5f"
          },
          "geo": {
           "bgcolor": "white",
           "lakecolor": "white",
           "landcolor": "#E5ECF6",
           "showlakes": true,
           "showland": true,
           "subunitcolor": "white"
          },
          "hoverlabel": {
           "align": "left"
          },
          "hovermode": "closest",
          "mapbox": {
           "style": "light"
          },
          "paper_bgcolor": "white",
          "plot_bgcolor": "#E5ECF6",
          "polar": {
           "angularaxis": {
            "gridcolor": "white",
            "linecolor": "white",
            "ticks": ""
           },
           "bgcolor": "#E5ECF6",
           "radialaxis": {
            "gridcolor": "white",
            "linecolor": "white",
            "ticks": ""
           }
          },
          "scene": {
           "xaxis": {
            "backgroundcolor": "#E5ECF6",
            "gridcolor": "white",
            "gridwidth": 2,
            "linecolor": "white",
            "showbackground": true,
            "ticks": "",
            "zerolinecolor": "white"
           },
           "yaxis": {
            "backgroundcolor": "#E5ECF6",
            "gridcolor": "white",
            "gridwidth": 2,
            "linecolor": "white",
            "showbackground": true,
            "ticks": "",
            "zerolinecolor": "white"
           },
           "zaxis": {
            "backgroundcolor": "#E5ECF6",
            "gridcolor": "white",
            "gridwidth": 2,
            "linecolor": "white",
            "showbackground": true,
            "ticks": "",
            "zerolinecolor": "white"
           }
          },
          "shapedefaults": {
           "line": {
            "color": "#2a3f5f"
           }
          },
          "ternary": {
           "aaxis": {
            "gridcolor": "white",
            "linecolor": "white",
            "ticks": ""
           },
           "baxis": {
            "gridcolor": "white",
            "linecolor": "white",
            "ticks": ""
           },
           "bgcolor": "#E5ECF6",
           "caxis": {
            "gridcolor": "white",
            "linecolor": "white",
            "ticks": ""
           }
          },
          "title": {
           "x": 0.05
          },
          "xaxis": {
           "automargin": true,
           "gridcolor": "white",
           "linecolor": "white",
           "ticks": "",
           "title": {
            "standoff": 15
           },
           "zerolinecolor": "white",
           "zerolinewidth": 2
          },
          "yaxis": {
           "automargin": true,
           "gridcolor": "white",
           "linecolor": "white",
           "ticks": "",
           "title": {
            "standoff": 15
           },
           "zerolinecolor": "white",
           "zerolinewidth": 2
          }
         }
        },
        "title": {
         "text": "Most trafficked US airports<br>(Hover for airport names)"
        }
       }
      },
      "text/html": [
       "<div>\n",
       "        \n",
       "        \n",
       "            <div id=\"e961a614-e7d2-4411-8558-029b758371f1\" class=\"plotly-graph-div\" style=\"height:525px; width:100%;\"></div>\n",
       "            <script type=\"text/javascript\">\n",
       "                require([\"plotly\"], function(Plotly) {\n",
       "                    window.PLOTLYENV=window.PLOTLYENV || {};\n",
       "                    \n",
       "                if (document.getElementById(\"e961a614-e7d2-4411-8558-029b758371f1\")) {\n",
       "                    Plotly.newPlot(\n",
       "                        'e961a614-e7d2-4411-8558-029b758371f1',\n",
       "                        [{\"lat\": [41.979595, 33.64044444, 32.89595056, 33.43416667, 39.85840806, 29.98047222, 37.61900194, 33.94253611, 28.42888889, 35.21401111, 40.78838778, 27.97547222, 40.69249722, 36.08036111, 39.87195278, 44.88054694, 47.44898194, 40.77724306, 41.7859825, 38.94453194, 32.73355611, 38.74768694, 42.21205889, 40.63975111, 25.79325, 42.3643475, 38.69542167, 39.17540167, 33.67565861, 29.99338889, 37.36186194, 38.85208333, 45.58872222, 26.53616667, 26.68316194, 35.87763889, 29.64541861, 29.53369444, 26.07258333, 39.29760528, 37.72129083, 40.49146583, 35.04241667, 42.94722222, 41.41089417, 30.49405556, 32.11608333, 39.71732917, 39.49857611, 35.39308833, 41.72399917, 36.19837222, 39.04614278, 39.99798528, 38.17438889, 34.056, 34.72939611, 32.84711389, 41.30251861, 36.89461111, 39.90237583, 43.11886611, 36.28186944, 36.12447667, 35.04022222, 32.31116667, 31.80666667, 37.50516667, 41.93887417, 31.94252778, 30.53316083, 35.81248722, 38.80580556, 30.47330556, 43.11118694, 33.56294306, 42.93451639, 33.82921556, 27.39533333, 27.77036083, 34.6404475, 33.93884, 30.20527972, 34.42621194, 47.61985556, 30.69141667, 37.64995889, 42.94052472, 41.53493306, 40.19349528, 43.64616667, 32.30064417, 37.13189556, 41.06695778, 36.5869825, 42.88081972, 30.448674, 32.65658333, 39.22316, 30.39652778, 30.40728028, 44.04532139, 33.81772222, 34.27061111, 38.03697222, 43.13985778, 44.123259999999995, 32.12758333, 33.66363889, 41.88458833, 34.89566722, 36.09774694, 40.7952425, 41.44852639, 35.43619444, 40.91631194, 40.47798556, 26.22850611, 30.48325, 32.446627500000005, 46.91934889, 40.48118028, 42.37422778, 40.66424333, 27.54373861, 30.19453278, 32.41132, 37.24432611, 42.96550333, 36.47521417, 31.06489778, 32.89864639, 44.48507333, 44.25406722, 32.51633333, 41.70895361, 43.56444444, 33.67975, 48.25937778, 40.03925, 37.32546833, 39.64256778, 43.60732417, 45.77690139, 39.1224125, 34.20061917, 38.03799139, 38.53396333, 43.51455556, 36.77619444, 39.84395194, 26.17583333, 40.50898361, 47.949255, 43.58135111, 42.48180389, 34.89924833, 42.91130556, 31.32133917, 34.82916444, 38.50886722, 46.77411111, 42.90835556, 44.74144472, 32.51086556, 46.26468028, 39.14096722, 31.32737167, 43.41713889, 35.61677778, 42.15614361, 41.50409361, 38.13863889, 30.7825, 44.77761917, 35.65884306, 40.97811528, 31.25902778, 40.85097222, 40.97846583, 44.52019417, 37.06083333, 35.23705806, 41.33814944, 33.45033444, 44.34889806, 35.07297222, 33.369955, 35.33659028, 32.35413889, 46.60681806, 47.48200194, 32.33313333, 46.353639, 37.95375861, 35.03526833, 46.37449806, 37.70097028, 42.74811944, 44.47300361, 48.31140472, 28.10275, 29.17991667, 40.65236278, 46.84209028, 41.155722499999996, 41.5942175, 37.85830556, 38.37315083, 48.79275, 37.62404861, 44.25740806, 36.385913, 27.91076333, 33.98879611, 34.99147222, 44.86525722, 42.40295944, 43.90882639, 34.681499, 45.8076625], \"lon\": [-87.90446417, -84.42694444, -97.0372, -112.00805559999999, -104.6670019, -95.33972222, -122.3748433, -118.40807439999999, -81.31602778, -80.94312583, -111.9777731, -82.53325, -74.16866056, -115.15233329999998, -75.24114083, -93.2169225, -122.30931310000001, -73.87260917, -87.75242444, -77.45580972, -117.1896567, -90.35998972, -83.34883583, -73.77892556, -80.29055556, -71.00517917, -121.5907669, -76.66819833, -117.86822250000002, -90.25802778, -121.92900890000001, -77.03772222, -122.5975, -81.75516667, -80.09559417, -78.78747222, -95.27888889, -98.46977778, -80.15275, -94.71390556, -122.22071670000001, -80.23287083, -89.97666667, -87.89658333, -81.84939667, -81.68786111, -110.94102779999999, -86.29438417, -119.76806470000001, -97.60073389, -71.42822111, -95.88824167, -84.6621725, -82.89188278, -85.736, -117.60119440000001, -92.22424556, -96.85177222, -95.89417306, -76.20122222, -84.219375, -77.67238389, -94.30681111, -86.67818222, -106.6091944, -90.07588889, -106.37780559999999, -77.31966667, -72.68322833, -102.20191390000001, -91.14963444, -83.99285583, -104.70025, -87.18744444, -76.10631056, -86.75354972, -71.43705583, -116.5062531, -82.55411111, -97.50121528, -86.77310944, -81.11953944, -91.987655, -119.8403733, -117.5338425, -88.24283333, -97.43304583, -78.73216667, -93.66068222, -76.76340361, -70.30875, -86.39397611, -76.4929875, -73.70757444, -121.84294779999999, -85.52276778, -84.550781, -114.60597220000001, -106.868845, -84.35033333, -89.07009278, -103.0573708, -118.1516111, -77.90255556, -84.60538889, -89.33751361, -123.21868559999999, -81.20213889, -101.8227778, -91.71087222, -82.21885833, -79.9372975, -73.10021194, -90.50753917, -82.54180556, -81.44246556, -88.91595278, -97.65439389, -86.5254, -93.82559833, -96.81498889, -107.21765970000001, -122.8734978, -89.69330556, -99.46154361, -97.66987194, -99.68189722, -93.38685806, -83.74345639, -82.40742056, -97.82779778, -80.04050583, -88.12959000000001, -121.1499633, -84.93886111, -86.31847417, -116.22277779999999, -78.92833333, -101.2803339, -88.27805556, -79.97542833, -106.91769529999999, -110.7377389, -111.15300719999999, -108.5267347, -118.3584969, -87.53062667, -106.9331817, -112.07016670000002, -119.7181389, -89.67761861, -98.23861111, -122.2934019, -97.17611111, -96.74170028, -114.4877356, -120.4575825, -112.59586110000001, -85.44962889, -77.61213778, -107.89383329999998, -100.74672220000001, -106.46446609999998, -85.582235, -92.03768778, -119.11902920000001, -96.67083278, -92.54855611, -124.2460278, -106.08813889999999, -121.7332081, -74.10483833, -78.45286111, -83.27672222, -89.66677944, -117.8295122, -124.1086189, -81.46630556, -96.75925, -85.19514639, -109.02379609999998, -88.77375, -120.64239309999999, -75.72426750000001, -88.59136861, -105.5393614, -77.04294444, -81.96449611, -94.36744111, -95.40238611, -111.9827503, -111.37068529999999, -88.75120556, -87.395361, -107.90848000000001, -85.20378778, -117.01539440000002, -113.098575, -73.80297861, -73.1503125, -114.25506940000001, -80.64580556, -81.05805556, -75.44040167, -92.19364861, -104.81183809999999, -109.0651928, -80.39947222, -81.59318972, -122.53752779999999, -118.8377722, -88.51947556, -92.548828, -82.68743944, -98.49189333, -78.88, -91.48507194, -90.70916722, -92.49798722, -90.348816, -108.54286110000001], \"marker\": {\"color\": [25129, 21925, 20662, 17290, 13781, 13223, 12016, 11797, 10536, 10490, 9898, 9182, 8678, 8523, 7965, 7690, 7541, 7392, 6979, 6779, 6233, 6204, 6044, 5945, 5907, 5627, 4943, 4749, 4616, 4432, 4367, 4332, 4071, 4057, 3972, 3896, 3824, 3654, 3616, 3403, 3386, 3180, 3058, 3030, 3015, 3005, 2786, 2136, 2104, 2104, 2044, 2003, 1986, 1752, 1716, 1622, 1620, 1502, 1474, 1439, 1337, 1327, 1310, 1299, 1258, 1224, 1206, 1199, 1162, 1103, 1095, 1052, 1040, 1035, 1006, 956, 953, 949, 932, 926, 880, 840, 818, 800, 785, 768, 747, 711, 708, 702, 686, 686, 675, 664, 658, 656, 653, 627, 611, 608, 582, 572, 562, 553, 540, 538, 529, 524, 518, 516, 479, 472, 460, 451, 448, 445, 426, 414, 410, 410, 409, 408, 404, 404, 396, 393, 382, 381, 379, 347, 346, 338, 333, 328, 324, 324, 319, 314, 310, 306, 301, 296, 295, 288, 285, 280, 270, 270, 264, 264, 258, 248, 248, 246, 245, 225, 216, 216, 214, 212, 210, 208, 208, 201, 199, 168, 168, 168, 168, 168, 168, 159, 158, 158, 156, 146, 144, 140, 127, 114, 112, 112, 112, 112, 112, 112, 112, 112, 112, 110, 108, 108, 104, 104, 104, 104, 102, 96, 93, 91, 90, 74, 72, 60, 58, 56, 56, 56, 56, 56, 56, 56, 56, 52, 50, 50, 48, 48, 37, 32, 23]}, \"mode\": \"markers\", \"text\": [\"Chicago O'Hare InternationalChicago, ILArrivals: 25129\", \"William B Hartsfield-Atlanta IntlAtlanta, GAArrivals: 21925\", \"Dallas-Fort Worth InternationalDallas-Fort Worth, TXArrivals: 20662\", \"Phoenix Sky Harbor InternationalPhoenix, AZArrivals: 17290\", \"Denver IntlDenver, COArrivals: 13781\", \"George Bush IntercontinentalHouston, TXArrivals: 13223\", \"San Francisco InternationalSan Francisco, CAArrivals: 12016\", \"Los Angeles InternationalLos Angeles, CAArrivals: 11797\", \"Orlando InternationalOrlando, FLArrivals: 10536\", \"Charlotte/Douglas InternationalCharlotte, NCArrivals: 10490\", \"Salt Lake City IntlSalt Lake City, UTArrivals: 9898\", \"Tampa International Tampa, FLArrivals: 9182\", \"Newark IntlNewark, NJArrivals: 8678\", \"McCarran InternationalLas Vegas, NVArrivals: 8523\", \"Philadelphia IntlPhiladelphia, PAArrivals: 7965\", \"Minneapolis-St Paul IntlMinneapolis, MNArrivals: 7690\", \"Seattle-Tacoma IntlSeattle, WAArrivals: 7541\", \"LaGuardiaNew York, NYArrivals: 7392\", \"Chicago MidwayChicago, ILArrivals: 6979\", \"Washington Dulles InternationalChantilly, VAArrivals: 6779\", \"San Diego International-Lindbergh San Diego, CAArrivals: 6233\", \"Lambert-St Louis InternationalSt Louis, MOArrivals: 6204\", \"Detroit Metropolitan-Wayne CountyDetroit, MIArrivals: 6044\", \"John F Kennedy IntlNew York, NYArrivals: 5945\", \"Miami InternationalMiami, FLArrivals: 5907\", \"Gen Edw L Logan IntlBoston, MAArrivals: 5627\", \"Sacramento InternationalSacramento, CAArrivals: 4943\", \"Baltimore-Washington InternationalBaltimore, MDArrivals: 4749\", \"John Wayne /Orange CoSanta Ana, CAArrivals: 4616\", \"New Orleans International New Orleans, LAArrivals: 4432\", \"San Jose InternationalSan Jose, CAArrivals: 4367\", \"Ronald Reagan Washington NationalArlington, VAArrivals: 4332\", \"Portland IntlPortland, ORArrivals: 4071\", \"Southwest Florida InternationalFt. Myers, FLArrivals: 4057\", \"Palm Beach InternationalWest Palm Beach, FLArrivals: 3972\", \"Raleigh-Durham InternationalRaleigh, NCArrivals: 3896\", \"William P HobbyHouston, TXArrivals: 3824\", \"San Antonio InternationalSan Antonio, TXArrivals: 3654\", \"Fort Lauderdale-Hollywood Int'lFt. Lauderdale, FLArrivals: 3616\", \"Kansas City InternationalKansas City, MOArrivals: 3403\", \"Metropolitan Oakland InternationalOakland, CAArrivals: 3386\", \"Pittsburgh InternationalPittsburgh, PAArrivals: 3180\", \"Memphis InternationalMemphis, TNArrivals: 3058\", \"General Mitchell InternationalMilwaukee, WIArrivals: 3030\", \"Cleveland-Hopkins IntlCleveland, OHArrivals: 3015\", \"Jacksonville InternationalJacksonville, FLArrivals: 3005\", \"Tucson InternationalTucson, AZArrivals: 2786\", \"Indianapolis InternationalIndianapolis, INArrivals: 2136\", \"Reno/Tahoe InternationalReno, NVArrivals: 2104\", \"Will Rogers WorldOklahoma City, OKArrivals: 2104\", \"Theodore F Green StateProvidence, RIArrivals: 2044\", \"Tulsa InternationalTulsa, OKArrivals: 2003\", \"Cincinnati Northern Kentucky IntlCovington, KYArrivals: 1986\", \"Port Columbus IntlColumbus, OHArrivals: 1752\", \"Louisville International-Standiford Louisville, KYArrivals: 1716\", \"Ontario InternationalOntario, CAArrivals: 1622\", \"Adams Little Rock, ARArrivals: 1620\", \"Dallas Love Dallas, TXArrivals: 1502\", \"Eppley AirfieldOmaha, NEArrivals: 1474\", \"Norfolk InternationalNorfolk, VAArrivals: 1439\", \"James M Cox Dayton IntlDayton, OHArrivals: 1337\", \"Greater Rochester Int'lRochester, NYArrivals: 1327\", \"Northwest Arkansas RegionalFayetteville/Springdale/Rogers, ARArrivals: 1310\", \"Nashville InternationalNashville, TNArrivals: 1299\", \"Albuquerque InternationalAlbuquerque, NMArrivals: 1258\", \"Jackson InternationalJackson, MSArrivals: 1224\", \"El Paso InternationalEl Paso, TXArrivals: 1206\", \"Richmond InternationalRichmond, VAArrivals: 1199\", \"Bradley InternationalWindsor Locks, CTArrivals: 1162\", \"Midland InternationalMidland, TXArrivals: 1103\", \"Baton Rouge Metropolitan, Ryan Baton Rouge, LAArrivals: 1095\", \"McGhee-TysonKnoxville, TNArrivals: 1052\", \"City of Colorado Springs MuniColorado Springs, COArrivals: 1040\", \"Pensacola RegionalPensacola, FLArrivals: 1035\", \"Syracuse-Hancock IntlSyracuse, NYArrivals: 1006\", \"Birmingham InternationalBirmingham, ALArrivals: 956\", \"ManchesterManchester, NHArrivals: 953\", \"Palm Springs InternationalPalm Springs, CAArrivals: 949\", \"Sarasota Bradenton InternationalSarasota, FLArrivals: 932\", \"Corpus Christi InternationalCorpus Christi, TXArrivals: 926\", \"Huntsville International Huntsville, ALArrivals: 880\", \"Columbia MetropolitanColumbia, SCArrivals: 840\", \"Lafayette RegionalLafayette, LAArrivals: 818\", \"Santa Barbara MunicipalSanta Barbara, CAArrivals: 800\", \"Spokane IntlSpokane, WAArrivals: 785\", \"Mobile RegionalMobile, ALArrivals: 768\", \"Wichita Mid-ContinentWichita, KSArrivals: 747\", \"Buffalo Niagara IntlBuffalo, NYArrivals: 711\", \"Des Moines InternationalDes Moines, IAArrivals: 708\", \"Harrisburg IntlHarrisburg, PAArrivals: 702\", \"Portland International JetportPortland, MEArrivals: 686\", \"Montgomery Regional AptMontgomery, ALArrivals: 686\", \"Newport News/Williamsburg InternationalNewport News, VAArrivals: 675\", \"Westchester CtyWhite Plains, NYArrivals: 664\", \"Monterey PeninsulaMonterey, CAArrivals: 658\", \"Kent County InternationalGrand Rapids, MIArrivals: 656\", \"Florida BeachBeaches, FLArrivals: 653\", \"Yuma MCAS-Yuma InternationalYuma, AZArrivals: 627\", \"Aspen-Pitkin Co/Sardy Aspen, COArrivals: 611\", \"Tallahassee RegionalTallahassee, FLArrivals: 608\", \"Gulfport-Biloxi RegionalGulfport-Biloxi, MSArrivals: 582\", \"Rapid City RegionalRapid City, SDArrivals: 572\", \"Long Beach (Daugherty )Long Beach, CAArrivals: 562\", \"Wilmington InternationalWilmington, NCArrivals: 553\", \"Blue Grass Lexington, KYArrivals: 540\", \"Dane County RegionalMadison, WIArrivals: 538\", \"Mahlon Sweet Eugene, ORArrivals: 529\", \"Savannah InternationalSavannah, GAArrivals: 524\", \"Lubbock InternationalLubbock, TXArrivals: 518\", \"Eastern Iowa Cedar Rapids, IAArrivals: 516\", \"Greenville-SpartanburgGreer, SCArrivals: 479\", \"Piedmont Triad InternationalGreensboro, NCArrivals: 472\", \"Long Island - MacArthurIslip, NYArrivals: 460\", \"Quad CityMoline, ILArrivals: 451\", \"Asheville RegionalAsheville, NCArrivals: 448\", \"Akron-Canton RegionalAkron, OHArrivals: 445\", \"Central Illinois RegionalBloomington, ILArrivals: 426\", \"Valley InternationalHarlingen, TXArrivals: 414\", \"Eglin Air Force BaseValparaiso, FLArrivals: 410\", \"Shreveport RegionalShreveport, LAArrivals: 410\", \"Hector InternationalFargo, NDArrivals: 409\", \"Yampa ValleyHayden, COArrivals: 408\", \"Rogue Valley InternationalMedford, ORArrivals: 404\", \"Greater Peoria RegionalPeoria, ILArrivals: 404\", \"Laredo InternationalLaredo, TXArrivals: 396\", \"Austin-Bergstrom InternationalAustin, TXArrivals: 393\", \"Abilene RegionalAbilene, TXArrivals: 382\", \"Springfield-Branson RegionalSpringfield, MOArrivals: 381\", \"BishopFlint, MIArrivals: 379\", \"Tri-Cities RegionalBristol, TNArrivals: 347\", \"Robert Gray AAFKilleen, TXArrivals: 346\", \"Charleston AFB/InternationalCharleston, SCArrivals: 338\", \"Austin Straubel InternationalGreen Bay, WIArrivals: 333\", \"Roberts Redmond, ORArrivals: 328\", \"Columbus MetropolitanColumbus, GAArrivals: 324\", \"South Bend RegionalSouth Bend, INArrivals: 324\", \"Boise Air TerminalBoise, IDArrivals: 319\", \"Myrtle Beach InternationalMyrtle Beach, SCArrivals: 314\", \"Minot InternationalMinot, NDArrivals: 310\", \"University of Illinois-WillardChampaign/Urbana, ILArrivals: 306\", \"Roanoke Regional/ Woodrum Roanoke, VAArrivals: 301\", \"Eagle County RegionalEagle, COArrivals: 296\", \"Jackson HoleJackson, WYArrivals: 295\", \"Gallatin Bozeman, MTArrivals: 288\", \"Walker Grand Junction, COArrivals: 285\", \"Burbank-Glendale-PasadenaBurbank, CAArrivals: 280\", \"Evansville RegionalEvansville, INArrivals: 270\", \"Gunnison CountyGunnison, COArrivals: 270\", \"Idaho Falls RegionalIdaho Falls, IDArrivals: 264\", \"Fresno Yosemite InternationalFresno, CAArrivals: 264\", \"CapitalSpringfield, ILArrivals: 258\", \"McAllen Miller InternationalMcAllen, TXArrivals: 248\", \"Redding MunicipalRedding, CAArrivals: 248\", \"Grand Forks InternationalGrand Forks, NDArrivals: 246\", \"Joe Foss Sioux Falls, SDArrivals: 245\", \"Joslin Field - Magic ValleyTwin Falls, IDArrivals: 225\", \"Santa Maria Pub/Capt G Allan Hancock Santa Maria, CAArrivals: 216\", \"Pocatello RegionalPocatello, IDArrivals: 216\", \"Dothan Dothan, ALArrivals: 214\", \"Albert J EllisJacksonville, NCArrivals: 212\", \"Montrose RegionalMontrose, COArrivals: 210\", \"Bismarck MunicipalBismarck, NDArrivals: 208\", \"Natrona County IntlCasper, WYArrivals: 208\", \"Cherry CapitalTraverse City, MIArrivals: 201\", \"Monroe RegionalMonroe, LAArrivals: 199\", \"Tri-CitiesPasco, WAArrivals: 168\", \"Manhattan RegionalManhattan, KSArrivals: 168\", \"Alexandria InternationalAlexandria, LAArrivals: 168\", \"North Bend MuniNorth Bend, ORArrivals: 168\", \"Santa Fe MunicipalSanta Fe, NMArrivals: 168\", \"Klamath Falls InternationalKlamath Falls, ORArrivals: 168\", \"StewartNewburgh, NYArrivals: 159\", \"Charlottesville-AlbermarleCharlottesville, VAArrivals: 158\", \"Valdosta RegionalValdosta, GAArrivals: 158\", \"Central WisconsinMosinee, WIArrivals: 156\", \"InyokernInyokern, CAArrivals: 146\", \"ArcataArcata/Eureka, CAArrivals: 144\", \"Glynco JetportBrunswick, GAArrivals: 140\", \"Lincoln MunicipalLincoln, NEArrivals: 127\", \"Fort Wayne InternationalFort Wayne, INArrivals: 114\", \"Yellowstone RegionalCody, WYArrivals: 112\", \"Barkley RegionalPaducah, KYArrivals: 112\", \"San Luis Obispo Co-McChesney San Luis Obispo, CAArrivals: 112\", \"Wilkes-Barre/Scranton IntlWilkes-Barre/Scranton, PAArrivals: 112\", \"Golden Triangle RegionalColumbus-Starkville-West Point, MSArrivals: 112\", \"Gillette-Campbell CountyGillette, WYArrivals: 112\", \"Craven County RegionalNew Bern, NCArrivals: 112\", \"Bush Augusta, GAArrivals: 112\", \"Fort Smith RegionalFort Smith, ARArrivals: 112\", \"Tyler Pounds Tyler, TXArrivals: 110\", \"Helena RegionalHelena, MTArrivals: 108\", \"Great Falls IntlGreat Falls, MTArrivals: 108\", \"Key Meridian, MSArrivals: 104\", null, \"Telluride RegionalTelluride, COArrivals: 104\", \"Lovell Chattanooga, TNArrivals: 104\", \"Lewiston-Nez Perce CountyLewiston, IDArrivals: 102\", \"Cedar City MuniCedar City, UTArrivals: 96\", \"Albany CtyAlbany, NYArrivals: 93\", \"Burlington InternationalBurlington, VTArrivals: 91\", \"Glacier Park IntlKalispell, MTArrivals: 90\", \"Melbourne International Melbourne, FLArrivals: 74\", \"Daytona Beach InternationalDaytona Beach, FLArrivals: 72\", \"Lehigh Valley InternationalAllentown, PAArrivals: 60\", \"Duluth InternationalDuluth, MNArrivals: 58\", \"CheyenneCheyenne, WYArrivals: 56\", \"Rock Springs-Sweetwater CountyRock Springs, WYArrivals: 56\", \"Greenbrier ValleyLewisburg, WVArrivals: 56\", \"YeagerCharleston, WVArrivals: 56\", \"Bellingham IntlBellingham, WAArrivals: 56\", \"Mammoth YosemiteMammoth Lakes, CAArrivals: 56\", \"Outagamie County RegionalAppleton, WIArrivals: 56\", \"Branson AirportHollister, MOArrivals: 56\", \"St. Petersburg-Clearwater InternationalSt. Petersburg, FLArrivals: 52\", \"Sheppard AFB/Wichita Falls MunicipalWichita Falls, TXArrivals: 50\", \"Fayetteville MunicipalFayetteville, NCArrivals: 50\", \"Chippewa Valley RegionalEau Claire, WIArrivals: 48\", \"Dubuque MunicipalDubuque, IAArrivals: 48\", \"Rochester InternationalRochester, MNArrivals: 37\", \"Tunica Municipal AirportTunica, MSArrivals: 32\", \"Billings Logan IntlBillings, MTArrivals: 23\"], \"type\": \"scattergeo\"}],\n",
       "                        {\"geo\": {\"scope\": \"usa\"}, \"template\": {\"data\": {\"bar\": [{\"error_x\": {\"color\": \"#2a3f5f\"}, \"error_y\": {\"color\": \"#2a3f5f\"}, \"marker\": {\"line\": {\"color\": \"#E5ECF6\", \"width\": 0.5}}, \"type\": \"bar\"}], \"barpolar\": [{\"marker\": {\"line\": {\"color\": \"#E5ECF6\", \"width\": 0.5}}, \"type\": \"barpolar\"}], \"carpet\": [{\"aaxis\": {\"endlinecolor\": \"#2a3f5f\", \"gridcolor\": \"white\", \"linecolor\": \"white\", \"minorgridcolor\": \"white\", \"startlinecolor\": \"#2a3f5f\"}, \"baxis\": {\"endlinecolor\": \"#2a3f5f\", \"gridcolor\": \"white\", \"linecolor\": \"white\", \"minorgridcolor\": \"white\", \"startlinecolor\": \"#2a3f5f\"}, \"type\": \"carpet\"}], \"choropleth\": [{\"colorbar\": {\"outlinewidth\": 0, \"ticks\": \"\"}, \"type\": \"choropleth\"}], \"contour\": [{\"colorbar\": {\"outlinewidth\": 0, \"ticks\": \"\"}, \"colorscale\": [[0.0, \"#0d0887\"], [0.1111111111111111, \"#46039f\"], [0.2222222222222222, \"#7201a8\"], [0.3333333333333333, \"#9c179e\"], [0.4444444444444444, \"#bd3786\"], [0.5555555555555556, \"#d8576b\"], [0.6666666666666666, \"#ed7953\"], [0.7777777777777778, \"#fb9f3a\"], [0.8888888888888888, \"#fdca26\"], [1.0, \"#f0f921\"]], \"type\": \"contour\"}], \"contourcarpet\": [{\"colorbar\": {\"outlinewidth\": 0, \"ticks\": \"\"}, \"type\": \"contourcarpet\"}], \"heatmap\": [{\"colorbar\": {\"outlinewidth\": 0, \"ticks\": \"\"}, \"colorscale\": [[0.0, \"#0d0887\"], [0.1111111111111111, \"#46039f\"], [0.2222222222222222, \"#7201a8\"], [0.3333333333333333, \"#9c179e\"], [0.4444444444444444, \"#bd3786\"], [0.5555555555555556, \"#d8576b\"], [0.6666666666666666, \"#ed7953\"], [0.7777777777777778, \"#fb9f3a\"], [0.8888888888888888, \"#fdca26\"], [1.0, \"#f0f921\"]], \"type\": \"heatmap\"}], \"heatmapgl\": [{\"colorbar\": {\"outlinewidth\": 0, \"ticks\": \"\"}, \"colorscale\": [[0.0, \"#0d0887\"], [0.1111111111111111, \"#46039f\"], [0.2222222222222222, \"#7201a8\"], [0.3333333333333333, \"#9c179e\"], [0.4444444444444444, \"#bd3786\"], [0.5555555555555556, \"#d8576b\"], [0.6666666666666666, \"#ed7953\"], [0.7777777777777778, \"#fb9f3a\"], [0.8888888888888888, \"#fdca26\"], [1.0, \"#f0f921\"]], \"type\": \"heatmapgl\"}], \"histogram\": [{\"marker\": {\"colorbar\": {\"outlinewidth\": 0, \"ticks\": \"\"}}, \"type\": \"histogram\"}], \"histogram2d\": [{\"colorbar\": {\"outlinewidth\": 0, \"ticks\": \"\"}, \"colorscale\": [[0.0, \"#0d0887\"], [0.1111111111111111, \"#46039f\"], [0.2222222222222222, \"#7201a8\"], [0.3333333333333333, \"#9c179e\"], [0.4444444444444444, \"#bd3786\"], [0.5555555555555556, \"#d8576b\"], [0.6666666666666666, \"#ed7953\"], [0.7777777777777778, \"#fb9f3a\"], [0.8888888888888888, \"#fdca26\"], [1.0, \"#f0f921\"]], \"type\": \"histogram2d\"}], \"histogram2dcontour\": [{\"colorbar\": {\"outlinewidth\": 0, \"ticks\": \"\"}, \"colorscale\": [[0.0, \"#0d0887\"], [0.1111111111111111, \"#46039f\"], [0.2222222222222222, \"#7201a8\"], [0.3333333333333333, \"#9c179e\"], [0.4444444444444444, \"#bd3786\"], [0.5555555555555556, \"#d8576b\"], [0.6666666666666666, \"#ed7953\"], [0.7777777777777778, \"#fb9f3a\"], [0.8888888888888888, \"#fdca26\"], [1.0, \"#f0f921\"]], \"type\": \"histogram2dcontour\"}], \"mesh3d\": [{\"colorbar\": {\"outlinewidth\": 0, \"ticks\": \"\"}, \"type\": \"mesh3d\"}], \"parcoords\": [{\"line\": {\"colorbar\": {\"outlinewidth\": 0, \"ticks\": \"\"}}, \"type\": \"parcoords\"}], \"pie\": [{\"automargin\": true, \"type\": \"pie\"}], \"scatter\": [{\"marker\": {\"colorbar\": {\"outlinewidth\": 0, \"ticks\": \"\"}}, \"type\": \"scatter\"}], \"scatter3d\": [{\"line\": {\"colorbar\": {\"outlinewidth\": 0, \"ticks\": \"\"}}, \"marker\": {\"colorbar\": {\"outlinewidth\": 0, \"ticks\": \"\"}}, \"type\": \"scatter3d\"}], \"scattercarpet\": [{\"marker\": {\"colorbar\": {\"outlinewidth\": 0, \"ticks\": \"\"}}, \"type\": \"scattercarpet\"}], \"scattergeo\": [{\"marker\": {\"colorbar\": {\"outlinewidth\": 0, \"ticks\": \"\"}}, \"type\": \"scattergeo\"}], \"scattergl\": [{\"marker\": {\"colorbar\": {\"outlinewidth\": 0, \"ticks\": \"\"}}, \"type\": \"scattergl\"}], \"scattermapbox\": [{\"marker\": {\"colorbar\": {\"outlinewidth\": 0, \"ticks\": \"\"}}, \"type\": \"scattermapbox\"}], \"scatterpolar\": [{\"marker\": {\"colorbar\": {\"outlinewidth\": 0, \"ticks\": \"\"}}, \"type\": \"scatterpolar\"}], \"scatterpolargl\": [{\"marker\": {\"colorbar\": {\"outlinewidth\": 0, \"ticks\": \"\"}}, \"type\": \"scatterpolargl\"}], \"scatterternary\": [{\"marker\": {\"colorbar\": {\"outlinewidth\": 0, \"ticks\": \"\"}}, \"type\": \"scatterternary\"}], \"surface\": [{\"colorbar\": {\"outlinewidth\": 0, \"ticks\": \"\"}, \"colorscale\": [[0.0, \"#0d0887\"], [0.1111111111111111, \"#46039f\"], [0.2222222222222222, \"#7201a8\"], [0.3333333333333333, \"#9c179e\"], [0.4444444444444444, \"#bd3786\"], [0.5555555555555556, \"#d8576b\"], [0.6666666666666666, \"#ed7953\"], [0.7777777777777778, \"#fb9f3a\"], [0.8888888888888888, \"#fdca26\"], [1.0, \"#f0f921\"]], \"type\": \"surface\"}], \"table\": [{\"cells\": {\"fill\": {\"color\": \"#EBF0F8\"}, \"line\": {\"color\": \"white\"}}, \"header\": {\"fill\": {\"color\": \"#C8D4E3\"}, \"line\": {\"color\": \"white\"}}, \"type\": \"table\"}]}, \"layout\": {\"annotationdefaults\": {\"arrowcolor\": \"#2a3f5f\", \"arrowhead\": 0, \"arrowwidth\": 1}, \"coloraxis\": {\"colorbar\": {\"outlinewidth\": 0, \"ticks\": \"\"}}, \"colorscale\": {\"diverging\": [[0, \"#8e0152\"], [0.1, \"#c51b7d\"], [0.2, \"#de77ae\"], [0.3, \"#f1b6da\"], [0.4, \"#fde0ef\"], [0.5, \"#f7f7f7\"], [0.6, \"#e6f5d0\"], [0.7, \"#b8e186\"], [0.8, \"#7fbc41\"], [0.9, \"#4d9221\"], [1, \"#276419\"]], \"sequential\": [[0.0, \"#0d0887\"], [0.1111111111111111, \"#46039f\"], [0.2222222222222222, \"#7201a8\"], [0.3333333333333333, \"#9c179e\"], [0.4444444444444444, \"#bd3786\"], [0.5555555555555556, \"#d8576b\"], [0.6666666666666666, \"#ed7953\"], [0.7777777777777778, \"#fb9f3a\"], [0.8888888888888888, \"#fdca26\"], [1.0, \"#f0f921\"]], \"sequentialminus\": [[0.0, \"#0d0887\"], [0.1111111111111111, \"#46039f\"], [0.2222222222222222, \"#7201a8\"], [0.3333333333333333, \"#9c179e\"], [0.4444444444444444, \"#bd3786\"], [0.5555555555555556, \"#d8576b\"], [0.6666666666666666, \"#ed7953\"], [0.7777777777777778, \"#fb9f3a\"], [0.8888888888888888, \"#fdca26\"], [1.0, \"#f0f921\"]]}, \"colorway\": [\"#636efa\", \"#EF553B\", \"#00cc96\", \"#ab63fa\", \"#FFA15A\", \"#19d3f3\", \"#FF6692\", \"#B6E880\", \"#FF97FF\", \"#FECB52\"], \"font\": {\"color\": \"#2a3f5f\"}, \"geo\": {\"bgcolor\": \"white\", \"lakecolor\": \"white\", \"landcolor\": \"#E5ECF6\", \"showlakes\": true, \"showland\": true, \"subunitcolor\": \"white\"}, \"hoverlabel\": {\"align\": \"left\"}, \"hovermode\": \"closest\", \"mapbox\": {\"style\": \"light\"}, \"paper_bgcolor\": \"white\", \"plot_bgcolor\": \"#E5ECF6\", \"polar\": {\"angularaxis\": {\"gridcolor\": \"white\", \"linecolor\": \"white\", \"ticks\": \"\"}, \"bgcolor\": \"#E5ECF6\", \"radialaxis\": {\"gridcolor\": \"white\", \"linecolor\": \"white\", \"ticks\": \"\"}}, \"scene\": {\"xaxis\": {\"backgroundcolor\": \"#E5ECF6\", \"gridcolor\": \"white\", \"gridwidth\": 2, \"linecolor\": \"white\", \"showbackground\": true, \"ticks\": \"\", \"zerolinecolor\": \"white\"}, \"yaxis\": {\"backgroundcolor\": \"#E5ECF6\", \"gridcolor\": \"white\", \"gridwidth\": 2, \"linecolor\": \"white\", \"showbackground\": true, \"ticks\": \"\", \"zerolinecolor\": \"white\"}, \"zaxis\": {\"backgroundcolor\": \"#E5ECF6\", \"gridcolor\": \"white\", \"gridwidth\": 2, \"linecolor\": \"white\", \"showbackground\": true, \"ticks\": \"\", \"zerolinecolor\": \"white\"}}, \"shapedefaults\": {\"line\": {\"color\": \"#2a3f5f\"}}, \"ternary\": {\"aaxis\": {\"gridcolor\": \"white\", \"linecolor\": \"white\", \"ticks\": \"\"}, \"baxis\": {\"gridcolor\": \"white\", \"linecolor\": \"white\", \"ticks\": \"\"}, \"bgcolor\": \"#E5ECF6\", \"caxis\": {\"gridcolor\": \"white\", \"linecolor\": \"white\", \"ticks\": \"\"}}, \"title\": {\"x\": 0.05}, \"xaxis\": {\"automargin\": true, \"gridcolor\": \"white\", \"linecolor\": \"white\", \"ticks\": \"\", \"title\": {\"standoff\": 15}, \"zerolinecolor\": \"white\", \"zerolinewidth\": 2}, \"yaxis\": {\"automargin\": true, \"gridcolor\": \"white\", \"linecolor\": \"white\", \"ticks\": \"\", \"title\": {\"standoff\": 15}, \"zerolinecolor\": \"white\", \"zerolinewidth\": 2}}}, \"title\": {\"text\": \"Most trafficked US airports<br>(Hover for airport names)\"}},\n",
       "                        {\"responsive\": true}\n",
       "                    ).then(function(){\n",
       "                            \n",
       "var gd = document.getElementById('e961a614-e7d2-4411-8558-029b758371f1');\n",
       "var x = new MutationObserver(function (mutations, observer) {{\n",
       "        var display = window.getComputedStyle(gd).display;\n",
       "        if (!display || display === 'none') {{\n",
       "            console.log([gd, 'removed!']);\n",
       "            Plotly.purge(gd);\n",
       "            observer.disconnect();\n",
       "        }}\n",
       "}});\n",
       "\n",
       "// Listen for the removal of the full notebook cells\n",
       "var notebookContainer = gd.closest('#notebook-container');\n",
       "if (notebookContainer) {{\n",
       "    x.observe(notebookContainer, {childList: true});\n",
       "}}\n",
       "\n",
       "// Listen for the clearing of the current output cell\n",
       "var outputEl = gd.closest('.output');\n",
       "if (outputEl) {{\n",
       "    x.observe(outputEl, {childList: true});\n",
       "}}\n",
       "\n",
       "                        })\n",
       "                };\n",
       "                });\n",
       "            </script>\n",
       "        </div>"
      ]
     },
     "metadata": {},
     "output_type": "display_data"
    }
   ],
   "source": [
    "import plotly.graph_objects as go\n",
    "\n",
    "import pandas as pd\n",
    "\n",
    "df = pd.read_csv('https://raw.githubusercontent.com/plotly/datasets/master/2011_february_us_airport_traffic.csv')\n",
    "df['text'] = df['airport'] + '' + df['city'] + ', ' + df['state'] + '' + 'Arrivals: ' + df['cnt'].astype(str)\n",
    "\n",
    "fig = go.Figure(data=go.Scattergeo(\n",
    "        lon = df['long'],\n",
    "        lat = df['lat'],\n",
    "        text = df['text'],\n",
    "        mode = 'markers',\n",
    "        marker_color = df['cnt'],\n",
    "        ))\n",
    "\n",
    "fig.update_layout(\n",
    "        title = 'Most trafficked US airports<br>(Hover for airport names)',\n",
    "        geo_scope='usa',\n",
    "    )\n",
    "fig.show()"
   ]
  },
  {
   "cell_type": "markdown",
   "metadata": {},
   "source": [
    "## Nyarai"
   ]
  },
  {
   "cell_type": "code",
   "execution_count": 38,
   "metadata": {},
   "outputs": [],
   "source": [
    "#connect to a local db\n",
    "rds_connection_string = \"postgres:postgres@localhost:5432/aliens\"\n",
    "engine = create_engine(f'postgresql://{rds_connection_string}')"
   ]
  },
  {
   "cell_type": "code",
   "execution_count": 39,
   "metadata": {},
   "outputs": [
    {
     "data": {
      "text/plain": [
       "['aliens_sighting']"
      ]
     },
     "execution_count": 39,
     "metadata": {},
     "output_type": "execute_result"
    }
   ],
   "source": [
    "engine.table_names()"
   ]
  },
  {
   "cell_type": "code",
   "execution_count": 41,
   "metadata": {},
   "outputs": [],
   "source": [
    "#aliens_pd.to_sql(name='aliens_sighting', con=engine, if_exists='append', index=False)"
   ]
  },
  {
   "cell_type": "code",
   "execution_count": 42,
   "metadata": {},
   "outputs": [
    {
     "name": "stdout",
     "output_type": "stream",
     "text": [
      "<class 'pandas.core.frame.DataFrame'>\n",
      "Int64Index: 46 entries, 2 to 147\n",
      "Data columns (total 6 columns):\n",
      "Station         46 non-null object\n",
      "Units           46 non-null object\n",
      "Capacity_MWe    46 non-null object\n",
      "Country         46 non-null object\n",
      "Latitude        46 non-null float64\n",
      "Longitude       46 non-null float64\n",
      "dtypes: float64(2), object(4)\n",
      "memory usage: 2.5+ KB\n"
     ]
    }
   ],
   "source": [
    "us.info()"
   ]
  },
  {
   "cell_type": "code",
   "execution_count": 43,
   "metadata": {},
   "outputs": [],
   "source": [
    "us.to_sql(name='us_nuclear_sites', con=engine, if_exists='append', index=False)"
   ]
  },
  {
   "cell_type": "code",
   "execution_count": 44,
   "metadata": {},
   "outputs": [],
   "source": [
    "military_base_df.to_sql(name='military_bases', con=engine, if_exists='append', index=False)"
   ]
  },
  {
   "cell_type": "code",
   "execution_count": 45,
   "metadata": {},
   "outputs": [
    {
     "data": {
      "text/html": [
       "<div>\n",
       "<style scoped>\n",
       "    .dataframe tbody tr th:only-of-type {\n",
       "        vertical-align: middle;\n",
       "    }\n",
       "\n",
       "    .dataframe tbody tr th {\n",
       "        vertical-align: top;\n",
       "    }\n",
       "\n",
       "    .dataframe thead th {\n",
       "        text-align: right;\n",
       "    }\n",
       "</style>\n",
       "<table border=\"1\" class=\"dataframe\">\n",
       "  <thead>\n",
       "    <tr style=\"text-align: right;\">\n",
       "      <th></th>\n",
       "      <th>Date / Time</th>\n",
       "      <th>City</th>\n",
       "      <th>State</th>\n",
       "      <th>Shape</th>\n",
       "      <th>Duration</th>\n",
       "      <th>Summary</th>\n",
       "      <th>Posted</th>\n",
       "      <th>Lat</th>\n",
       "      <th>Lng</th>\n",
       "    </tr>\n",
       "  </thead>\n",
       "  <tbody>\n",
       "    <tr>\n",
       "      <td>0</td>\n",
       "      <td>2/24/20 12:45</td>\n",
       "      <td>Chester</td>\n",
       "      <td>NH</td>\n",
       "      <td>Disk</td>\n",
       "      <td>~1 minute</td>\n",
       "      <td>12:45 PM-shiny, disk/saucer shape seen in dayl...</td>\n",
       "      <td>2/25/20</td>\n",
       "      <td></td>\n",
       "      <td></td>\n",
       "    </tr>\n",
       "    <tr>\n",
       "      <td>1</td>\n",
       "      <td>2/24/20 06:00</td>\n",
       "      <td>Medford</td>\n",
       "      <td>OR</td>\n",
       "      <td>Formation</td>\n",
       "      <td>5 minutes</td>\n",
       "      <td>20 lights in formation across sky. ((\"Starlink...</td>\n",
       "      <td>2/25/20</td>\n",
       "      <td></td>\n",
       "      <td></td>\n",
       "    </tr>\n",
       "    <tr>\n",
       "      <td>2</td>\n",
       "      <td>2/24/20 05:45</td>\n",
       "      <td>Medford</td>\n",
       "      <td>OR</td>\n",
       "      <td>Other</td>\n",
       "      <td>10 minutes</td>\n",
       "      <td>AT 545 AM I LOOKED UP AND SAID WHAT THE HELL I...</td>\n",
       "      <td>2/25/20</td>\n",
       "      <td></td>\n",
       "      <td></td>\n",
       "    </tr>\n",
       "    <tr>\n",
       "      <td>3</td>\n",
       "      <td>2/24/20 05:30</td>\n",
       "      <td>Charlestown</td>\n",
       "      <td>RI</td>\n",
       "      <td>Light</td>\n",
       "      <td>2-3 minutes</td>\n",
       "      <td>light moving at a high rate of speed</td>\n",
       "      <td>2/25/20</td>\n",
       "      <td></td>\n",
       "      <td></td>\n",
       "    </tr>\n",
       "    <tr>\n",
       "      <td>4</td>\n",
       "      <td>2/24/20 05:21</td>\n",
       "      <td>Edison</td>\n",
       "      <td>NJ</td>\n",
       "      <td>Light</td>\n",
       "      <td>25 seconds</td>\n",
       "      <td>DURING ISS PASS VIEWING SMALL OBJECT APPEARS T...</td>\n",
       "      <td>2/25/20</td>\n",
       "      <td></td>\n",
       "      <td></td>\n",
       "    </tr>\n",
       "  </tbody>\n",
       "</table>\n",
       "</div>"
      ],
      "text/plain": [
       "     Date / Time         City State      Shape     Duration  \\\n",
       "0  2/24/20 12:45      Chester    NH       Disk    ~1 minute   \n",
       "1  2/24/20 06:00      Medford    OR  Formation    5 minutes   \n",
       "2  2/24/20 05:45      Medford    OR      Other   10 minutes   \n",
       "3  2/24/20 05:30  Charlestown    RI      Light  2-3 minutes   \n",
       "4  2/24/20 05:21       Edison    NJ      Light   25 seconds   \n",
       "\n",
       "                                             Summary   Posted Lat Lng  \n",
       "0  12:45 PM-shiny, disk/saucer shape seen in dayl...  2/25/20          \n",
       "1  20 lights in formation across sky. ((\"Starlink...  2/25/20          \n",
       "2  AT 545 AM I LOOKED UP AND SAID WHAT THE HELL I...  2/25/20          \n",
       "3               light moving at a high rate of speed  2/25/20          \n",
       "4  DURING ISS PASS VIEWING SMALL OBJECT APPEARS T...  2/25/20          "
      ]
     },
     "execution_count": 45,
     "metadata": {},
     "output_type": "execute_result"
    }
   ],
   "source": [
    "pd.read_sql_query('select * from aliens_sighting', con=engine).head()"
   ]
  },
  {
   "cell_type": "code",
   "execution_count": 46,
   "metadata": {},
   "outputs": [
    {
     "data": {
      "text/html": [
       "<div>\n",
       "<style scoped>\n",
       "    .dataframe tbody tr th:only-of-type {\n",
       "        vertical-align: middle;\n",
       "    }\n",
       "\n",
       "    .dataframe tbody tr th {\n",
       "        vertical-align: top;\n",
       "    }\n",
       "\n",
       "    .dataframe thead th {\n",
       "        text-align: right;\n",
       "    }\n",
       "</style>\n",
       "<table border=\"1\" class=\"dataframe\">\n",
       "  <thead>\n",
       "    <tr style=\"text-align: right;\">\n",
       "      <th></th>\n",
       "      <th>Station</th>\n",
       "      <th>Units</th>\n",
       "      <th>Capacity_MWe</th>\n",
       "      <th>Country</th>\n",
       "      <th>Latitude</th>\n",
       "      <th>Longitude</th>\n",
       "    </tr>\n",
       "  </thead>\n",
       "  <tbody>\n",
       "    <tr>\n",
       "      <td>0</td>\n",
       "      <td>ANO</td>\n",
       "      <td>2</td>\n",
       "      <td>1839</td>\n",
       "      <td>United States</td>\n",
       "      <td>35.31028</td>\n",
       "      <td>-93.23139</td>\n",
       "    </tr>\n",
       "    <tr>\n",
       "      <td>1</td>\n",
       "      <td>Beaver Valley</td>\n",
       "      <td>2</td>\n",
       "      <td>1738</td>\n",
       "      <td>United States</td>\n",
       "      <td>40.62333</td>\n",
       "      <td>-80.43056</td>\n",
       "    </tr>\n",
       "    <tr>\n",
       "      <td>2</td>\n",
       "      <td>Braidwood</td>\n",
       "      <td>2</td>\n",
       "      <td>2330</td>\n",
       "      <td>United States</td>\n",
       "      <td>41.24361</td>\n",
       "      <td>-88.22917</td>\n",
       "    </tr>\n",
       "    <tr>\n",
       "      <td>3</td>\n",
       "      <td>Browns Ferry</td>\n",
       "      <td>3</td>\n",
       "      <td>3300</td>\n",
       "      <td>United States</td>\n",
       "      <td>34.70389</td>\n",
       "      <td>-87.11861</td>\n",
       "    </tr>\n",
       "    <tr>\n",
       "      <td>4</td>\n",
       "      <td>Brunswick</td>\n",
       "      <td>2</td>\n",
       "      <td>1858</td>\n",
       "      <td>United States</td>\n",
       "      <td>33.95833</td>\n",
       "      <td>-78.01028</td>\n",
       "    </tr>\n",
       "  </tbody>\n",
       "</table>\n",
       "</div>"
      ],
      "text/plain": [
       "         Station Units Capacity_MWe        Country  Latitude  Longitude\n",
       "0            ANO     2         1839  United States  35.31028  -93.23139\n",
       "1  Beaver Valley     2         1738  United States  40.62333  -80.43056\n",
       "2      Braidwood     2         2330  United States  41.24361  -88.22917\n",
       "3   Browns Ferry     3         3300  United States  34.70389  -87.11861\n",
       "4      Brunswick     2         1858  United States  33.95833  -78.01028"
      ]
     },
     "execution_count": 46,
     "metadata": {},
     "output_type": "execute_result"
    }
   ],
   "source": [
    "pd.read_sql_query('select * from us_nuclear_sites', con=engine).head()"
   ]
  },
  {
   "cell_type": "code",
   "execution_count": 47,
   "metadata": {},
   "outputs": [
    {
     "data": {
      "text/html": [
       "<div>\n",
       "<style scoped>\n",
       "    .dataframe tbody tr th:only-of-type {\n",
       "        vertical-align: middle;\n",
       "    }\n",
       "\n",
       "    .dataframe tbody tr th {\n",
       "        vertical-align: top;\n",
       "    }\n",
       "\n",
       "    .dataframe thead th {\n",
       "        text-align: right;\n",
       "    }\n",
       "</style>\n",
       "<table border=\"1\" class=\"dataframe\">\n",
       "  <thead>\n",
       "    <tr style=\"text-align: right;\">\n",
       "      <th></th>\n",
       "      <th>Geo Point</th>\n",
       "      <th>OBJECTID</th>\n",
       "      <th>COMPONENT</th>\n",
       "      <th>Site Name</th>\n",
       "      <th>Joint Base</th>\n",
       "      <th>State Terr</th>\n",
       "      <th>COUNTRY</th>\n",
       "      <th>Oper Stat</th>\n",
       "      <th>Lat</th>\n",
       "      <th>Long</th>\n",
       "      <th>Type</th>\n",
       "    </tr>\n",
       "  </thead>\n",
       "  <tbody>\n",
       "    <tr>\n",
       "      <td>0</td>\n",
       "      <td>38.805160992, -76.8744374247</td>\n",
       "      <td>144</td>\n",
       "      <td>AF Active</td>\n",
       "      <td>Andrews AFB</td>\n",
       "      <td>Joint Base Andrews - Naval Air Facility Washin...</td>\n",
       "      <td>Maryland</td>\n",
       "      <td>United States</td>\n",
       "      <td>Active</td>\n",
       "      <td>38.805160992</td>\n",
       "      <td>-76.8744374247</td>\n",
       "      <td>Military Base</td>\n",
       "    </tr>\n",
       "    <tr>\n",
       "      <td>1</td>\n",
       "      <td>32.9631678645, -79.9639295206</td>\n",
       "      <td>113</td>\n",
       "      <td>AF Active</td>\n",
       "      <td>NWS Charleston</td>\n",
       "      <td>Joint Base Charleston</td>\n",
       "      <td>South Carolina</td>\n",
       "      <td>United States</td>\n",
       "      <td>Active</td>\n",
       "      <td>32.9631678645</td>\n",
       "      <td>-79.9639295206</td>\n",
       "      <td>Military Base</td>\n",
       "    </tr>\n",
       "    <tr>\n",
       "      <td>2</td>\n",
       "      <td>13.5179166878, 144.811096965</td>\n",
       "      <td>239</td>\n",
       "      <td>Navy Active</td>\n",
       "      <td>Tumon Tank Farm</td>\n",
       "      <td>Joint Region Marianas</td>\n",
       "      <td>Guam</td>\n",
       "      <td>Guam</td>\n",
       "      <td>Active</td>\n",
       "      <td>13.5179166878</td>\n",
       "      <td>144.811096965</td>\n",
       "      <td>Military Base</td>\n",
       "    </tr>\n",
       "    <tr>\n",
       "      <td>3</td>\n",
       "      <td>13.5867134229, 144.862326053</td>\n",
       "      <td>240</td>\n",
       "      <td>Navy Active</td>\n",
       "      <td>Potts Tank Farm</td>\n",
       "      <td>Joint Region Marianas</td>\n",
       "      <td>Guam</td>\n",
       "      <td>Guam</td>\n",
       "      <td>Active</td>\n",
       "      <td>13.5867134229</td>\n",
       "      <td>144.862326053</td>\n",
       "      <td>Military Base</td>\n",
       "    </tr>\n",
       "    <tr>\n",
       "      <td>4</td>\n",
       "      <td>38.8786170847, -77.075713083</td>\n",
       "      <td>718</td>\n",
       "      <td>Army Active</td>\n",
       "      <td>Fort Myer</td>\n",
       "      <td>Joint Base Myer - Henderson Hall</td>\n",
       "      <td>Virginia</td>\n",
       "      <td>United States</td>\n",
       "      <td>Active</td>\n",
       "      <td>38.8786170847</td>\n",
       "      <td>-77.075713083</td>\n",
       "      <td>Military Base</td>\n",
       "    </tr>\n",
       "  </tbody>\n",
       "</table>\n",
       "</div>"
      ],
      "text/plain": [
       "                       Geo Point  OBJECTID    COMPONENT        Site Name  \\\n",
       "0   38.805160992, -76.8744374247       144    AF Active      Andrews AFB   \n",
       "1  32.9631678645, -79.9639295206       113    AF Active   NWS Charleston   \n",
       "2   13.5179166878, 144.811096965       239  Navy Active  Tumon Tank Farm   \n",
       "3   13.5867134229, 144.862326053       240  Navy Active  Potts Tank Farm   \n",
       "4   38.8786170847, -77.075713083       718  Army Active        Fort Myer   \n",
       "\n",
       "                                          Joint Base      State Terr  \\\n",
       "0  Joint Base Andrews - Naval Air Facility Washin...        Maryland   \n",
       "1                              Joint Base Charleston  South Carolina   \n",
       "2                              Joint Region Marianas            Guam   \n",
       "3                              Joint Region Marianas            Guam   \n",
       "4                   Joint Base Myer - Henderson Hall        Virginia   \n",
       "\n",
       "         COUNTRY Oper Stat            Lat             Long           Type  \n",
       "0  United States    Active   38.805160992   -76.8744374247  Military Base  \n",
       "1  United States    Active  32.9631678645   -79.9639295206  Military Base  \n",
       "2           Guam    Active  13.5179166878    144.811096965  Military Base  \n",
       "3           Guam    Active  13.5867134229    144.862326053  Military Base  \n",
       "4  United States    Active  38.8786170847    -77.075713083  Military Base  "
      ]
     },
     "execution_count": 47,
     "metadata": {},
     "output_type": "execute_result"
    }
   ],
   "source": [
    "pd.read_sql_query('select * from military_bases', con=engine).head()"
   ]
  },
  {
   "cell_type": "code",
   "execution_count": null,
   "metadata": {},
   "outputs": [],
   "source": []
  }
 ],
 "metadata": {
  "kernelspec": {
   "display_name": "Python 3",
   "language": "python",
   "name": "python3"
  },
  "language_info": {
   "codemirror_mode": {
    "name": "ipython",
    "version": 3
   },
   "file_extension": ".py",
   "mimetype": "text/x-python",
   "name": "python",
   "nbconvert_exporter": "python",
   "pygments_lexer": "ipython3",
   "version": "3.6.10"
  }
 },
 "nbformat": 4,
 "nbformat_minor": 2
}
